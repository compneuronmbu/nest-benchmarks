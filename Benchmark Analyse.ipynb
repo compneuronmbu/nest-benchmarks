{
 "cells": [
  {
   "cell_type": "code",
   "execution_count": 25,
   "metadata": {},
   "outputs": [],
   "source": [
    "import pandas as pd\n",
    "import matplotlib.pyplot as plt\n",
    "import glob"
   ]
  },
  {
   "cell_type": "code",
   "execution_count": 47,
   "metadata": {},
   "outputs": [],
   "source": [
    "hpc_path = f'results/hpc_benchmark_2_16_1_daint_strict_thread_*.csv'\n",
    "\n",
    "hpc_split_path = f'results/hpc_benchmark_2_16_1_daint_strict_split_thread_*.csv'\n",
    "\n",
    "hpc_one_path = f'results/hpc_benchmark_2_16_1_daint_strict_one_thread_*.csv'\n",
    "hpc_all_path = f'results/hpc_benchmark_2_16_1_daint_strict_all_thread_*.csv'\n",
    "hpc_in_path = f'results/hpc_benchmark_2_16_1_daint_strict_in_thread_*.csv'\n",
    "hpc_out_path = f'results/hpc_benchmark_2_16_1_daint_strict_out_thread_*.csv'\n",
    "hpc_tot_path = f'results/hpc_benchmark_2_16_1_daint_strict_tot_thread_*.csv'\n",
    "hpc_bern_path = f'results/hpc_benchmark_2_16_1_daint_strict_bern_thread_*.csv'\n",
    "hpc_bern_sym_path = f'results/hpc_benchmark_2_16_1_daint_strict_bern-sym_thread_*.csv'\n",
    "\n",
    "mam_path = f'results/multi-area-model_2_16_1_daint_strict_thread_*.csv'\n",
    "\n",
    "mesocircuit_path = f'results/4x4_mesocircuit_2_16_1_daint_strict_thread_*.csv'"
   ]
  },
  {
   "cell_type": "markdown",
   "metadata": {},
   "source": [
    "# HPC benchmark"
   ]
  },
  {
   "cell_type": "code",
   "execution_count": 48,
   "metadata": {},
   "outputs": [],
   "source": [
    "hpc_res = pd.concat([pd.read_csv(bench)\n",
    "                     for bench in glob.glob(hpc_path)])"
   ]
  },
  {
   "cell_type": "code",
   "execution_count": 49,
   "metadata": {},
   "outputs": [
    {
     "name": "stdout",
     "output_type": "stream",
     "text": [
      "   NUMBER_OF_NODES  TASKS_PER_NODE  THREADS_PER_TASK  NUM_VPS  SCALE  PLASTIC  \\\n",
      "0                1               6                 4       24     20     True   \n",
      "1                2               6                 4       48     40     True   \n",
      "2                4               6                 4       96     80     True   \n",
      "3                8               6                 4      192    160     True   \n",
      "4               16               6                 4      384    320     True   \n",
      "0                1               2                12       24     20     True   \n",
      "1                2               2                12       48     40     True   \n",
      "2                4               2                12       96     80     True   \n",
      "3                8               2                12      192    160     True   \n",
      "4               16               2                12      384    320     True   \n",
      "\n",
      "   T_nrns  T_conns_min  T_conns_max  T_ini_min  T_ini_max  T_equ   T_sim  \\\n",
      "0    0.39        75.88        77.65      64.80      66.57  18.59  271.91   \n",
      "1    1.04        75.26        81.63      70.78      77.05  20.21  284.95   \n",
      "2    0.39        74.65        82.32      75.48      83.15  20.42  288.77   \n",
      "3    0.38        75.04        82.20      76.03      83.21  20.84  294.44   \n",
      "4    0.44        74.82        82.80      85.81      93.79  22.52  315.76   \n",
      "0    0.87       104.32       110.07     126.41     132.18  19.74  282.66   \n",
      "1    0.89       104.86       109.87     126.80     131.78  20.87  286.84   \n",
      "2    0.94       100.53       108.17     124.65     132.24  26.56  295.36   \n",
      "3    0.89       103.76       113.90     141.59     151.74  22.88  306.26   \n",
      "4    1.04       102.49       117.42     178.40     193.34  25.27  334.49   \n",
      "\n",
      "    VSize_sum  N_spks_sum  Rate_sum   N_nrns  N_conns_sum  d_min  d_max  \n",
      "0   104752416     1587550     7.100   225000   2531476000    1.5    1.5  \n",
      "1   214484464     3138865     6.870   450000   5062951000    1.5    1.5  \n",
      "2   428892040     6249051     6.804   900000  10125901000    1.5    1.5  \n",
      "3   904560024    12503580     6.879  1800000  20251801000    1.5    1.5  \n",
      "4   954598104    12464886     3.503  3600000  20251800520    1.5    1.5  \n",
      "0   101868648     1587550     7.100   225000   2531476000    1.5    1.5  \n",
      "1   203051504     3138865     6.870   450000   5062951000    1.5    1.5  \n",
      "2   410024616     6249051     6.804   900000  10125901000    1.5    1.5  \n",
      "3   838053720    12473473     6.964  1800000  20251801000    1.5    1.5  \n",
      "4  1882170744    24926540     6.879  3600000  40503601000    1.5    1.5  \n"
     ]
    }
   ],
   "source": [
    "print(hpc_res)"
   ]
  },
  {
   "cell_type": "code",
   "execution_count": 57,
   "metadata": {},
   "outputs": [],
   "source": [
    "hpc_res['T_bld_xn'] = hpc_res['T_conns_min'] + hpc_res['T_ini_max']\n",
    "hpc_res['T_bld_nx'] = hpc_res['T_conns_max'] + hpc_res['T_ini_min']\n",
    "\n",
    "hpc_res['T_bld'] = hpc_res[['T_bld_xn', 'T_bld_nx']].min(axis=1)"
   ]
  },
  {
   "cell_type": "code",
   "execution_count": 58,
   "metadata": {},
   "outputs": [],
   "source": [
    "hpc_pres = pd.pivot_table(hpc_res, index=['SCALE','THREADS_PER_TASK', 'NUMBER_OF_NODES'],\n",
    "                      values=['T_bld', 'VSize_sum'])"
   ]
  },
  {
   "cell_type": "code",
   "execution_count": 59,
   "metadata": {},
   "outputs": [
    {
     "data": {
      "text/html": [
       "<div>\n",
       "<style scoped>\n",
       "    .dataframe tbody tr th:only-of-type {\n",
       "        vertical-align: middle;\n",
       "    }\n",
       "\n",
       "    .dataframe tbody tr th {\n",
       "        vertical-align: top;\n",
       "    }\n",
       "\n",
       "    .dataframe thead th {\n",
       "        text-align: right;\n",
       "    }\n",
       "</style>\n",
       "<table border=\"1\" class=\"dataframe\">\n",
       "  <thead>\n",
       "    <tr style=\"text-align: right;\">\n",
       "      <th></th>\n",
       "      <th></th>\n",
       "      <th></th>\n",
       "      <th>T_bld</th>\n",
       "      <th>VSize_sum</th>\n",
       "    </tr>\n",
       "    <tr>\n",
       "      <th>SCALE</th>\n",
       "      <th>THREADS_PER_TASK</th>\n",
       "      <th>NUMBER_OF_NODES</th>\n",
       "      <th></th>\n",
       "      <th></th>\n",
       "    </tr>\n",
       "  </thead>\n",
       "  <tbody>\n",
       "    <tr>\n",
       "      <th rowspan=\"2\" valign=\"top\">20</th>\n",
       "      <th>4</th>\n",
       "      <th>1</th>\n",
       "      <td>142.45</td>\n",
       "      <td>104752416</td>\n",
       "    </tr>\n",
       "    <tr>\n",
       "      <th>12</th>\n",
       "      <th>1</th>\n",
       "      <td>236.48</td>\n",
       "      <td>101868648</td>\n",
       "    </tr>\n",
       "    <tr>\n",
       "      <th rowspan=\"2\" valign=\"top\">40</th>\n",
       "      <th>4</th>\n",
       "      <th>2</th>\n",
       "      <td>152.31</td>\n",
       "      <td>214484464</td>\n",
       "    </tr>\n",
       "    <tr>\n",
       "      <th>12</th>\n",
       "      <th>2</th>\n",
       "      <td>236.64</td>\n",
       "      <td>203051504</td>\n",
       "    </tr>\n",
       "    <tr>\n",
       "      <th rowspan=\"2\" valign=\"top\">80</th>\n",
       "      <th>4</th>\n",
       "      <th>4</th>\n",
       "      <td>157.80</td>\n",
       "      <td>428892040</td>\n",
       "    </tr>\n",
       "    <tr>\n",
       "      <th>12</th>\n",
       "      <th>4</th>\n",
       "      <td>232.77</td>\n",
       "      <td>410024616</td>\n",
       "    </tr>\n",
       "    <tr>\n",
       "      <th rowspan=\"2\" valign=\"top\">160</th>\n",
       "      <th>4</th>\n",
       "      <th>8</th>\n",
       "      <td>158.23</td>\n",
       "      <td>904560024</td>\n",
       "    </tr>\n",
       "    <tr>\n",
       "      <th>12</th>\n",
       "      <th>8</th>\n",
       "      <td>255.49</td>\n",
       "      <td>838053720</td>\n",
       "    </tr>\n",
       "    <tr>\n",
       "      <th rowspan=\"2\" valign=\"top\">320</th>\n",
       "      <th>4</th>\n",
       "      <th>16</th>\n",
       "      <td>168.61</td>\n",
       "      <td>954598104</td>\n",
       "    </tr>\n",
       "    <tr>\n",
       "      <th>12</th>\n",
       "      <th>16</th>\n",
       "      <td>295.82</td>\n",
       "      <td>1882170744</td>\n",
       "    </tr>\n",
       "  </tbody>\n",
       "</table>\n",
       "</div>"
      ],
      "text/plain": [
       "                                         T_bld   VSize_sum\n",
       "SCALE THREADS_PER_TASK NUMBER_OF_NODES                    \n",
       "20    4                1                142.45   104752416\n",
       "      12               1                236.48   101868648\n",
       "40    4                2                152.31   214484464\n",
       "      12               2                236.64   203051504\n",
       "80    4                4                157.80   428892040\n",
       "      12               4                232.77   410024616\n",
       "160   4                8                158.23   904560024\n",
       "      12               8                255.49   838053720\n",
       "320   4                16               168.61   954598104\n",
       "      12               16               295.82  1882170744"
      ]
     },
     "execution_count": 59,
     "metadata": {},
     "output_type": "execute_result"
    }
   ],
   "source": [
    "hpc_pres"
   ]
  },
  {
   "cell_type": "code",
   "execution_count": 60,
   "metadata": {},
   "outputs": [
    {
     "data": {
      "text/plain": [
       "<matplotlib.axes._subplots.AxesSubplot at 0x7fa0da3b7940>"
      ]
     },
     "execution_count": 60,
     "metadata": {},
     "output_type": "execute_result"
    },
    {
     "data": {
      "image/png": "[encoded data removed]",
      "text/plain": [
       "<matplotlib.figure.Figure at 0x7fa0d9f81550>"
      ]
     },
     "metadata": {},
     "output_type": "display_data"
    }
   ],
   "source": [
    "hpc_pres['T_bld'].plot(kind='bar', title='Build times', color = ['r', 'g']*int(len(hpc_pres)/2))"
   ]
  },
  {
   "cell_type": "code",
   "execution_count": 61,
   "metadata": {},
   "outputs": [
    {
     "data": {
      "text/plain": [
       "<matplotlib.axes._subplots.AxesSubplot at 0x7fa0d9fec940>"
      ]
     },
     "execution_count": 61,
     "metadata": {},
     "output_type": "execute_result"
    },
    {
     "data": {
      "image/png": "[encoded data removed]",
      "text/plain": [
       "<matplotlib.figure.Figure at 0x7fa0da215e48>"
      ]
     },
     "metadata": {},
     "output_type": "display_data"
    }
   ],
   "source": [
    "hpc_pres['VSize_sum'].plot(kind='bar', title='V_size', color = ['r', 'g']*int(len(hpc_pres)/2))"
   ]
  },
  {
   "cell_type": "markdown",
   "metadata": {},
   "source": [
    "# HPC Benchmark - split into many `Connect` calls"
   ]
  },
  {
   "cell_type": "code",
   "execution_count": 74,
   "metadata": {},
   "outputs": [],
   "source": [
    "hpc_split_res = pd.concat([pd.read_csv(bench)\n",
    "                           for bench in glob.glob(hpc_split_path)])"
   ]
  },
  {
   "cell_type": "code",
   "execution_count": 78,
   "metadata": {},
   "outputs": [
    {
     "name": "stdout",
     "output_type": "stream",
     "text": [
      "   NUMBER_OF_NODES  TASKS_PER_NODE  THREADS_PER_TASK  SCALE  PLASTIC  NBLOCKS  \\\n",
      "0                1               6                 4     20     True     1000   \n",
      "1                2               6                 4     40     True     1000   \n",
      "2                4               6                 4     80     True     1000   \n",
      "3                8               6                 4    160     True     1000   \n",
      "4               16               6                 4    320     True     1000   \n",
      "0                1               2                12     20     True     1000   \n",
      "1                2               2                12     40     True     1000   \n",
      "2                4               2                12     80     True     1000   \n",
      "3                8               2                12    160     True     1000   \n",
      "4               16               2                12    320     True     1000   \n",
      "0                1              24                 1     20     True     1000   \n",
      "1                2              24                 1     40     True     1000   \n",
      "2                4              24                 1     80     True     1000   \n",
      "3                8              24                 1    160     True     1000   \n",
      "4               16              24                 1    320     True     1000   \n",
      "\n",
      "   T_nrns  EE_inner_conn_time  IE_inner_conn_time  EI_inner_conn_time  ...    \\\n",
      "0    0.39                91.0                 5.0                23.0  ...     \n",
      "1    0.38                48.0                69.0                26.0  ...     \n",
      "2    0.30                35.0                53.0                22.0  ...     \n",
      "3    0.39                98.0                43.0                91.0  ...     \n",
      "4    0.31                13.0                62.0                69.0  ...     \n",
      "0    0.89                58.0                59.0                32.0  ...     \n",
      "1    0.84                82.0                48.0                55.0  ...     \n",
      "2    0.91                86.0                76.0                91.0  ...     \n",
      "3    0.90                42.0                 6.0                87.0  ...     \n",
      "4    0.91                51.0                29.0                 7.0  ...     \n",
      "0    0.13                12.0                24.0                 4.0  ...     \n",
      "1    0.13                 5.0                54.0                 8.0  ...     \n",
      "2    0.12                36.0                31.0                47.0  ...     \n",
      "3    0.40                46.0                48.0                56.0  ...     \n",
      "4    0.47                24.0                37.0                55.0  ...     \n",
      "\n",
      "    T_equ  T_sim   VSize_sum  VSize_edg_sum  N_spks_sum  Rate_sum   N_nrns  \\\n",
      "0   27.00   4.12   104721696            NaN       33730       NaN   225000   \n",
      "1   22.35   2.94   218385904            NaN       40359       NaN   450000   \n",
      "2   22.20   2.99   432689032            NaN       75135       NaN   900000   \n",
      "3   22.51   2.93   897822104            NaN      139640       NaN  1800000   \n",
      "4   24.66   3.08   956072664            NaN      137632       NaN  3600000   \n",
      "0  439.62   0.77   110087768            NaN         720       NaN   225000   \n",
      "1   46.65   5.85   203094512            NaN       81285       NaN   450000   \n",
      "2   25.82   3.44   410079912            NaN       89293       NaN   900000   \n",
      "3   24.15   3.01   832610136            NaN      132728       NaN  1800000   \n",
      "4   26.04   3.33  1884220788            NaN      284910       NaN  3600000   \n",
      "0   12.95   1.86   108664800            NaN       20409       NaN   225000   \n",
      "1   13.31   1.97   254238928            NaN       39380       NaN   450000   \n",
      "2   14.18   2.09   254344720            NaN       38372       NaN   900000   \n",
      "3   15.46   1.90   261339088            NaN       31598       NaN  1800000   \n",
      "4   17.30   2.26   262001488            NaN       33978       NaN  3600000   \n",
      "\n",
      "   N_conns_sum  d_min  d_max  \n",
      "0   2520225000    1.5    1.5  \n",
      "1   5040450000    1.5    1.5  \n",
      "2  10080900000    1.5    1.5  \n",
      "3  20161800000    1.5    1.5  \n",
      "4  20161800000    1.5    1.5  \n",
      "0   2520225000    1.5    1.5  \n",
      "1   5040450000    1.5    1.5  \n",
      "2  10080900000    1.5    1.5  \n",
      "3  20161800000    1.5    1.5  \n",
      "4  40323600000    1.5    1.5  \n",
      "0   2520225000    1.5    1.5  \n",
      "1   5040450000    1.5    1.5  \n",
      "2   5040450000    1.5    1.5  \n",
      "3   5040450000    1.5    1.5  \n",
      "4   5040450000    1.5    1.5  \n",
      "\n",
      "[15 rows x 29 columns]\n"
     ]
    }
   ],
   "source": [
    "print(hpc_split_res)"
   ]
  },
  {
   "cell_type": "code",
   "execution_count": 80,
   "metadata": {},
   "outputs": [],
   "source": [
    "hpc_split_res['T_bld'] = hpc_split_res['EE_inner_conn_time'] + hpc_split_res['EI_inner_conn_time'] + hpc_split_res['IE_inner_conn_time'] + hpc_split_res['II_inner_conn_time']"
   ]
  },
  {
   "cell_type": "code",
   "execution_count": 81,
   "metadata": {},
   "outputs": [],
   "source": [
    "hpc_split_pres = pd.pivot_table(hpc_split_res, index=['SCALE','THREADS_PER_TASK', 'NUMBER_OF_NODES'],\n",
    "                                values=['T_bld', 'VSize_sum', 'N_conns_sum', 'EE_conns_per_sec'])"
   ]
  },
  {
   "cell_type": "code",
   "execution_count": 82,
   "metadata": {},
   "outputs": [
    {
     "data": {
      "text/html": [
       "<div>\n",
       "<style scoped>\n",
       "    .dataframe tbody tr th:only-of-type {\n",
       "        vertical-align: middle;\n",
       "    }\n",
       "\n",
       "    .dataframe tbody tr th {\n",
       "        vertical-align: top;\n",
       "    }\n",
       "\n",
       "    .dataframe thead th {\n",
       "        text-align: right;\n",
       "    }\n",
       "</style>\n",
       "<table border=\"1\" class=\"dataframe\">\n",
       "  <thead>\n",
       "    <tr style=\"text-align: right;\">\n",
       "      <th></th>\n",
       "      <th></th>\n",
       "      <th></th>\n",
       "      <th>EE_conns_per_sec</th>\n",
       "      <th>N_conns_sum</th>\n",
       "      <th>T_bld</th>\n",
       "      <th>VSize_sum</th>\n",
       "    </tr>\n",
       "    <tr>\n",
       "      <th>SCALE</th>\n",
       "      <th>THREADS_PER_TASK</th>\n",
       "      <th>NUMBER_OF_NODES</th>\n",
       "      <th></th>\n",
       "      <th></th>\n",
       "      <th></th>\n",
       "      <th></th>\n",
       "    </tr>\n",
       "  </thead>\n",
       "  <tbody>\n",
       "    <tr>\n",
       "      <th rowspan=\"3\" valign=\"top\">20</th>\n",
       "      <th>1</th>\n",
       "      <th>1</th>\n",
       "      <td>2169020.0</td>\n",
       "      <td>2520225000</td>\n",
       "      <td>49.0</td>\n",
       "      <td>108664800</td>\n",
       "    </tr>\n",
       "    <tr>\n",
       "      <th>4</th>\n",
       "      <th>1</th>\n",
       "      <td>4035270.0</td>\n",
       "      <td>2520225000</td>\n",
       "      <td>124.0</td>\n",
       "      <td>104721696</td>\n",
       "    </tr>\n",
       "    <tr>\n",
       "      <th>12</th>\n",
       "      <th>1</th>\n",
       "      <td>9464830.0</td>\n",
       "      <td>2520225000</td>\n",
       "      <td>224.0</td>\n",
       "      <td>110087768</td>\n",
       "    </tr>\n",
       "    <tr>\n",
       "      <th rowspan=\"3\" valign=\"top\">40</th>\n",
       "      <th>1</th>\n",
       "      <th>2</th>\n",
       "      <td>2142860.0</td>\n",
       "      <td>5040450000</td>\n",
       "      <td>162.0</td>\n",
       "      <td>254238928</td>\n",
       "    </tr>\n",
       "    <tr>\n",
       "      <th>4</th>\n",
       "      <th>2</th>\n",
       "      <td>4001190.0</td>\n",
       "      <td>5040450000</td>\n",
       "      <td>168.0</td>\n",
       "      <td>218385904</td>\n",
       "    </tr>\n",
       "    <tr>\n",
       "      <th>12</th>\n",
       "      <th>2</th>\n",
       "      <td>9119570.0</td>\n",
       "      <td>5040450000</td>\n",
       "      <td>279.0</td>\n",
       "      <td>203094512</td>\n",
       "    </tr>\n",
       "    <tr>\n",
       "      <th rowspan=\"3\" valign=\"top\">80</th>\n",
       "      <th>1</th>\n",
       "      <th>4</th>\n",
       "      <td>2085910.0</td>\n",
       "      <td>5040450000</td>\n",
       "      <td>151.0</td>\n",
       "      <td>254344720</td>\n",
       "    </tr>\n",
       "    <tr>\n",
       "      <th>4</th>\n",
       "      <th>4</th>\n",
       "      <td>3950260.0</td>\n",
       "      <td>10080900000</td>\n",
       "      <td>163.0</td>\n",
       "      <td>432689032</td>\n",
       "    </tr>\n",
       "    <tr>\n",
       "      <th>12</th>\n",
       "      <th>4</th>\n",
       "      <td>9429570.0</td>\n",
       "      <td>10080900000</td>\n",
       "      <td>274.0</td>\n",
       "      <td>410079912</td>\n",
       "    </tr>\n",
       "    <tr>\n",
       "      <th rowspan=\"3\" valign=\"top\">160</th>\n",
       "      <th>1</th>\n",
       "      <th>8</th>\n",
       "      <td>2017330.0</td>\n",
       "      <td>5040450000</td>\n",
       "      <td>193.0</td>\n",
       "      <td>261339088</td>\n",
       "    </tr>\n",
       "    <tr>\n",
       "      <th>4</th>\n",
       "      <th>8</th>\n",
       "      <td>3803890.0</td>\n",
       "      <td>20161800000</td>\n",
       "      <td>328.0</td>\n",
       "      <td>897822104</td>\n",
       "    </tr>\n",
       "    <tr>\n",
       "      <th>12</th>\n",
       "      <th>8</th>\n",
       "      <td>8764340.0</td>\n",
       "      <td>20161800000</td>\n",
       "      <td>188.0</td>\n",
       "      <td>832610136</td>\n",
       "    </tr>\n",
       "    <tr>\n",
       "      <th rowspan=\"3\" valign=\"top\">320</th>\n",
       "      <th>1</th>\n",
       "      <th>16</th>\n",
       "      <td>1862580.0</td>\n",
       "      <td>5040450000</td>\n",
       "      <td>161.0</td>\n",
       "      <td>262001488</td>\n",
       "    </tr>\n",
       "    <tr>\n",
       "      <th>4</th>\n",
       "      <th>16</th>\n",
       "      <td>3642250.0</td>\n",
       "      <td>20161800000</td>\n",
       "      <td>220.0</td>\n",
       "      <td>956072664</td>\n",
       "    </tr>\n",
       "    <tr>\n",
       "      <th>12</th>\n",
       "      <th>16</th>\n",
       "      <td>8392910.0</td>\n",
       "      <td>40323600000</td>\n",
       "      <td>95.0</td>\n",
       "      <td>1884220788</td>\n",
       "    </tr>\n",
       "  </tbody>\n",
       "</table>\n",
       "</div>"
      ],
      "text/plain": [
       "                                        EE_conns_per_sec  N_conns_sum  T_bld  \\\n",
       "SCALE THREADS_PER_TASK NUMBER_OF_NODES                                         \n",
       "20    1                1                       2169020.0   2520225000   49.0   \n",
       "      4                1                       4035270.0   2520225000  124.0   \n",
       "      12               1                       9464830.0   2520225000  224.0   \n",
       "40    1                2                       2142860.0   5040450000  162.0   \n",
       "      4                2                       4001190.0   5040450000  168.0   \n",
       "      12               2                       9119570.0   5040450000  279.0   \n",
       "80    1                4                       2085910.0   5040450000  151.0   \n",
       "      4                4                       3950260.0  10080900000  163.0   \n",
       "      12               4                       9429570.0  10080900000  274.0   \n",
       "160   1                8                       2017330.0   5040450000  193.0   \n",
       "      4                8                       3803890.0  20161800000  328.0   \n",
       "      12               8                       8764340.0  20161800000  188.0   \n",
       "320   1                16                      1862580.0   5040450000  161.0   \n",
       "      4                16                      3642250.0  20161800000  220.0   \n",
       "      12               16                      8392910.0  40323600000   95.0   \n",
       "\n",
       "                                         VSize_sum  \n",
       "SCALE THREADS_PER_TASK NUMBER_OF_NODES              \n",
       "20    1                1                 108664800  \n",
       "      4                1                 104721696  \n",
       "      12               1                 110087768  \n",
       "40    1                2                 254238928  \n",
       "      4                2                 218385904  \n",
       "      12               2                 203094512  \n",
       "80    1                4                 254344720  \n",
       "      4                4                 432689032  \n",
       "      12               4                 410079912  \n",
       "160   1                8                 261339088  \n",
       "      4                8                 897822104  \n",
       "      12               8                 832610136  \n",
       "320   1                16                262001488  \n",
       "      4                16                956072664  \n",
       "      12               16               1884220788  "
      ]
     },
     "execution_count": 82,
     "metadata": {},
     "output_type": "execute_result"
    }
   ],
   "source": [
    "hpc_split_pres"
   ]
  },
  {
   "cell_type": "code",
   "execution_count": 85,
   "metadata": {},
   "outputs": [
    {
     "data": {
      "text/plain": [
       "<matplotlib.axes._subplots.AxesSubplot at 0x7fa0e4e68198>"
      ]
     },
     "execution_count": 85,
     "metadata": {},
     "output_type": "execute_result"
    },
    {
     "data": {
      "image/png": "[encoded data removed]",
      "text/plain": [
       "<matplotlib.figure.Figure at 0x7fa0d9bea7b8>"
      ]
     },
     "metadata": {},
     "output_type": "display_data"
    }
   ],
   "source": [
    "hpc_split_pres['T_bld'].plot(kind='bar', title='Build times', color = ['r', 'g', 'b']*int(len(hpc_split_pres)/3))"
   ]
  },
  {
   "cell_type": "code",
   "execution_count": 86,
   "metadata": {},
   "outputs": [
    {
     "data": {
      "text/plain": [
       "<matplotlib.axes._subplots.AxesSubplot at 0x7fa1149dafd0>"
      ]
     },
     "execution_count": 86,
     "metadata": {},
     "output_type": "execute_result"
    },
    {
     "data": {
      "image/png": "[encoded data removed]",
      "text/plain": [
       "<matplotlib.figure.Figure at 0x7fa0d9baa390>"
      ]
     },
     "metadata": {},
     "output_type": "display_data"
    }
   ],
   "source": [
    "hpc_split_pres['VSize_sum'].plot(kind='bar', title='VSize_sum', color = ['r', 'g', 'b']*int(len(hpc_split_pres)/3))"
   ]
  },
  {
   "cell_type": "markdown",
   "metadata": {},
   "source": [
    "# HPC Benchmark - only `one_to_one` calls"
   ]
  },
  {
   "cell_type": "code",
   "execution_count": 87,
   "metadata": {},
   "outputs": [],
   "source": [
    "hpc_one_res = pd.concat([pd.read_csv(bench)\n",
    "                         for bench in glob.glob(hpc_one_path)])"
   ]
  },
  {
   "cell_type": "code",
   "execution_count": 88,
   "metadata": {},
   "outputs": [
    {
     "name": "stdout",
     "output_type": "stream",
     "text": [
      "   NUMBER_OF_NODES  TASKS_PER_NODE  THREADS_PER_TASK  SCALE  PLASTIC RULE  \\\n",
      "0                1              24                 1     20     True  one   \n",
      "1                2              24                 1     40     True  one   \n",
      "2                4              24                 1     80     True  one   \n",
      "3                8              24                 1    160     True  one   \n",
      "4               16              24                 1    320     True  one   \n",
      "0                1               2                12     20     True  one   \n",
      "1                2               2                12     40     True  one   \n",
      "2                4               2                12     80     True  one   \n",
      "3                8               2                12    160     True  one   \n",
      "4               16               2                12    320     True  one   \n",
      "0                1               6                 4     20     True  one   \n",
      "1                2               6                 4     40     True  one   \n",
      "2                4               6                 4     80     True  one   \n",
      "3                8               6                 4    160     True  one   \n",
      "4               16               6                 4    320     True  one   \n",
      "\n",
      "   T_nrns  EE_inner_conn_time  IE_inner_conn_time  EI_inner_conn_time  ...    \\\n",
      "0    0.16                 0.0                 0.0                 0.0  ...     \n",
      "1    0.17                 1.0                 1.0                 1.0  ...     \n",
      "2    0.34                 0.0                 2.0                 1.0  ...     \n",
      "3    0.18                 0.0                 1.0                 1.0  ...     \n",
      "4    0.51                 1.0                 0.0                 0.0  ...     \n",
      "0    1.33                 2.0                 2.0                 2.0  ...     \n",
      "1    1.24                 0.0                 1.0                 0.0  ...     \n",
      "2    1.32                 1.0                 1.0                 1.0  ...     \n",
      "3    1.26                 2.0                 1.0                 2.0  ...     \n",
      "4    1.33                 1.0                 1.0                 0.0  ...     \n",
      "0    0.53                 1.0                 0.0                 1.0  ...     \n",
      "1    0.53                 1.0                 0.0                 1.0  ...     \n",
      "2    0.58                 1.0                 0.0                 0.0  ...     \n",
      "3    0.58                 1.0                 0.0                 0.0  ...     \n",
      "4    0.57                 0.0                 1.0                 0.0  ...     \n",
      "\n",
      "   T_equ  T_sim  VSize_sum  VSize_edg_sum  N_spks_sum  Rate_sum   N_nrns  \\\n",
      "0    NaN    NaN   19608212            NaN      186349       NaN   360000   \n",
      "1    NaN    NaN   47605284            NaN      371801       NaN   720000   \n",
      "2    NaN    NaN   55870308            NaN      372326       NaN  1440000   \n",
      "3    NaN    NaN   62545188            NaN      372483       NaN  2880000   \n",
      "4    NaN    NaN   97767588            NaN      371461       NaN  5760000   \n",
      "0    NaN    NaN    2479648            NaN      186349       NaN   360000   \n",
      "1    NaN    NaN    5090672            NaN      371801       NaN   720000   \n",
      "2    NaN    NaN   10793848            NaN      745207       NaN  1440000   \n",
      "3    NaN    NaN   23347432            NaN     1490195       NaN  2880000   \n",
      "4    NaN    NaN   55300232            NaN     2981457       NaN  5760000   \n",
      "0    NaN    NaN    4232664            NaN      186349       NaN   360000   \n",
      "1    NaN    NaN    9459540            NaN      371801       NaN   720000   \n",
      "2    NaN    NaN   21156412            NaN      745207       NaN  1440000   \n",
      "3    NaN    NaN   51921644            NaN     1490195       NaN  2880000   \n",
      "4    NaN    NaN   61098028            NaN     1489060       NaN  5760000   \n",
      "\n",
      "   N_conns_sum  d_min  d_max  \n",
      "0      1080000    1.5    1.5  \n",
      "1      2160000    1.5    1.5  \n",
      "2      2160000    1.5    1.5  \n",
      "3      2160000    1.5    1.5  \n",
      "4      2160000    1.5    1.5  \n",
      "0      1080000    1.5    1.5  \n",
      "1      2160000    1.5    1.5  \n",
      "2      4320000    1.5    1.5  \n",
      "3      8640000    1.5    1.5  \n",
      "4     17280000    1.5    1.5  \n",
      "0      1080000    1.5    1.5  \n",
      "1      2160000    1.5    1.5  \n",
      "2      4320000    1.5    1.5  \n",
      "3      8640000    1.5    1.5  \n",
      "4      8640000    1.5    1.5  \n",
      "\n",
      "[15 rows x 29 columns]\n"
     ]
    }
   ],
   "source": [
    "print(hpc_one_res)"
   ]
  },
  {
   "cell_type": "code",
   "execution_count": 106,
   "metadata": {},
   "outputs": [],
   "source": [
    "hpc_in_pres = pd.pivot_table(hpc_in_res, index=['SCALE','THREADS_PER_TASK', 'NUMBER_OF_NODES'],\n",
    "                             values=['T_bld', 'VSize_sum', 'N_conns_sum', 'EE_conns_per_sec'])"
   ]
  },
  {
   "cell_type": "code",
   "execution_count": 107,
   "metadata": {},
   "outputs": [
    {
     "data": {
      "text/plain": [
       "<matplotlib.axes._subplots.AxesSubplot at 0x7fa0d999ee80>"
      ]
     },
     "execution_count": 107,
     "metadata": {},
     "output_type": "execute_result"
    },
    {
     "data": {
      "image/png": "[encoded data removed]",
      "text/plain": [
       "<matplotlib.figure.Figure at 0x7fa0d993f8d0>"
      ]
     },
     "metadata": {},
     "output_type": "display_data"
    }
   ],
   "source": [
    "hpc_split_pres['T_bld'].plot(kind='bar', title='Build times', color = ['r', 'g', 'b']*int(len(hpc_split_pres)/3))"
   ]
  },
  {
   "cell_type": "code",
   "execution_count": 109,
   "metadata": {},
   "outputs": [
    {
     "data": {
      "text/plain": [
       "<matplotlib.axes._subplots.AxesSubplot at 0x7fa0d98cb2e8>"
      ]
     },
     "execution_count": 109,
     "metadata": {},
     "output_type": "execute_result"
    },
    {
     "data": {
      "image/png": "[encoded data removed]",
      "text/plain": [
       "<matplotlib.figure.Figure at 0x7fa0d987d4a8>"
      ]
     },
     "metadata": {},
     "output_type": "display_data"
    }
   ],
   "source": [
    "hpc_split_pres['EE_conns_per_sec'].plot(kind='bar', title='EE conns per sec', color = ['r', 'g', 'b']*int(len(hpc_split_pres)/3))"
   ]
  },
  {
   "cell_type": "code",
   "execution_count": null,
   "metadata": {},
   "outputs": [],
   "source": []
  },
  {
   "cell_type": "markdown",
   "metadata": {},
   "source": [
    "# HBC Benchmark - only `fixed_indegree` calls"
   ]
  },
  {
   "cell_type": "code",
   "execution_count": 102,
   "metadata": {},
   "outputs": [],
   "source": [
    "hpc_in_res = pd.concat([pd.read_csv(bench)\n",
    "                        for bench in glob.glob(hpc_in_path)])"
   ]
  },
  {
   "cell_type": "code",
   "execution_count": 104,
   "metadata": {},
   "outputs": [
    {
     "name": "stdout",
     "output_type": "stream",
     "text": [
      "   NUMBER_OF_NODES  TASKS_PER_NODE  THREADS_PER_TASK  SCALE  PLASTIC RULE  \\\n",
      "0                1               2                12     20     True   in   \n",
      "1                2               2                12     40     True   in   \n",
      "2                4               2                12     80     True   in   \n",
      "3                8               2                12    160     True   in   \n",
      "4               16               2                12    320     True   in   \n",
      "0                1              24                 1     20     True   in   \n",
      "1                2              24                 1     40     True   in   \n",
      "2                4              24                 1     80     True   in   \n",
      "3                8              24                 1    160     True   in   \n",
      "4               16              24                 1    320     True   in   \n",
      "0                1               6                 4     20     True   in   \n",
      "1                2               6                 4     40     True   in   \n",
      "2                4               6                 4     80     True   in   \n",
      "3                8               6                 4    160     True   in   \n",
      "4               16               6                 4    320     True   in   \n",
      "\n",
      "   T_nrns  EE_inner_conn_time  IE_inner_conn_time  EI_inner_conn_time  ...    \\\n",
      "0    0.86                 8.0                38.0                33.0  ...     \n",
      "1    0.84                92.0                54.0                 5.0  ...     \n",
      "2    0.84                11.0                 2.0                 2.0  ...     \n",
      "3    0.81                86.0                12.0                63.0  ...     \n",
      "4    0.90                26.0                95.0                52.0  ...     \n",
      "0    0.13                24.0                73.0                74.0  ...     \n",
      "1    0.17                23.0                48.0                74.0  ...     \n",
      "2    0.43                19.0                76.0                74.0  ...     \n",
      "3    0.31                25.0                76.0                76.0  ...     \n",
      "4    0.54                19.0                58.0                72.0  ...     \n",
      "0    0.38                19.0                 9.0                88.0  ...     \n",
      "1    0.37                24.0                 9.0                 9.0  ...     \n",
      "2    0.32                88.0                37.0                 7.0  ...     \n",
      "3    0.42                31.0                 9.0                78.0  ...     \n",
      "4    0.41                58.0                46.0                69.0  ...     \n",
      "\n",
      "   T_equ  T_sim   VSize_sum  VSize_edg_sum  N_spks_sum  Rate_sum   N_nrns  \\\n",
      "0    NaN    NaN    82918504            NaN        4950       NaN   225000   \n",
      "1    NaN    NaN   165949936            NaN       10004       NaN   450000   \n",
      "2    NaN    NaN   332513960            NaN       19665       NaN   900000   \n",
      "3    NaN    NaN   663566164            NaN       39509       NaN  1800000   \n",
      "4    NaN    NaN  1331105136            NaN       79716       NaN  3600000   \n",
      "0    NaN    NaN    92936160            NaN        4950       NaN   225000   \n",
      "1    NaN    NaN   185032912            NaN       10004       NaN   450000   \n",
      "2    NaN    NaN   191921680            NaN        9796       NaN   900000   \n",
      "3    NaN    NaN   192133072            NaN        9876       NaN  1800000   \n",
      "4    NaN    NaN   224252752            NaN       10012       NaN  3600000   \n",
      "0    NaN    NaN    84084000            NaN        4950       NaN   225000   \n",
      "1    NaN    NaN   168306160            NaN       10004       NaN   450000   \n",
      "2    NaN    NaN   338540424            NaN       19665       NaN   900000   \n",
      "3    NaN    NaN   717800856            NaN       39509       NaN  1800000   \n",
      "4    NaN    NaN   682558168            NaN       39841       NaN  3600000   \n",
      "\n",
      "   N_conns_sum  d_min  d_max  \n",
      "0   2025225000    1.5    1.5  \n",
      "1   4050450000    1.5    1.5  \n",
      "2   8100900000    1.5    1.5  \n",
      "3  16201800000    1.5    1.5  \n",
      "4  32403600000    1.5    1.5  \n",
      "0   2025225000    1.5    1.5  \n",
      "1   4050450000    1.5    1.5  \n",
      "2   4050450000    1.5    1.5  \n",
      "3   4050450000    1.5    1.5  \n",
      "4   4050450000    1.5    1.5  \n",
      "0   2025225000    1.5    1.5  \n",
      "1   4050450000    1.5    1.5  \n",
      "2   8100900000    1.5    1.5  \n",
      "3  16201800000    1.5    1.5  \n",
      "4  16201800000    1.5    1.5  \n",
      "\n",
      "[15 rows x 29 columns]\n"
     ]
    }
   ],
   "source": [
    "print(hpc_in_res)"
   ]
  },
  {
   "cell_type": "code",
   "execution_count": 105,
   "metadata": {},
   "outputs": [],
   "source": [
    "hpc_in_res['T_bld'] = hpc_in_res['EE_inner_conn_time'] + hpc_in_res['EI_inner_conn_time'] + hpc_in_res['IE_inner_conn_time'] + hpc_in_res['II_inner_conn_time']"
   ]
  },
  {
   "cell_type": "code",
   "execution_count": null,
   "metadata": {},
   "outputs": [],
   "source": []
  },
  {
   "cell_type": "code",
   "execution_count": null,
   "metadata": {},
   "outputs": [],
   "source": []
  },
  {
   "cell_type": "code",
   "execution_count": null,
   "metadata": {},
   "outputs": [],
   "source": []
  },
  {
   "cell_type": "code",
   "execution_count": null,
   "metadata": {},
   "outputs": [],
   "source": []
  },
  {
   "cell_type": "markdown",
   "metadata": {},
   "source": [
    "# Multi-Area-Model"
   ]
  },
  {
   "cell_type": "code",
   "execution_count": 96,
   "metadata": {},
   "outputs": [],
   "source": [
    "mam_res = pd.concat([pd.read_csv(bench)\n",
    "                     for bench in glob.glob(mam_path)])"
   ]
  },
  {
   "cell_type": "code",
   "execution_count": 97,
   "metadata": {},
   "outputs": [
    {
     "name": "stdout",
     "output_type": "stream",
     "text": [
      "   NUMBER_OF_NODES  TASKS_PER_NODE  NUM_VPS  THREADS_PER_TASK   SCALE  \\\n",
      "0                1               6       24                 4  0.0625   \n",
      "1                2               6       48                 4  0.1250   \n",
      "2                4               6       96                 4  0.2500   \n",
      "3                8               6      192                 4  0.5000   \n",
      "4               16               6      384                 4  1.0000   \n",
      "\n",
      "   T_network_local  T_network_global_avg  T_create_avg  T_connect_avg  T_sim  \\\n",
      "0              NaN                   NaN           NaN            NaN    NaN   \n",
      "1              NaN                   NaN           NaN            NaN    NaN   \n",
      "2              NaN                   NaN           NaN            NaN    NaN   \n",
      "3              NaN                   NaN           NaN            NaN    NaN   \n",
      "4              NaN                   NaN           NaN            NaN    NaN   \n",
      "\n",
      "   VSize_sum  N_nrns  N_conns_sum  \n",
      "0        NaN     NaN          NaN  \n",
      "1        NaN     NaN          NaN  \n",
      "2        NaN     NaN          NaN  \n",
      "3        NaN     NaN          NaN  \n",
      "4        NaN     NaN          NaN  \n"
     ]
    }
   ],
   "source": [
    "print(mam_res)"
   ]
  },
  {
   "cell_type": "code",
   "execution_count": 98,
   "metadata": {},
   "outputs": [],
   "source": [
    "mam_pres = pd.pivot_table(mam_res, index=['SCALE','THREADS_PER_TASK', 'NUMBER_OF_NODES'],\n",
    "                          values=['T_connect_avg', 'VSize_sum', 'N_conns_sum'])"
   ]
  },
  {
   "cell_type": "code",
   "execution_count": 99,
   "metadata": {},
   "outputs": [
    {
     "data": {
      "text/html": [
       "<div>\n",
       "<style scoped>\n",
       "    .dataframe tbody tr th:only-of-type {\n",
       "        vertical-align: middle;\n",
       "    }\n",
       "\n",
       "    .dataframe tbody tr th {\n",
       "        vertical-align: top;\n",
       "    }\n",
       "\n",
       "    .dataframe thead th {\n",
       "        text-align: right;\n",
       "    }\n",
       "</style>\n",
       "<table border=\"1\" class=\"dataframe\">\n",
       "  <thead>\n",
       "    <tr style=\"text-align: right;\">\n",
       "      <th></th>\n",
       "      <th></th>\n",
       "      <th></th>\n",
       "    </tr>\n",
       "    <tr>\n",
       "      <th>SCALE</th>\n",
       "      <th>THREADS_PER_TASK</th>\n",
       "      <th>NUMBER_OF_NODES</th>\n",
       "    </tr>\n",
       "  </thead>\n",
       "  <tbody>\n",
       "    <tr>\n",
       "      <th>0.0625</th>\n",
       "      <th>4</th>\n",
       "      <th>1</th>\n",
       "    </tr>\n",
       "    <tr>\n",
       "      <th>0.1250</th>\n",
       "      <th>4</th>\n",
       "      <th>2</th>\n",
       "    </tr>\n",
       "    <tr>\n",
       "      <th>0.2500</th>\n",
       "      <th>4</th>\n",
       "      <th>4</th>\n",
       "    </tr>\n",
       "    <tr>\n",
       "      <th>0.5000</th>\n",
       "      <th>4</th>\n",
       "      <th>8</th>\n",
       "    </tr>\n",
       "    <tr>\n",
       "      <th>1.0000</th>\n",
       "      <th>4</th>\n",
       "      <th>16</th>\n",
       "    </tr>\n",
       "  </tbody>\n",
       "</table>\n",
       "</div>"
      ],
      "text/plain": [
       "Empty DataFrame\n",
       "Columns: []\n",
       "Index: [(0.0625, 4, 1), (0.125, 4, 2), (0.25, 4, 4), (0.5, 4, 8), (1.0, 4, 16)]"
      ]
     },
     "execution_count": 99,
     "metadata": {},
     "output_type": "execute_result"
    }
   ],
   "source": [
    "mam_pres"
   ]
  },
  {
   "cell_type": "code",
   "execution_count": 101,
   "metadata": {},
   "outputs": [
    {
     "ename": "KeyError",
     "evalue": "'T_connect_avg'",
     "output_type": "error",
     "traceback": [
      "\u001b[0;31m---------------------------------------------------------------------------\u001b[0m",
      "\u001b[0;31mKeyError\u001b[0m                                  Traceback (most recent call last)",
      "\u001b[0;32m~/anaconda3/lib/python3.6/site-packages/pandas/core/indexes/base.py\u001b[0m in \u001b[0;36mget_loc\u001b[0;34m(self, key, method, tolerance)\u001b[0m\n\u001b[1;32m   2524\u001b[0m             \u001b[0;32mtry\u001b[0m\u001b[0;34m:\u001b[0m\u001b[0;34m\u001b[0m\u001b[0m\n\u001b[0;32m-> 2525\u001b[0;31m                 \u001b[0;32mreturn\u001b[0m \u001b[0mself\u001b[0m\u001b[0;34m.\u001b[0m\u001b[0m_engine\u001b[0m\u001b[0;34m.\u001b[0m\u001b[0mget_loc\u001b[0m\u001b[0;34m(\u001b[0m\u001b[0mkey\u001b[0m\u001b[0;34m)\u001b[0m\u001b[0;34m\u001b[0m\u001b[0m\n\u001b[0m\u001b[1;32m   2526\u001b[0m             \u001b[0;32mexcept\u001b[0m \u001b[0mKeyError\u001b[0m\u001b[0;34m:\u001b[0m\u001b[0;34m\u001b[0m\u001b[0m\n",
      "\u001b[0;32mpandas/_libs/index.pyx\u001b[0m in \u001b[0;36mpandas._libs.index.IndexEngine.get_loc\u001b[0;34m()\u001b[0m\n",
      "\u001b[0;32mpandas/_libs/index.pyx\u001b[0m in \u001b[0;36mpandas._libs.index.IndexEngine.get_loc\u001b[0;34m()\u001b[0m\n",
      "\u001b[0;32mpandas/_libs/hashtable_class_helper.pxi\u001b[0m in \u001b[0;36mpandas._libs.hashtable.PyObjectHashTable.get_item\u001b[0;34m()\u001b[0m\n",
      "\u001b[0;32mpandas/_libs/hashtable_class_helper.pxi\u001b[0m in \u001b[0;36mpandas._libs.hashtable.PyObjectHashTable.get_item\u001b[0;34m()\u001b[0m\n",
      "\u001b[0;31mKeyError\u001b[0m: 'T_connect_avg'",
      "\nDuring handling of the above exception, another exception occurred:\n",
      "\u001b[0;31mKeyError\u001b[0m                                  Traceback (most recent call last)",
      "\u001b[0;32m<ipython-input-101-61f8979d056b>\u001b[0m in \u001b[0;36m<module>\u001b[0;34m()\u001b[0m\n\u001b[0;32m----> 1\u001b[0;31m \u001b[0mmam_pres\u001b[0m\u001b[0;34m[\u001b[0m\u001b[0;34m'T_connect_avg'\u001b[0m\u001b[0;34m]\u001b[0m\u001b[0;34m.\u001b[0m\u001b[0mplot\u001b[0m\u001b[0;34m(\u001b[0m\u001b[0mkind\u001b[0m\u001b[0;34m=\u001b[0m\u001b[0;34m'bar'\u001b[0m\u001b[0;34m,\u001b[0m \u001b[0mtitle\u001b[0m\u001b[0;34m=\u001b[0m\u001b[0;34m'Build times'\u001b[0m\u001b[0;34m,\u001b[0m \u001b[0mcolor\u001b[0m \u001b[0;34m=\u001b[0m \u001b[0;34m[\u001b[0m\u001b[0;34m'r'\u001b[0m\u001b[0;34m,\u001b[0m \u001b[0;34m'g'\u001b[0m\u001b[0;34m,\u001b[0m \u001b[0;34m'b'\u001b[0m\u001b[0;34m]\u001b[0m\u001b[0;34m*\u001b[0m\u001b[0mint\u001b[0m\u001b[0;34m(\u001b[0m\u001b[0mlen\u001b[0m\u001b[0;34m(\u001b[0m\u001b[0mhpc_split_pres\u001b[0m\u001b[0;34m)\u001b[0m\u001b[0;34m/\u001b[0m\u001b[0;36m3\u001b[0m\u001b[0;34m)\u001b[0m\u001b[0;34m)\u001b[0m\u001b[0;34m\u001b[0m\u001b[0m\n\u001b[0m",
      "\u001b[0;32m~/anaconda3/lib/python3.6/site-packages/pandas/core/frame.py\u001b[0m in \u001b[0;36m__getitem__\u001b[0;34m(self, key)\u001b[0m\n\u001b[1;32m   2137\u001b[0m             \u001b[0;32mreturn\u001b[0m \u001b[0mself\u001b[0m\u001b[0;34m.\u001b[0m\u001b[0m_getitem_multilevel\u001b[0m\u001b[0;34m(\u001b[0m\u001b[0mkey\u001b[0m\u001b[0;34m)\u001b[0m\u001b[0;34m\u001b[0m\u001b[0m\n\u001b[1;32m   2138\u001b[0m         \u001b[0;32melse\u001b[0m\u001b[0;34m:\u001b[0m\u001b[0;34m\u001b[0m\u001b[0m\n\u001b[0;32m-> 2139\u001b[0;31m             \u001b[0;32mreturn\u001b[0m \u001b[0mself\u001b[0m\u001b[0;34m.\u001b[0m\u001b[0m_getitem_column\u001b[0m\u001b[0;34m(\u001b[0m\u001b[0mkey\u001b[0m\u001b[0;34m)\u001b[0m\u001b[0;34m\u001b[0m\u001b[0m\n\u001b[0m\u001b[1;32m   2140\u001b[0m \u001b[0;34m\u001b[0m\u001b[0m\n\u001b[1;32m   2141\u001b[0m     \u001b[0;32mdef\u001b[0m \u001b[0m_getitem_column\u001b[0m\u001b[0;34m(\u001b[0m\u001b[0mself\u001b[0m\u001b[0;34m,\u001b[0m \u001b[0mkey\u001b[0m\u001b[0;34m)\u001b[0m\u001b[0;34m:\u001b[0m\u001b[0;34m\u001b[0m\u001b[0m\n",
      "\u001b[0;32m~/anaconda3/lib/python3.6/site-packages/pandas/core/frame.py\u001b[0m in \u001b[0;36m_getitem_column\u001b[0;34m(self, key)\u001b[0m\n\u001b[1;32m   2144\u001b[0m         \u001b[0;31m# get column\u001b[0m\u001b[0;34m\u001b[0m\u001b[0;34m\u001b[0m\u001b[0m\n\u001b[1;32m   2145\u001b[0m         \u001b[0;32mif\u001b[0m \u001b[0mself\u001b[0m\u001b[0;34m.\u001b[0m\u001b[0mcolumns\u001b[0m\u001b[0;34m.\u001b[0m\u001b[0mis_unique\u001b[0m\u001b[0;34m:\u001b[0m\u001b[0;34m\u001b[0m\u001b[0m\n\u001b[0;32m-> 2146\u001b[0;31m             \u001b[0;32mreturn\u001b[0m \u001b[0mself\u001b[0m\u001b[0;34m.\u001b[0m\u001b[0m_get_item_cache\u001b[0m\u001b[0;34m(\u001b[0m\u001b[0mkey\u001b[0m\u001b[0;34m)\u001b[0m\u001b[0;34m\u001b[0m\u001b[0m\n\u001b[0m\u001b[1;32m   2147\u001b[0m \u001b[0;34m\u001b[0m\u001b[0m\n\u001b[1;32m   2148\u001b[0m         \u001b[0;31m# duplicate columns & possible reduce dimensionality\u001b[0m\u001b[0;34m\u001b[0m\u001b[0;34m\u001b[0m\u001b[0m\n",
      "\u001b[0;32m~/anaconda3/lib/python3.6/site-packages/pandas/core/generic.py\u001b[0m in \u001b[0;36m_get_item_cache\u001b[0;34m(self, item)\u001b[0m\n\u001b[1;32m   1840\u001b[0m         \u001b[0mres\u001b[0m \u001b[0;34m=\u001b[0m \u001b[0mcache\u001b[0m\u001b[0;34m.\u001b[0m\u001b[0mget\u001b[0m\u001b[0;34m(\u001b[0m\u001b[0mitem\u001b[0m\u001b[0;34m)\u001b[0m\u001b[0;34m\u001b[0m\u001b[0m\n\u001b[1;32m   1841\u001b[0m         \u001b[0;32mif\u001b[0m \u001b[0mres\u001b[0m \u001b[0;32mis\u001b[0m \u001b[0;32mNone\u001b[0m\u001b[0;34m:\u001b[0m\u001b[0;34m\u001b[0m\u001b[0m\n\u001b[0;32m-> 1842\u001b[0;31m             \u001b[0mvalues\u001b[0m \u001b[0;34m=\u001b[0m \u001b[0mself\u001b[0m\u001b[0;34m.\u001b[0m\u001b[0m_data\u001b[0m\u001b[0;34m.\u001b[0m\u001b[0mget\u001b[0m\u001b[0;34m(\u001b[0m\u001b[0mitem\u001b[0m\u001b[0;34m)\u001b[0m\u001b[0;34m\u001b[0m\u001b[0m\n\u001b[0m\u001b[1;32m   1843\u001b[0m             \u001b[0mres\u001b[0m \u001b[0;34m=\u001b[0m \u001b[0mself\u001b[0m\u001b[0;34m.\u001b[0m\u001b[0m_box_item_values\u001b[0m\u001b[0;34m(\u001b[0m\u001b[0mitem\u001b[0m\u001b[0;34m,\u001b[0m \u001b[0mvalues\u001b[0m\u001b[0;34m)\u001b[0m\u001b[0;34m\u001b[0m\u001b[0m\n\u001b[1;32m   1844\u001b[0m             \u001b[0mcache\u001b[0m\u001b[0;34m[\u001b[0m\u001b[0mitem\u001b[0m\u001b[0;34m]\u001b[0m \u001b[0;34m=\u001b[0m \u001b[0mres\u001b[0m\u001b[0;34m\u001b[0m\u001b[0m\n",
      "\u001b[0;32m~/anaconda3/lib/python3.6/site-packages/pandas/core/internals.py\u001b[0m in \u001b[0;36mget\u001b[0;34m(self, item, fastpath)\u001b[0m\n\u001b[1;32m   3841\u001b[0m \u001b[0;34m\u001b[0m\u001b[0m\n\u001b[1;32m   3842\u001b[0m             \u001b[0;32mif\u001b[0m \u001b[0;32mnot\u001b[0m \u001b[0misna\u001b[0m\u001b[0;34m(\u001b[0m\u001b[0mitem\u001b[0m\u001b[0;34m)\u001b[0m\u001b[0;34m:\u001b[0m\u001b[0;34m\u001b[0m\u001b[0m\n\u001b[0;32m-> 3843\u001b[0;31m                 \u001b[0mloc\u001b[0m \u001b[0;34m=\u001b[0m \u001b[0mself\u001b[0m\u001b[0;34m.\u001b[0m\u001b[0mitems\u001b[0m\u001b[0;34m.\u001b[0m\u001b[0mget_loc\u001b[0m\u001b[0;34m(\u001b[0m\u001b[0mitem\u001b[0m\u001b[0;34m)\u001b[0m\u001b[0;34m\u001b[0m\u001b[0m\n\u001b[0m\u001b[1;32m   3844\u001b[0m             \u001b[0;32melse\u001b[0m\u001b[0;34m:\u001b[0m\u001b[0;34m\u001b[0m\u001b[0m\n\u001b[1;32m   3845\u001b[0m                 \u001b[0mindexer\u001b[0m \u001b[0;34m=\u001b[0m \u001b[0mnp\u001b[0m\u001b[0;34m.\u001b[0m\u001b[0marange\u001b[0m\u001b[0;34m(\u001b[0m\u001b[0mlen\u001b[0m\u001b[0;34m(\u001b[0m\u001b[0mself\u001b[0m\u001b[0;34m.\u001b[0m\u001b[0mitems\u001b[0m\u001b[0;34m)\u001b[0m\u001b[0;34m)\u001b[0m\u001b[0;34m[\u001b[0m\u001b[0misna\u001b[0m\u001b[0;34m(\u001b[0m\u001b[0mself\u001b[0m\u001b[0;34m.\u001b[0m\u001b[0mitems\u001b[0m\u001b[0;34m)\u001b[0m\u001b[0;34m]\u001b[0m\u001b[0;34m\u001b[0m\u001b[0m\n",
      "\u001b[0;32m~/anaconda3/lib/python3.6/site-packages/pandas/core/indexes/base.py\u001b[0m in \u001b[0;36mget_loc\u001b[0;34m(self, key, method, tolerance)\u001b[0m\n\u001b[1;32m   2525\u001b[0m                 \u001b[0;32mreturn\u001b[0m \u001b[0mself\u001b[0m\u001b[0;34m.\u001b[0m\u001b[0m_engine\u001b[0m\u001b[0;34m.\u001b[0m\u001b[0mget_loc\u001b[0m\u001b[0;34m(\u001b[0m\u001b[0mkey\u001b[0m\u001b[0;34m)\u001b[0m\u001b[0;34m\u001b[0m\u001b[0m\n\u001b[1;32m   2526\u001b[0m             \u001b[0;32mexcept\u001b[0m \u001b[0mKeyError\u001b[0m\u001b[0;34m:\u001b[0m\u001b[0;34m\u001b[0m\u001b[0m\n\u001b[0;32m-> 2527\u001b[0;31m                 \u001b[0;32mreturn\u001b[0m \u001b[0mself\u001b[0m\u001b[0;34m.\u001b[0m\u001b[0m_engine\u001b[0m\u001b[0;34m.\u001b[0m\u001b[0mget_loc\u001b[0m\u001b[0;34m(\u001b[0m\u001b[0mself\u001b[0m\u001b[0;34m.\u001b[0m\u001b[0m_maybe_cast_indexer\u001b[0m\u001b[0;34m(\u001b[0m\u001b[0mkey\u001b[0m\u001b[0;34m)\u001b[0m\u001b[0;34m)\u001b[0m\u001b[0;34m\u001b[0m\u001b[0m\n\u001b[0m\u001b[1;32m   2528\u001b[0m \u001b[0;34m\u001b[0m\u001b[0m\n\u001b[1;32m   2529\u001b[0m         \u001b[0mindexer\u001b[0m \u001b[0;34m=\u001b[0m \u001b[0mself\u001b[0m\u001b[0;34m.\u001b[0m\u001b[0mget_indexer\u001b[0m\u001b[0;34m(\u001b[0m\u001b[0;34m[\u001b[0m\u001b[0mkey\u001b[0m\u001b[0;34m]\u001b[0m\u001b[0;34m,\u001b[0m \u001b[0mmethod\u001b[0m\u001b[0;34m=\u001b[0m\u001b[0mmethod\u001b[0m\u001b[0;34m,\u001b[0m \u001b[0mtolerance\u001b[0m\u001b[0;34m=\u001b[0m\u001b[0mtolerance\u001b[0m\u001b[0;34m)\u001b[0m\u001b[0;34m\u001b[0m\u001b[0m\n",
      "\u001b[0;32mpandas/_libs/index.pyx\u001b[0m in \u001b[0;36mpandas._libs.index.IndexEngine.get_loc\u001b[0;34m()\u001b[0m\n",
      "\u001b[0;32mpandas/_libs/index.pyx\u001b[0m in \u001b[0;36mpandas._libs.index.IndexEngine.get_loc\u001b[0;34m()\u001b[0m\n",
      "\u001b[0;32mpandas/_libs/hashtable_class_helper.pxi\u001b[0m in \u001b[0;36mpandas._libs.hashtable.PyObjectHashTable.get_item\u001b[0;34m()\u001b[0m\n",
      "\u001b[0;32mpandas/_libs/hashtable_class_helper.pxi\u001b[0m in \u001b[0;36mpandas._libs.hashtable.PyObjectHashTable.get_item\u001b[0;34m()\u001b[0m\n",
      "\u001b[0;31mKeyError\u001b[0m: 'T_connect_avg'"
     ]
    }
   ],
   "source": [
    "mam_pres['T_connect_avg'].plot(kind='bar', title='Build times', color = ['r', 'g', 'b']*int(len(hpc_split_pres)/3))"
   ]
  },
  {
   "cell_type": "code",
   "execution_count": null,
   "metadata": {},
   "outputs": [],
   "source": []
  },
  {
   "cell_type": "code",
   "execution_count": null,
   "metadata": {},
   "outputs": [],
   "source": []
  },
  {
   "cell_type": "markdown",
   "metadata": {},
   "source": [
    "# 4x4 mesocircuit"
   ]
  },
  {
   "cell_type": "code",
   "execution_count": 89,
   "metadata": {},
   "outputs": [],
   "source": [
    "meso_res = pd.concat([pd.read_csv(bench)\n",
    "                      for bench in glob.glob(mesocircuit_path)])"
   ]
  },
  {
   "cell_type": "code",
   "execution_count": 90,
   "metadata": {},
   "outputs": [
    {
     "name": "stdout",
     "output_type": "stream",
     "text": [
      "   NUMBER_OF_NODES  TASKS_PER_NODE  THREADS_PER_TASK   SCALE  \\\n",
      "0                1               2                12  0.0625   \n",
      "1                2               2                12  0.1250   \n",
      "2                4               2                12  0.2500   \n",
      "3                8               2                12  0.5000   \n",
      "4               16               2                12  1.0000   \n",
      "0                1               6                 4  0.0625   \n",
      "1                2               6                 4  0.1250   \n",
      "2                4               6                 4  0.2500   \n",
      "3                8               6                 4  0.5000   \n",
      "4               16               6                 4  1.0000   \n",
      "\n",
      "                               hash  T_nrns  T_conns_avg  T_sim  VSize_sum  \\\n",
      "0  acd429db3b9ab17b5f5391184e500dc6    0.61   275.380000  19.89   21605960   \n",
      "1  acd429db3b9ab17b5f5391184e500dc6    0.94   274.955000  23.64   43449764   \n",
      "2  acd429db3b9ab17b5f5391184e500dc6    1.73   339.923750  28.70   91284472   \n",
      "3  acd429db3b9ab17b5f5391184e500dc6    4.06   484.997500  26.74  186989028   \n",
      "4  acd429db3b9ab17b5f5391184e500dc6    7.92   765.540625  40.55  411247992   \n",
      "0  acd429db3b9ab17b5f5391184e500dc6    0.78   221.798333  11.97   23518496   \n",
      "1  acd429db3b9ab17b5f5391184e500dc6    1.29   235.642500  14.53   49518064   \n",
      "2  acd429db3b9ab17b5f5391184e500dc6    2.12   328.076250  16.05  104634248   \n",
      "3  acd429db3b9ab17b5f5391184e500dc6    3.87   432.631042  19.54  199583128   \n",
      "4  acd429db3b9ab17b5f5391184e500dc6    7.94   739.202708  29.91  452025848   \n",
      "\n",
      "    N_nrns  N_conns_sum  \n",
      "0    77169    345513663  \n",
      "1   154338    690961118  \n",
      "2   308676   1382076915  \n",
      "3   617352   2764017366  \n",
      "4  1234704   5527838034  \n",
      "0    77169    345513663  \n",
      "1   154338    690961118  \n",
      "2   308676   1382076915  \n",
      "3   617352   2764017366  \n",
      "4  1234704   5527838034  \n"
     ]
    }
   ],
   "source": [
    "print(meso_res)"
   ]
  },
  {
   "cell_type": "code",
   "execution_count": 91,
   "metadata": {},
   "outputs": [],
   "source": [
    "meso_pres = pd.pivot_table(meso_res, index=['SCALE','THREADS_PER_TASK', 'NUMBER_OF_NODES'],\n",
    "                           values=['T_conns_avg', 'VSize_sum', 'N_conns_sum'])"
   ]
  },
  {
   "cell_type": "code",
   "execution_count": 92,
   "metadata": {},
   "outputs": [
    {
     "data": {
      "text/html": [
       "<div>\n",
       "<style scoped>\n",
       "    .dataframe tbody tr th:only-of-type {\n",
       "        vertical-align: middle;\n",
       "    }\n",
       "\n",
       "    .dataframe tbody tr th {\n",
       "        vertical-align: top;\n",
       "    }\n",
       "\n",
       "    .dataframe thead th {\n",
       "        text-align: right;\n",
       "    }\n",
       "</style>\n",
       "<table border=\"1\" class=\"dataframe\">\n",
       "  <thead>\n",
       "    <tr style=\"text-align: right;\">\n",
       "      <th></th>\n",
       "      <th></th>\n",
       "      <th></th>\n",
       "      <th>N_conns_sum</th>\n",
       "      <th>T_conns_avg</th>\n",
       "      <th>VSize_sum</th>\n",
       "    </tr>\n",
       "    <tr>\n",
       "      <th>SCALE</th>\n",
       "      <th>THREADS_PER_TASK</th>\n",
       "      <th>NUMBER_OF_NODES</th>\n",
       "      <th></th>\n",
       "      <th></th>\n",
       "      <th></th>\n",
       "    </tr>\n",
       "  </thead>\n",
       "  <tbody>\n",
       "    <tr>\n",
       "      <th rowspan=\"2\" valign=\"top\">0.0625</th>\n",
       "      <th>4</th>\n",
       "      <th>1</th>\n",
       "      <td>345513663</td>\n",
       "      <td>221.798333</td>\n",
       "      <td>23518496</td>\n",
       "    </tr>\n",
       "    <tr>\n",
       "      <th>12</th>\n",
       "      <th>1</th>\n",
       "      <td>345513663</td>\n",
       "      <td>275.380000</td>\n",
       "      <td>21605960</td>\n",
       "    </tr>\n",
       "    <tr>\n",
       "      <th rowspan=\"2\" valign=\"top\">0.1250</th>\n",
       "      <th>4</th>\n",
       "      <th>2</th>\n",
       "      <td>690961118</td>\n",
       "      <td>235.642500</td>\n",
       "      <td>49518064</td>\n",
       "    </tr>\n",
       "    <tr>\n",
       "      <th>12</th>\n",
       "      <th>2</th>\n",
       "      <td>690961118</td>\n",
       "      <td>274.955000</td>\n",
       "      <td>43449764</td>\n",
       "    </tr>\n",
       "    <tr>\n",
       "      <th rowspan=\"2\" valign=\"top\">0.2500</th>\n",
       "      <th>4</th>\n",
       "      <th>4</th>\n",
       "      <td>1382076915</td>\n",
       "      <td>328.076250</td>\n",
       "      <td>104634248</td>\n",
       "    </tr>\n",
       "    <tr>\n",
       "      <th>12</th>\n",
       "      <th>4</th>\n",
       "      <td>1382076915</td>\n",
       "      <td>339.923750</td>\n",
       "      <td>91284472</td>\n",
       "    </tr>\n",
       "    <tr>\n",
       "      <th rowspan=\"2\" valign=\"top\">0.5000</th>\n",
       "      <th>4</th>\n",
       "      <th>8</th>\n",
       "      <td>2764017366</td>\n",
       "      <td>432.631042</td>\n",
       "      <td>199583128</td>\n",
       "    </tr>\n",
       "    <tr>\n",
       "      <th>12</th>\n",
       "      <th>8</th>\n",
       "      <td>2764017366</td>\n",
       "      <td>484.997500</td>\n",
       "      <td>186989028</td>\n",
       "    </tr>\n",
       "    <tr>\n",
       "      <th rowspan=\"2\" valign=\"top\">1.0000</th>\n",
       "      <th>4</th>\n",
       "      <th>16</th>\n",
       "      <td>5527838034</td>\n",
       "      <td>739.202708</td>\n",
       "      <td>452025848</td>\n",
       "    </tr>\n",
       "    <tr>\n",
       "      <th>12</th>\n",
       "      <th>16</th>\n",
       "      <td>5527838034</td>\n",
       "      <td>765.540625</td>\n",
       "      <td>411247992</td>\n",
       "    </tr>\n",
       "  </tbody>\n",
       "</table>\n",
       "</div>"
      ],
      "text/plain": [
       "                                         N_conns_sum  T_conns_avg  VSize_sum\n",
       "SCALE  THREADS_PER_TASK NUMBER_OF_NODES                                     \n",
       "0.0625 4                1                  345513663   221.798333   23518496\n",
       "       12               1                  345513663   275.380000   21605960\n",
       "0.1250 4                2                  690961118   235.642500   49518064\n",
       "       12               2                  690961118   274.955000   43449764\n",
       "0.2500 4                4                 1382076915   328.076250  104634248\n",
       "       12               4                 1382076915   339.923750   91284472\n",
       "0.5000 4                8                 2764017366   432.631042  199583128\n",
       "       12               8                 2764017366   484.997500  186989028\n",
       "1.0000 4                16                5527838034   739.202708  452025848\n",
       "       12               16                5527838034   765.540625  411247992"
      ]
     },
     "execution_count": 92,
     "metadata": {},
     "output_type": "execute_result"
    }
   ],
   "source": [
    "meso_pres"
   ]
  },
  {
   "cell_type": "code",
   "execution_count": 94,
   "metadata": {},
   "outputs": [
    {
     "data": {
      "text/plain": [
       "<matplotlib.axes._subplots.AxesSubplot at 0x7fa0d9b2d2e8>"
      ]
     },
     "execution_count": 94,
     "metadata": {},
     "output_type": "execute_result"
    },
    {
     "data": {
      "image/png": "[encoded data removed]",
      "text/plain": [
       "<matplotlib.figure.Figure at 0x7fa0d9b28198>"
      ]
     },
     "metadata": {},
     "output_type": "display_data"
    }
   ],
   "source": [
    "meso_pres['T_conns_avg'].plot(kind='bar', title='Build times', color = ['r', 'g', 'b']*int(len(hpc_split_pres)/3))"
   ]
  },
  {
   "cell_type": "code",
   "execution_count": 95,
   "metadata": {},
   "outputs": [
    {
     "data": {
      "text/plain": [
       "<matplotlib.axes._subplots.AxesSubplot at 0x7fa0d9a9f128>"
      ]
     },
     "execution_count": 95,
     "metadata": {},
     "output_type": "execute_result"
    },
    {
     "data": {
      "image/png": "[encoded data removed]",
      "text/plain": [
       "<matplotlib.figure.Figure at 0x7fa0d9a29b00>"
      ]
     },
     "metadata": {},
     "output_type": "display_data"
    }
   ],
   "source": [
    "meso_pres['VSize_sum'].plot(kind='bar', title='VSize_sum', color = ['r', 'g', 'b']*int(len(hpc_split_pres)/3))"
   ]
  },
  {
   "cell_type": "code",
   "execution_count": null,
   "metadata": {},
   "outputs": [],
   "source": []
  }
 ],
 "metadata": {
  "kernelspec": {
   "display_name": "Python 3",
   "language": "python",
   "name": "python3"
  },
  "language_info": {
   "codemirror_mode": {
    "name": "ipython",
    "version": 3
   },
   "file_extension": ".py",
   "mimetype": "text/x-python",
   "name": "python",
   "nbconvert_exporter": "python",
   "pygments_lexer": "ipython3",
   "version": "3.6.4"
  }
 },
 "nbformat": 4,
 "nbformat_minor": 2
}
