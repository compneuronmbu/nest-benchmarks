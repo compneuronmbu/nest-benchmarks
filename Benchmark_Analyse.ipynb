{
 "cells": [
  {
   "cell_type": "markdown",
   "metadata": {},
   "source": [
    "# NEST Benchmarks\n",
    "\n",
    "We have run the following benchmarks:\n",
    "- Synthetic benchmarks\n",
    "  - HPC bencmark.\n",
    "  - HPC bencmark split into many `Connect` calls.\n",
    "    - One where we time each connection 'bulk' to get connections/second\n",
    "    - One where we time all connections together, like in the normal HPC benchmark.\n",
    "  - HPC benchmark where we use the same connection rule for all `Connect` calls (`one_to_one`, `all_to_all`, `fixed_indegree`, `fixed_outdegree`, `fixed_total_number`, `pairwise_bernoulli` and `symmetric_pairwise_bernoulli`) and compute connections/second.\n",
    "- Realistic benchmarks\n",
    "  - Multi-area-model\n",
    "    - See https://github.com/INM-6/multi-area-model\n",
    "  - 4x4 Mesocircuit model\n",
    "    - See https://github.com/INM-6/4x4mm2LFP/tree/master\n",
    "\n",
    "\n",
    "### Specifications\n",
    "\n",
    "All of the benchmarks were run with the following number of nodes, VPs, scales, threads:\n",
    "\n",
    "| Nodes | VPs | Scale - hpc | Scale - MAM | Scale - 4x4 | Threads |\n",
    "|:-----:|:---:|:-----------:|:-----------:|:-----------:|:-------:|\n",
    "|   1   |  24 |      20     |    0.0625   |    0.0625   |1,4,8,12 |\n",
    "|   2   |  48 |      40     |    0.125    |    0.125    |1,4,8,12 |\n",
    "|   4   |  96 |      80     |    0.25     |    0.25     |1,4,8,12 |\n",
    "|   8   | 192 |     160     |    0.5      |    0.5      |1,4,8,12 |\n",
    "|   16  | 384 |     320     |    1.0      |    1.0      |1,4,8,12 |\n",
    "\n",
    "\n",
    "**Hardware:**\n",
    "All benchmarks are run on Piz Daint. We used the multicore XC40 Intel Broadwell 2 x 18-core nodes (XC40 Compute Nodes, with two Intel® Xeon® E5-2695 v4 @ 2.10GHz (2 x 18 cores, 64/128 GB RAM))\n",
    "\n",
    "**NEST:**\n",
    "NEST git hash: `91b3fa71`\n",
    "https://github.com/nest/nest-simulator/tree/91b3fa71056d159eaef884e78908cfc6cb2ce431"
   ]
  },
  {
   "cell_type": "code",
   "execution_count": 1,
   "metadata": {},
   "outputs": [],
   "source": [
    "import pandas as pd\n",
    "import matplotlib.pyplot as plt\n",
    "import glob"
   ]
  },
  {
   "cell_type": "code",
   "execution_count": 2,
   "metadata": {},
   "outputs": [],
   "source": [
    "hpc_path = f'results/hpc_benchmark_2_16_1_daint_strict_thread_*.csv'\n",
    "\n",
    "hpc_split_path = f'results/hpc_benchmark_2_16_1_daint_strict_split_thread_*.csv'\n",
    "hpc_split_new_path = f'results/hpc_benchmark_2_16_1_daint_strict_split_new_thread_*.csv'\n",
    "\n",
    "hpc_one_path = f'results/hpc_benchmark_2_16_1_daint_strict_one_thread_*.csv'\n",
    "hpc_all_path = f'results/hpc_benchmark_2_16_1_daint_strict_all_thread_*.csv'\n",
    "hpc_in_path = f'results/hpc_benchmark_2_16_1_daint_strict_in_thread_*.csv'\n",
    "hpc_out_path = f'results/hpc_benchmark_2_16_1_daint_strict_out_thread_*.csv'\n",
    "hpc_tot_path = f'results/hpc_benchmark_2_16_1_daint_strict_tot_thread_*.csv'\n",
    "hpc_bern_path = f'results/hpc_benchmark_2_16_1_daint_strict_bern_thread_*.csv'\n",
    "hpc_bern_sym_path = f'results/hpc_benchmark_2_16_1_daint_strict_sym-bern_thread_*.csv'\n",
    "\n",
    "mam_path = f'results/multi-area-model_2_16_1_daint_strict_thread_*.csv'\n",
    "\n",
    "mesocircuit_path = f'results/4x4_mesocircuit_2_16_1_daint_strict_thread_*.csv'"
   ]
  },
  {
   "cell_type": "markdown",
   "metadata": {},
   "source": [
    "# HPC benchmark"
   ]
  },
  {
   "cell_type": "code",
   "execution_count": 65,
   "metadata": {},
   "outputs": [],
   "source": [
    "hpc_res = pd.concat([pd.read_csv(bench)\n",
    "                     for bench in glob.glob(hpc_path)])"
   ]
  },
  {
   "cell_type": "code",
   "execution_count": null,
   "metadata": {},
   "outputs": [],
   "source": [
    "print(hpc_res)"
   ]
  },
  {
   "cell_type": "markdown",
   "metadata": {},
   "source": [
    "**Find Connection time:**"
   ]
  },
  {
   "cell_type": "code",
   "execution_count": 66,
   "metadata": {},
   "outputs": [],
   "source": [
    "hpc_res['T_bld_xn'] = hpc_res['T_conns_min'] + hpc_res['T_ini_max']\n",
    "hpc_res['T_bld_nx'] = hpc_res['T_conns_max'] + hpc_res['T_ini_min']\n",
    "\n",
    "hpc_res['T_bld'] = hpc_res[['T_bld_xn', 'T_bld_nx']].min(axis=1)"
   ]
  },
  {
   "cell_type": "code",
   "execution_count": 73,
   "metadata": {},
   "outputs": [],
   "source": [
    "hpc_pres = pd.pivot_table(hpc_res, index=['THREADS_PER_TASK', 'NUMBER_OF_NODES'],\n",
    "                      values=['T_bld', 'T_sim', 'VSize_sum', 'SCALE'])"
   ]
  },
  {
   "cell_type": "code",
   "execution_count": 68,
   "metadata": {},
   "outputs": [
    {
     "data": {
      "text/html": [
       "<div>\n",
       "<style scoped>\n",
       "    .dataframe tbody tr th:only-of-type {\n",
       "        vertical-align: middle;\n",
       "    }\n",
       "\n",
       "    .dataframe tbody tr th {\n",
       "        vertical-align: top;\n",
       "    }\n",
       "\n",
       "    .dataframe thead th {\n",
       "        text-align: right;\n",
       "    }\n",
       "</style>\n",
       "<table border=\"1\" class=\"dataframe\">\n",
       "  <thead>\n",
       "    <tr style=\"text-align: right;\">\n",
       "      <th></th>\n",
       "      <th></th>\n",
       "      <th>SCALE</th>\n",
       "      <th>T_bld</th>\n",
       "      <th>VSize_sum</th>\n",
       "    </tr>\n",
       "    <tr>\n",
       "      <th>THREADS_PER_TASK</th>\n",
       "      <th>NUMBER_OF_NODES</th>\n",
       "      <th></th>\n",
       "      <th></th>\n",
       "      <th></th>\n",
       "    </tr>\n",
       "  </thead>\n",
       "  <tbody>\n",
       "    <tr>\n",
       "      <th rowspan=\"5\" valign=\"top\">1</th>\n",
       "      <th>1</th>\n",
       "      <td>20</td>\n",
       "      <td>60.655</td>\n",
       "      <td>117612120</td>\n",
       "    </tr>\n",
       "    <tr>\n",
       "      <th>2</th>\n",
       "      <td>40</td>\n",
       "      <td>72.240</td>\n",
       "      <td>254238928</td>\n",
       "    </tr>\n",
       "    <tr>\n",
       "      <th>4</th>\n",
       "      <td>80</td>\n",
       "      <td>75.030</td>\n",
       "      <td>508691560</td>\n",
       "    </tr>\n",
       "    <tr>\n",
       "      <th>8</th>\n",
       "      <td>160</td>\n",
       "      <td>67.410</td>\n",
       "      <td>1134139288</td>\n",
       "    </tr>\n",
       "    <tr>\n",
       "      <th>16</th>\n",
       "      <td>320</td>\n",
       "      <td>81.830</td>\n",
       "      <td>2097372280</td>\n",
       "    </tr>\n",
       "    <tr>\n",
       "      <th rowspan=\"2\" valign=\"top\">3</th>\n",
       "      <th>1</th>\n",
       "      <td>20</td>\n",
       "      <td>93.280</td>\n",
       "      <td>109314720</td>\n",
       "    </tr>\n",
       "    <tr>\n",
       "      <th>8</th>\n",
       "      <td>160</td>\n",
       "      <td>100.870</td>\n",
       "      <td>993400984</td>\n",
       "    </tr>\n",
       "    <tr>\n",
       "      <th rowspan=\"5\" valign=\"top\">4</th>\n",
       "      <th>1</th>\n",
       "      <td>20</td>\n",
       "      <td>130.775</td>\n",
       "      <td>106329306</td>\n",
       "    </tr>\n",
       "    <tr>\n",
       "      <th>2</th>\n",
       "      <td>40</td>\n",
       "      <td>150.260</td>\n",
       "      <td>211971568</td>\n",
       "    </tr>\n",
       "    <tr>\n",
       "      <th>4</th>\n",
       "      <td>80</td>\n",
       "      <td>151.660</td>\n",
       "      <td>433026952</td>\n",
       "    </tr>\n",
       "    <tr>\n",
       "      <th>8</th>\n",
       "      <td>160</td>\n",
       "      <td>138.950</td>\n",
       "      <td>947933736</td>\n",
       "    </tr>\n",
       "    <tr>\n",
       "      <th>16</th>\n",
       "      <td>320</td>\n",
       "      <td>174.030</td>\n",
       "      <td>1909198328</td>\n",
       "    </tr>\n",
       "    <tr>\n",
       "      <th rowspan=\"2\" valign=\"top\">6</th>\n",
       "      <th>1</th>\n",
       "      <td>20</td>\n",
       "      <td>114.590</td>\n",
       "      <td>106362192</td>\n",
       "    </tr>\n",
       "    <tr>\n",
       "      <th>8</th>\n",
       "      <td>160</td>\n",
       "      <td>122.940</td>\n",
       "      <td>879023896</td>\n",
       "    </tr>\n",
       "    <tr>\n",
       "      <th rowspan=\"5\" valign=\"top\">8</th>\n",
       "      <th>1</th>\n",
       "      <td>20</td>\n",
       "      <td>175.350</td>\n",
       "      <td>104941020</td>\n",
       "    </tr>\n",
       "    <tr>\n",
       "      <th>2</th>\n",
       "      <td>40</td>\n",
       "      <td>196.370</td>\n",
       "      <td>207634176</td>\n",
       "    </tr>\n",
       "    <tr>\n",
       "      <th>4</th>\n",
       "      <td>80</td>\n",
       "      <td>204.540</td>\n",
       "      <td>416155432</td>\n",
       "    </tr>\n",
       "    <tr>\n",
       "      <th>8</th>\n",
       "      <td>160</td>\n",
       "      <td>217.330</td>\n",
       "      <td>852823288</td>\n",
       "    </tr>\n",
       "    <tr>\n",
       "      <th>16</th>\n",
       "      <td>320</td>\n",
       "      <td>238.310</td>\n",
       "      <td>1888055032</td>\n",
       "    </tr>\n",
       "    <tr>\n",
       "      <th rowspan=\"2\" valign=\"top\">9</th>\n",
       "      <th>1</th>\n",
       "      <td>20</td>\n",
       "      <td>136.650</td>\n",
       "      <td>105655064</td>\n",
       "    </tr>\n",
       "    <tr>\n",
       "      <th>8</th>\n",
       "      <td>160</td>\n",
       "      <td>147.050</td>\n",
       "      <td>864894848</td>\n",
       "    </tr>\n",
       "    <tr>\n",
       "      <th rowspan=\"5\" valign=\"top\">12</th>\n",
       "      <th>1</th>\n",
       "      <td>20</td>\n",
       "      <td>199.760</td>\n",
       "      <td>103576260</td>\n",
       "    </tr>\n",
       "    <tr>\n",
       "      <th>2</th>\n",
       "      <td>40</td>\n",
       "      <td>234.330</td>\n",
       "      <td>203051508</td>\n",
       "    </tr>\n",
       "    <tr>\n",
       "      <th>4</th>\n",
       "      <td>80</td>\n",
       "      <td>233.600</td>\n",
       "      <td>406860456</td>\n",
       "    </tr>\n",
       "    <tr>\n",
       "      <th>8</th>\n",
       "      <td>160</td>\n",
       "      <td>256.860</td>\n",
       "      <td>838010712</td>\n",
       "    </tr>\n",
       "    <tr>\n",
       "      <th>16</th>\n",
       "      <td>320</td>\n",
       "      <td>295.410</td>\n",
       "      <td>1882060152</td>\n",
       "    </tr>\n",
       "    <tr>\n",
       "      <th rowspan=\"2\" valign=\"top\">18</th>\n",
       "      <th>1</th>\n",
       "      <td>20</td>\n",
       "      <td>190.860</td>\n",
       "      <td>106068948</td>\n",
       "    </tr>\n",
       "    <tr>\n",
       "      <th>8</th>\n",
       "      <td>160</td>\n",
       "      <td>239.340</td>\n",
       "      <td>858372308</td>\n",
       "    </tr>\n",
       "  </tbody>\n",
       "</table>\n",
       "</div>"
      ],
      "text/plain": [
       "                                  SCALE    T_bld   VSize_sum\n",
       "THREADS_PER_TASK NUMBER_OF_NODES                            \n",
       "1                1                   20   60.655   117612120\n",
       "                 2                   40   72.240   254238928\n",
       "                 4                   80   75.030   508691560\n",
       "                 8                  160   67.410  1134139288\n",
       "                 16                 320   81.830  2097372280\n",
       "3                1                   20   93.280   109314720\n",
       "                 8                  160  100.870   993400984\n",
       "4                1                   20  130.775   106329306\n",
       "                 2                   40  150.260   211971568\n",
       "                 4                   80  151.660   433026952\n",
       "                 8                  160  138.950   947933736\n",
       "                 16                 320  174.030  1909198328\n",
       "6                1                   20  114.590   106362192\n",
       "                 8                  160  122.940   879023896\n",
       "8                1                   20  175.350   104941020\n",
       "                 2                   40  196.370   207634176\n",
       "                 4                   80  204.540   416155432\n",
       "                 8                  160  217.330   852823288\n",
       "                 16                 320  238.310  1888055032\n",
       "9                1                   20  136.650   105655064\n",
       "                 8                  160  147.050   864894848\n",
       "12               1                   20  199.760   103576260\n",
       "                 2                   40  234.330   203051508\n",
       "                 4                   80  233.600   406860456\n",
       "                 8                  160  256.860   838010712\n",
       "                 16                 320  295.410  1882060152\n",
       "18               1                   20  190.860   106068948\n",
       "                 8                  160  239.340   858372308"
      ]
     },
     "execution_count": 68,
     "metadata": {},
     "output_type": "execute_result"
    }
   ],
   "source": [
    "hpc_pres"
   ]
  },
  {
   "cell_type": "code",
   "execution_count": 74,
   "metadata": {},
   "outputs": [
    {
     "data": {
      "text/plain": [
       "<matplotlib.axes._subplots.AxesSubplot at 0x7fbf63a2f5c0>"
      ]
     },
     "execution_count": 74,
     "metadata": {},
     "output_type": "execute_result"
    },
    {
     "data": {
      "image/png": "[encoded data removed]",
      "text/plain": [
       "<matplotlib.figure.Figure at 0x7fbf9ff662b0>"
      ]
     },
     "metadata": {},
     "output_type": "display_data"
    }
   ],
   "source": [
    "hpc_pres['T_sim'].plot(kind='bar', title='Build times',\n",
    "                       color = ['r', 'g', 'b', 'm']*int(len(hpc_pres)/4), figsize=(12,5))"
   ]
  },
  {
   "cell_type": "code",
   "execution_count": 70,
   "metadata": {},
   "outputs": [
    {
     "data": {
      "text/plain": [
       "<matplotlib.axes._subplots.AxesSubplot at 0x7fbf63934c18>"
      ]
     },
     "execution_count": 70,
     "metadata": {},
     "output_type": "execute_result"
    },
    {
     "data": {
      "image/png": "[encoded data removed]",
      "text/plain": [
       "<matplotlib.figure.Figure at 0x7fbf638d1438>"
      ]
     },
     "metadata": {},
     "output_type": "display_data"
    }
   ],
   "source": [
    "(hpc_pres['VSize_sum']/hpc_pres['SCALE']).plot(kind='bar', title='V_size',\n",
    "                           color = ['r', 'g', 'b', 'm']*int(len(hpc_pres)/4), figsize=(12,5))"
   ]
  },
  {
   "cell_type": "code",
   "execution_count": null,
   "metadata": {},
   "outputs": [],
   "source": [
    "1882060152/1024**2/16"
   ]
  },
  {
   "cell_type": "code",
   "execution_count": null,
   "metadata": {},
   "outputs": [],
   "source": []
  },
  {
   "cell_type": "markdown",
   "metadata": {},
   "source": [
    "## HPC Benchmark - test threads"
   ]
  },
  {
   "cell_type": "code",
   "execution_count": 60,
   "metadata": {},
   "outputs": [
    {
     "data": {
      "text/html": [
       "<div>\n",
       "<style scoped>\n",
       "    .dataframe tbody tr th:only-of-type {\n",
       "        vertical-align: middle;\n",
       "    }\n",
       "\n",
       "    .dataframe tbody tr th {\n",
       "        vertical-align: top;\n",
       "    }\n",
       "\n",
       "    .dataframe thead th {\n",
       "        text-align: right;\n",
       "    }\n",
       "</style>\n",
       "<table border=\"1\" class=\"dataframe\">\n",
       "  <thead>\n",
       "    <tr style=\"text-align: right;\">\n",
       "      <th></th>\n",
       "      <th>NUMBER_OF_NODES</th>\n",
       "      <th>TASKS_PER_NODE</th>\n",
       "      <th>THREADS_PER_TASK</th>\n",
       "      <th>NUM_VPS</th>\n",
       "      <th>SCALE</th>\n",
       "      <th>PLASTIC</th>\n",
       "      <th>T_nrns</th>\n",
       "      <th>T_conns_min</th>\n",
       "      <th>T_conns_max</th>\n",
       "      <th>T_ini_min</th>\n",
       "      <th>T_ini_max</th>\n",
       "      <th>T_equ</th>\n",
       "      <th>T_sim</th>\n",
       "      <th>VSize_sum</th>\n",
       "      <th>N_spks_sum</th>\n",
       "      <th>Rate_sum</th>\n",
       "      <th>N_nrns</th>\n",
       "      <th>N_conns_sum</th>\n",
       "      <th>d_min</th>\n",
       "      <th>d_max</th>\n",
       "    </tr>\n",
       "  </thead>\n",
       "  <tbody>\n",
       "    <tr>\n",
       "      <th>0</th>\n",
       "      <td>8</td>\n",
       "      <td>36</td>\n",
       "      <td>1</td>\n",
       "      <td>288</td>\n",
       "      <td>160</td>\n",
       "      <td>True</td>\n",
       "      <td>0.50</td>\n",
       "      <td>24.64</td>\n",
       "      <td>26.48</td>\n",
       "      <td>30.50</td>\n",
       "      <td>32.36</td>\n",
       "      <td>10.61</td>\n",
       "      <td>192.97</td>\n",
       "      <td>1222915480</td>\n",
       "      <td>12512534</td>\n",
       "      <td>6.851</td>\n",
       "      <td>1800000</td>\n",
       "      <td>20251801000</td>\n",
       "      <td>1.5</td>\n",
       "      <td>1.5</td>\n",
       "    </tr>\n",
       "    <tr>\n",
       "      <th>1</th>\n",
       "      <td>8</td>\n",
       "      <td>12</td>\n",
       "      <td>3</td>\n",
       "      <td>288</td>\n",
       "      <td>160</td>\n",
       "      <td>True</td>\n",
       "      <td>0.28</td>\n",
       "      <td>43.72</td>\n",
       "      <td>52.70</td>\n",
       "      <td>48.23</td>\n",
       "      <td>57.15</td>\n",
       "      <td>14.29</td>\n",
       "      <td>200.62</td>\n",
       "      <td>993400984</td>\n",
       "      <td>12507695</td>\n",
       "      <td>6.875</td>\n",
       "      <td>1800000</td>\n",
       "      <td>20251801000</td>\n",
       "      <td>1.5</td>\n",
       "      <td>1.5</td>\n",
       "    </tr>\n",
       "    <tr>\n",
       "      <th>2</th>\n",
       "      <td>8</td>\n",
       "      <td>9</td>\n",
       "      <td>4</td>\n",
       "      <td>288</td>\n",
       "      <td>160</td>\n",
       "      <td>True</td>\n",
       "      <td>0.30</td>\n",
       "      <td>52.82</td>\n",
       "      <td>58.14</td>\n",
       "      <td>57.05</td>\n",
       "      <td>62.37</td>\n",
       "      <td>15.78</td>\n",
       "      <td>215.01</td>\n",
       "      <td>989935288</td>\n",
       "      <td>12512534</td>\n",
       "      <td>6.851</td>\n",
       "      <td>1800000</td>\n",
       "      <td>20251801000</td>\n",
       "      <td>1.5</td>\n",
       "      <td>1.5</td>\n",
       "    </tr>\n",
       "    <tr>\n",
       "      <th>3</th>\n",
       "      <td>8</td>\n",
       "      <td>6</td>\n",
       "      <td>6</td>\n",
       "      <td>288</td>\n",
       "      <td>160</td>\n",
       "      <td>True</td>\n",
       "      <td>0.42</td>\n",
       "      <td>57.28</td>\n",
       "      <td>62.36</td>\n",
       "      <td>60.58</td>\n",
       "      <td>65.66</td>\n",
       "      <td>14.95</td>\n",
       "      <td>210.50</td>\n",
       "      <td>879023896</td>\n",
       "      <td>12512534</td>\n",
       "      <td>6.851</td>\n",
       "      <td>1800000</td>\n",
       "      <td>20251801000</td>\n",
       "      <td>1.5</td>\n",
       "      <td>1.5</td>\n",
       "    </tr>\n",
       "    <tr>\n",
       "      <th>4</th>\n",
       "      <td>8</td>\n",
       "      <td>4</td>\n",
       "      <td>9</td>\n",
       "      <td>288</td>\n",
       "      <td>160</td>\n",
       "      <td>True</td>\n",
       "      <td>0.46</td>\n",
       "      <td>64.50</td>\n",
       "      <td>71.48</td>\n",
       "      <td>75.58</td>\n",
       "      <td>82.55</td>\n",
       "      <td>16.01</td>\n",
       "      <td>213.62</td>\n",
       "      <td>864894848</td>\n",
       "      <td>12512534</td>\n",
       "      <td>6.851</td>\n",
       "      <td>1800000</td>\n",
       "      <td>20251801000</td>\n",
       "      <td>1.5</td>\n",
       "      <td>1.5</td>\n",
       "    </tr>\n",
       "    <tr>\n",
       "      <th>5</th>\n",
       "      <td>8</td>\n",
       "      <td>2</td>\n",
       "      <td>18</td>\n",
       "      <td>288</td>\n",
       "      <td>160</td>\n",
       "      <td>True</td>\n",
       "      <td>0.90</td>\n",
       "      <td>86.99</td>\n",
       "      <td>98.33</td>\n",
       "      <td>141.01</td>\n",
       "      <td>152.35</td>\n",
       "      <td>15.48</td>\n",
       "      <td>215.94</td>\n",
       "      <td>858372308</td>\n",
       "      <td>12512534</td>\n",
       "      <td>6.851</td>\n",
       "      <td>1800000</td>\n",
       "      <td>20251801000</td>\n",
       "      <td>1.5</td>\n",
       "      <td>1.5</td>\n",
       "    </tr>\n",
       "  </tbody>\n",
       "</table>\n",
       "</div>"
      ],
      "text/plain": [
       "   NUMBER_OF_NODES  TASKS_PER_NODE  THREADS_PER_TASK  NUM_VPS  SCALE  PLASTIC  \\\n",
       "0                8              36                 1      288    160     True   \n",
       "1                8              12                 3      288    160     True   \n",
       "2                8               9                 4      288    160     True   \n",
       "3                8               6                 6      288    160     True   \n",
       "4                8               4                 9      288    160     True   \n",
       "5                8               2                18      288    160     True   \n",
       "\n",
       "   T_nrns  T_conns_min  T_conns_max  T_ini_min  T_ini_max  T_equ   T_sim  \\\n",
       "0    0.50        24.64        26.48      30.50      32.36  10.61  192.97   \n",
       "1    0.28        43.72        52.70      48.23      57.15  14.29  200.62   \n",
       "2    0.30        52.82        58.14      57.05      62.37  15.78  215.01   \n",
       "3    0.42        57.28        62.36      60.58      65.66  14.95  210.50   \n",
       "4    0.46        64.50        71.48      75.58      82.55  16.01  213.62   \n",
       "5    0.90        86.99        98.33     141.01     152.35  15.48  215.94   \n",
       "\n",
       "    VSize_sum  N_spks_sum  Rate_sum   N_nrns  N_conns_sum  d_min  d_max  \n",
       "0  1222915480    12512534     6.851  1800000  20251801000    1.5    1.5  \n",
       "1   993400984    12507695     6.875  1800000  20251801000    1.5    1.5  \n",
       "2   989935288    12512534     6.851  1800000  20251801000    1.5    1.5  \n",
       "3   879023896    12512534     6.851  1800000  20251801000    1.5    1.5  \n",
       "4   864894848    12512534     6.851  1800000  20251801000    1.5    1.5  \n",
       "5   858372308    12512534     6.851  1800000  20251801000    1.5    1.5  "
      ]
     },
     "execution_count": 60,
     "metadata": {},
     "output_type": "execute_result"
    }
   ],
   "source": [
    "hpc_thread_res = pd.read_csv('results/hpc_benchmark_2_16_1_daint_strict_thread_all.csv')\n",
    "hpc_thread_res"
   ]
  },
  {
   "cell_type": "code",
   "execution_count": 61,
   "metadata": {},
   "outputs": [
    {
     "data": {
      "text/plain": [
       "0    192.97\n",
       "1    200.62\n",
       "2    215.01\n",
       "3    210.50\n",
       "4    213.62\n",
       "5    215.94\n",
       "Name: T_sim, dtype: float64"
      ]
     },
     "execution_count": 61,
     "metadata": {},
     "output_type": "execute_result"
    }
   ],
   "source": [
    "hpc_thread_res['T_bld_xn'] = hpc_thread_res['T_conns_min'] + hpc_thread_res['T_ini_max']\n",
    "hpc_thread_res['T_bld_nx'] = hpc_thread_res['T_conns_max'] + hpc_thread_res['T_ini_min']\n",
    "\n",
    "hpc_thread_res['T_bld'] = hpc_thread_res[['T_bld_xn', 'T_bld_nx']].min(axis=1)\n",
    "\n",
    "hpc_thread_res['T_sim']"
   ]
  },
  {
   "cell_type": "code",
   "execution_count": 62,
   "metadata": {},
   "outputs": [
    {
     "data": {
      "text/html": [
       "<div>\n",
       "<style scoped>\n",
       "    .dataframe tbody tr th:only-of-type {\n",
       "        vertical-align: middle;\n",
       "    }\n",
       "\n",
       "    .dataframe tbody tr th {\n",
       "        vertical-align: top;\n",
       "    }\n",
       "\n",
       "    .dataframe thead th {\n",
       "        text-align: right;\n",
       "    }\n",
       "</style>\n",
       "<table border=\"1\" class=\"dataframe\">\n",
       "  <thead>\n",
       "    <tr style=\"text-align: right;\">\n",
       "      <th></th>\n",
       "      <th></th>\n",
       "      <th></th>\n",
       "      <th>T_bld</th>\n",
       "      <th>T_conns_min</th>\n",
       "      <th>T_ini_min</th>\n",
       "      <th>T_sim</th>\n",
       "      <th>VSize_sum</th>\n",
       "    </tr>\n",
       "    <tr>\n",
       "      <th>SCALE</th>\n",
       "      <th>THREADS_PER_TASK</th>\n",
       "      <th>NUMBER_OF_NODES</th>\n",
       "      <th></th>\n",
       "      <th></th>\n",
       "      <th></th>\n",
       "      <th></th>\n",
       "      <th></th>\n",
       "    </tr>\n",
       "  </thead>\n",
       "  <tbody>\n",
       "    <tr>\n",
       "      <th rowspan=\"6\" valign=\"top\">160</th>\n",
       "      <th>1</th>\n",
       "      <th>8</th>\n",
       "      <td>56.98</td>\n",
       "      <td>24.64</td>\n",
       "      <td>30.50</td>\n",
       "      <td>192.97</td>\n",
       "      <td>1222915480</td>\n",
       "    </tr>\n",
       "    <tr>\n",
       "      <th>3</th>\n",
       "      <th>8</th>\n",
       "      <td>100.87</td>\n",
       "      <td>43.72</td>\n",
       "      <td>48.23</td>\n",
       "      <td>200.62</td>\n",
       "      <td>993400984</td>\n",
       "    </tr>\n",
       "    <tr>\n",
       "      <th>4</th>\n",
       "      <th>8</th>\n",
       "      <td>115.19</td>\n",
       "      <td>52.82</td>\n",
       "      <td>57.05</td>\n",
       "      <td>215.01</td>\n",
       "      <td>989935288</td>\n",
       "    </tr>\n",
       "    <tr>\n",
       "      <th>6</th>\n",
       "      <th>8</th>\n",
       "      <td>122.94</td>\n",
       "      <td>57.28</td>\n",
       "      <td>60.58</td>\n",
       "      <td>210.50</td>\n",
       "      <td>879023896</td>\n",
       "    </tr>\n",
       "    <tr>\n",
       "      <th>9</th>\n",
       "      <th>8</th>\n",
       "      <td>147.05</td>\n",
       "      <td>64.50</td>\n",
       "      <td>75.58</td>\n",
       "      <td>213.62</td>\n",
       "      <td>864894848</td>\n",
       "    </tr>\n",
       "    <tr>\n",
       "      <th>18</th>\n",
       "      <th>8</th>\n",
       "      <td>239.34</td>\n",
       "      <td>86.99</td>\n",
       "      <td>141.01</td>\n",
       "      <td>215.94</td>\n",
       "      <td>858372308</td>\n",
       "    </tr>\n",
       "  </tbody>\n",
       "</table>\n",
       "</div>"
      ],
      "text/plain": [
       "                                         T_bld  T_conns_min  T_ini_min  \\\n",
       "SCALE THREADS_PER_TASK NUMBER_OF_NODES                                   \n",
       "160   1                8                 56.98        24.64      30.50   \n",
       "      3                8                100.87        43.72      48.23   \n",
       "      4                8                115.19        52.82      57.05   \n",
       "      6                8                122.94        57.28      60.58   \n",
       "      9                8                147.05        64.50      75.58   \n",
       "      18               8                239.34        86.99     141.01   \n",
       "\n",
       "                                         T_sim   VSize_sum  \n",
       "SCALE THREADS_PER_TASK NUMBER_OF_NODES                      \n",
       "160   1                8                192.97  1222915480  \n",
       "      3                8                200.62   993400984  \n",
       "      4                8                215.01   989935288  \n",
       "      6                8                210.50   879023896  \n",
       "      9                8                213.62   864894848  \n",
       "      18               8                215.94   858372308  "
      ]
     },
     "execution_count": 62,
     "metadata": {},
     "output_type": "execute_result"
    }
   ],
   "source": [
    "hpc_thread_res = pd.pivot_table(hpc_thread_res, index=['SCALE', 'THREADS_PER_TASK', 'NUMBER_OF_NODES'],\n",
    "                                values=['T_bld', 'T_conns_min','T_ini_min', 'VSize_sum', 'T_sim'])\n",
    "hpc_thread_res"
   ]
  },
  {
   "cell_type": "code",
   "execution_count": 14,
   "metadata": {},
   "outputs": [
    {
     "data": {
      "text/plain": [
       "<matplotlib.axes._subplots.AxesSubplot at 0x7fbf643e2978>"
      ]
     },
     "execution_count": 14,
     "metadata": {},
     "output_type": "execute_result"
    },
    {
     "data": {
      "image/png": "[encoded data removed]",
      "text/plain": [
       "<matplotlib.figure.Figure at 0x7fbf643cc8d0>"
      ]
     },
     "metadata": {},
     "output_type": "display_data"
    }
   ],
   "source": [
    "hpc_thread_res['T_bld'].plot(kind='bar', title='Build times',\n",
    "                             color = ['r', 'g', 'b', 'm', 'y', 'c', 'C0', 'C1']*int(len(hpc_thread_res)/6),\n",
    "                             figsize=(12,5))"
   ]
  },
  {
   "cell_type": "code",
   "execution_count": 16,
   "metadata": {},
   "outputs": [
    {
     "data": {
      "text/plain": [
       "<matplotlib.axes._subplots.AxesSubplot at 0x7fbf643275f8>"
      ]
     },
     "execution_count": 16,
     "metadata": {},
     "output_type": "execute_result"
    },
    {
     "data": {
      "image/png": "[encoded data removed]",
      "text/plain": [
       "<matplotlib.figure.Figure at 0x7fbf645d9400>"
      ]
     },
     "metadata": {},
     "output_type": "display_data"
    }
   ],
   "source": [
    "hpc_thread_res['T_sim'].plot(kind='bar', title='sim times',\n",
    "                             color = ['r', 'g', 'b', 'm', 'y', 'c', 'C0', 'C1']*int(len(hpc_thread_res)/6),\n",
    "                             figsize=(12,5))"
   ]
  },
  {
   "cell_type": "code",
   "execution_count": null,
   "metadata": {},
   "outputs": [],
   "source": [
    "hpc_thread_res['VSize_sum'].plot(kind='bar', title='V_size',\n",
    "                                 color = ['r', 'g', 'b', 'm', 'y', 'c', 'C0', 'C1']*int(len(hpc_thread_res)/6),\n",
    "                                 figsize=(12,5))"
   ]
  },
  {
   "cell_type": "code",
   "execution_count": 63,
   "metadata": {},
   "outputs": [
    {
     "data": {
      "text/plain": [
       "<matplotlib.axes._subplots.AxesSubplot at 0x7fbf63a9aef0>"
      ]
     },
     "execution_count": 63,
     "metadata": {},
     "output_type": "execute_result"
    },
    {
     "data": {
      "image/png": "[encoded data removed]",
      "text/plain": [
       "<matplotlib.figure.Figure at 0x7fbf63b7a1d0>"
      ]
     },
     "metadata": {},
     "output_type": "display_data"
    }
   ],
   "source": [
    "hpc_thread_res['T_conns_min'].plot(kind='bar', title='V_size',\n",
    "                                 color = ['r', 'g', 'b', 'm', 'y', 'c', 'C0', 'C1']*int(len(hpc_thread_res)/6),\n",
    "                                 figsize=(12,5))"
   ]
  },
  {
   "cell_type": "code",
   "execution_count": 64,
   "metadata": {},
   "outputs": [
    {
     "data": {
      "text/plain": [
       "<matplotlib.axes._subplots.AxesSubplot at 0x7fbf63a2fb00>"
      ]
     },
     "execution_count": 64,
     "metadata": {},
     "output_type": "execute_result"
    },
    {
     "data": {
      "image/png": "[encoded data removed]",
      "text/plain": [
       "<matplotlib.figure.Figure at 0x7fbf63a92a20>"
      ]
     },
     "metadata": {},
     "output_type": "display_data"
    }
   ],
   "source": [
    "hpc_thread_res['T_ini_min'].plot(kind='bar', title='V_size',\n",
    "                                 color = ['r', 'g', 'b', 'm', 'y', 'c', 'C0', 'C1']*int(len(hpc_thread_res)/6),\n",
    "                                 figsize=(12,5))"
   ]
  },
  {
   "cell_type": "markdown",
   "metadata": {},
   "source": [
    "### NODE = 1, SCALE = 20, VPs = 36"
   ]
  },
  {
   "cell_type": "code",
   "execution_count": null,
   "metadata": {},
   "outputs": [],
   "source": [
    "hpc_thread_node1_res = pd.read_csv('results/hpc_benchmark_2_16_1_daint_strict_thread_all_node1.csv')\n",
    "hpc_thread_node1_res"
   ]
  },
  {
   "cell_type": "code",
   "execution_count": null,
   "metadata": {},
   "outputs": [],
   "source": [
    "hpc_thread_node1_res['T_bld_xn'] = hpc_thread_node1_res['T_conns_min'] + hpc_thread_node1_res['T_ini_max']\n",
    "hpc_thread_node1_res['T_bld_nx'] = hpc_thread_node1_res['T_conns_max'] + hpc_thread_node1_res['T_ini_min']\n",
    "\n",
    "hpc_thread_node1_res['T_bld'] = hpc_thread_node1_res[['T_bld_xn', 'T_bld_nx']].min(axis=1)\n",
    "\n",
    "hpc_thread_node1_res['T_sim']"
   ]
  },
  {
   "cell_type": "code",
   "execution_count": null,
   "metadata": {},
   "outputs": [],
   "source": [
    "hpc_thread_node1_res = pd.pivot_table(hpc_thread_node1_res, index=['SCALE', 'THREADS_PER_TASK', 'NUMBER_OF_NODES'],\n",
    "                                      values=['T_bld', 'VSize_sum', 'T_sim'])\n",
    "hpc_thread_node1_res"
   ]
  },
  {
   "cell_type": "code",
   "execution_count": null,
   "metadata": {},
   "outputs": [],
   "source": [
    "hpc_thread_node1_res['T_bld'].plot(kind='bar', title='Build times',\n",
    "                                   color = ['r', 'g', 'b', 'm', 'y', 'c', 'C0', 'C1']*int(len(hpc_thread_res)/8),\n",
    "                                   figsize=(12,5))"
   ]
  },
  {
   "cell_type": "code",
   "execution_count": null,
   "metadata": {},
   "outputs": [],
   "source": []
  },
  {
   "cell_type": "markdown",
   "metadata": {},
   "source": [
    "## No Jemalloc"
   ]
  },
  {
   "cell_type": "code",
   "execution_count": 23,
   "metadata": {
    "collapsed": true
   },
   "outputs": [
    {
     "name": "stdout",
     "output_type": "stream",
     "text": [
      "0    159.97\n",
      "1    200.43\n",
      "2    214.63\n",
      "3    209.40\n",
      "4    207.77\n",
      "5    211.09\n",
      "Name: T_sim, dtype: float64\n"
     ]
    },
    {
     "data": {
      "text/html": [
       "<div>\n",
       "<style scoped>\n",
       "    .dataframe tbody tr th:only-of-type {\n",
       "        vertical-align: middle;\n",
       "    }\n",
       "\n",
       "    .dataframe tbody tr th {\n",
       "        vertical-align: top;\n",
       "    }\n",
       "\n",
       "    .dataframe thead th {\n",
       "        text-align: right;\n",
       "    }\n",
       "</style>\n",
       "<table border=\"1\" class=\"dataframe\">\n",
       "  <thead>\n",
       "    <tr style=\"text-align: right;\">\n",
       "      <th></th>\n",
       "      <th></th>\n",
       "      <th></th>\n",
       "      <th>T_bld</th>\n",
       "      <th>T_sim</th>\n",
       "      <th>VSize_sum</th>\n",
       "    </tr>\n",
       "    <tr>\n",
       "      <th>SCALE</th>\n",
       "      <th>THREADS_PER_TASK</th>\n",
       "      <th>NUMBER_OF_NODES</th>\n",
       "      <th></th>\n",
       "      <th></th>\n",
       "      <th></th>\n",
       "    </tr>\n",
       "  </thead>\n",
       "  <tbody>\n",
       "    <tr>\n",
       "      <th rowspan=\"6\" valign=\"top\">160</th>\n",
       "      <th>1</th>\n",
       "      <th>8</th>\n",
       "      <td>58.52</td>\n",
       "      <td>159.97</td>\n",
       "      <td>987499260</td>\n",
       "    </tr>\n",
       "    <tr>\n",
       "      <th>3</th>\n",
       "      <th>8</th>\n",
       "      <td>98.84</td>\n",
       "      <td>200.43</td>\n",
       "      <td>796523824</td>\n",
       "    </tr>\n",
       "    <tr>\n",
       "      <th>4</th>\n",
       "      <th>8</th>\n",
       "      <td>117.00</td>\n",
       "      <td>214.63</td>\n",
       "      <td>781575668</td>\n",
       "    </tr>\n",
       "    <tr>\n",
       "      <th>6</th>\n",
       "      <th>8</th>\n",
       "      <td>126.40</td>\n",
       "      <td>209.40</td>\n",
       "      <td>741658636</td>\n",
       "    </tr>\n",
       "    <tr>\n",
       "      <th>9</th>\n",
       "      <th>8</th>\n",
       "      <td>142.72</td>\n",
       "      <td>207.77</td>\n",
       "      <td>728784396</td>\n",
       "    </tr>\n",
       "    <tr>\n",
       "      <th>18</th>\n",
       "      <th>8</th>\n",
       "      <td>220.84</td>\n",
       "      <td>211.09</td>\n",
       "      <td>730957964</td>\n",
       "    </tr>\n",
       "  </tbody>\n",
       "</table>\n",
       "</div>"
      ],
      "text/plain": [
       "                                         T_bld   T_sim  VSize_sum\n",
       "SCALE THREADS_PER_TASK NUMBER_OF_NODES                           \n",
       "160   1                8                 58.52  159.97  987499260\n",
       "      3                8                 98.84  200.43  796523824\n",
       "      4                8                117.00  214.63  781575668\n",
       "      6                8                126.40  209.40  741658636\n",
       "      9                8                142.72  207.77  728784396\n",
       "      18               8                220.84  211.09  730957964"
      ]
     },
     "execution_count": 23,
     "metadata": {},
     "output_type": "execute_result"
    }
   ],
   "source": [
    "hpc_thread_noJe_res = pd.read_csv('results/hpc_benchmark_2_16_1_daint_strict_noJe_thread_all.csv')\n",
    "#print(hpc_thread_noJe_res)\n",
    "\n",
    "hpc_thread_noJe_res['T_bld_xn'] = hpc_thread_noJe_res['T_conns_min'] + hpc_thread_noJe_res['T_ini_max']\n",
    "hpc_thread_noJe_res['T_bld_nx'] = hpc_thread_noJe_res['T_conns_max'] + hpc_thread_noJe_res['T_ini_min']\n",
    "\n",
    "hpc_thread_noJe_res['T_bld'] = hpc_thread_noJe_res[['T_bld_xn', 'T_bld_nx']].min(axis=1)\n",
    "\n",
    "print(hpc_thread_noJe_res['T_sim'])\n",
    "\n",
    "hpc_thread_noJe_res = pd.pivot_table(hpc_thread_noJe_res, index=['SCALE', 'THREADS_PER_TASK', 'NUMBER_OF_NODES'],\n",
    "                                     values=['T_bld', 'VSize_sum', 'T_sim'])\n",
    "hpc_thread_noJe_res"
   ]
  },
  {
   "cell_type": "code",
   "execution_count": 25,
   "metadata": {
    "collapsed": true
   },
   "outputs": [
    {
     "data": {
      "text/plain": [
       "<matplotlib.axes._subplots.AxesSubplot at 0x7fbf6433b550>"
      ]
     },
     "execution_count": 25,
     "metadata": {},
     "output_type": "execute_result"
    },
    {
     "data": {
      "image/png": "[encoded data removed]",
      "text/plain": [
       "<matplotlib.figure.Figure at 0x7fbf6404a2e8>"
      ]
     },
     "metadata": {},
     "output_type": "display_data"
    }
   ],
   "source": [
    "hpc_thread_noJe_res['T_bld'].plot(kind='bar', title='Build times',\n",
    "                                  color = ['r', 'g', 'b', 'm', 'y', 'c', 'C0', 'C1']*int(len(hpc_thread_res)/6),\n",
    "                                  figsize=(12,5))"
   ]
  },
  {
   "cell_type": "code",
   "execution_count": null,
   "metadata": {},
   "outputs": [],
   "source": []
  },
  {
   "cell_type": "code",
   "execution_count": null,
   "metadata": {},
   "outputs": [],
   "source": []
  },
  {
   "cell_type": "markdown",
   "metadata": {},
   "source": [
    "## Temalloc"
   ]
  },
  {
   "cell_type": "code",
   "execution_count": 26,
   "metadata": {
    "collapsed": true
   },
   "outputs": [
    {
     "name": "stdout",
     "output_type": "stream",
     "text": [
      "0   NaN\n",
      "1   NaN\n",
      "2   NaN\n",
      "3   NaN\n",
      "4   NaN\n",
      "5   NaN\n",
      "Name: T_sim, dtype: float64\n"
     ]
    },
    {
     "data": {
      "text/html": [
       "<div>\n",
       "<style scoped>\n",
       "    .dataframe tbody tr th:only-of-type {\n",
       "        vertical-align: middle;\n",
       "    }\n",
       "\n",
       "    .dataframe tbody tr th {\n",
       "        vertical-align: top;\n",
       "    }\n",
       "\n",
       "    .dataframe thead th {\n",
       "        text-align: right;\n",
       "    }\n",
       "</style>\n",
       "<table border=\"1\" class=\"dataframe\">\n",
       "  <thead>\n",
       "    <tr style=\"text-align: right;\">\n",
       "      <th></th>\n",
       "      <th></th>\n",
       "      <th></th>\n",
       "    </tr>\n",
       "    <tr>\n",
       "      <th>SCALE</th>\n",
       "      <th>THREADS_PER_TASK</th>\n",
       "      <th>NUMBER_OF_NODES</th>\n",
       "    </tr>\n",
       "  </thead>\n",
       "  <tbody>\n",
       "    <tr>\n",
       "      <th rowspan=\"6\" valign=\"top\">160</th>\n",
       "      <th>1</th>\n",
       "      <th>8</th>\n",
       "    </tr>\n",
       "    <tr>\n",
       "      <th>3</th>\n",
       "      <th>8</th>\n",
       "    </tr>\n",
       "    <tr>\n",
       "      <th>4</th>\n",
       "      <th>8</th>\n",
       "    </tr>\n",
       "    <tr>\n",
       "      <th>6</th>\n",
       "      <th>8</th>\n",
       "    </tr>\n",
       "    <tr>\n",
       "      <th>9</th>\n",
       "      <th>8</th>\n",
       "    </tr>\n",
       "    <tr>\n",
       "      <th>18</th>\n",
       "      <th>8</th>\n",
       "    </tr>\n",
       "  </tbody>\n",
       "</table>\n",
       "</div>"
      ],
      "text/plain": [
       "Empty DataFrame\n",
       "Columns: []\n",
       "Index: [(160, 1, 8), (160, 3, 8), (160, 4, 8), (160, 6, 8), (160, 9, 8), (160, 18, 8)]"
      ]
     },
     "execution_count": 26,
     "metadata": {},
     "output_type": "execute_result"
    }
   ],
   "source": [
    "hpc_thread_te_res = pd.read_csv('results/hpc_benchmark_2_16_1_daint_strict_te_thread_all.csv')\n",
    "# print(hpc_thread_te_res)\n",
    "\n",
    "hpc_thread_te_res['T_bld_xn'] = hpc_thread_te_res['T_conns_min'] + hpc_thread_te_res['T_ini_max']\n",
    "hpc_thread_te_res['T_bld_nx'] = hpc_thread_te_res['T_conns_max'] + hpc_thread_te_res['T_ini_min']\n",
    "\n",
    "hpc_thread_te_res['T_bld'] = hpc_thread_te_res[['T_bld_xn', 'T_bld_nx']].min(axis=1)\n",
    "\n",
    "print(hpc_thread_te_res['T_sim'])\n",
    "\n",
    "hpc_thread_te_res = pd.pivot_table(hpc_thread_te_res, index=['SCALE', 'THREADS_PER_TASK', 'NUMBER_OF_NODES'],\n",
    "                                     values=['T_bld', 'VSize_sum', 'T_sim'])\n",
    "hpc_thread_te_res"
   ]
  },
  {
   "cell_type": "code",
   "execution_count": 27,
   "metadata": {
    "collapsed": true
   },
   "outputs": [
    {
     "ename": "KeyError",
     "evalue": "'T_bld'",
     "output_type": "error",
     "traceback": [
      "\u001b[0;31m---------------------------------------------------------------------------\u001b[0m",
      "\u001b[0;31mKeyError\u001b[0m                                  Traceback (most recent call last)",
      "\u001b[0;32m~/anaconda3/lib/python3.6/site-packages/pandas/core/indexes/base.py\u001b[0m in \u001b[0;36mget_loc\u001b[0;34m(self, key, method, tolerance)\u001b[0m\n\u001b[1;32m   2524\u001b[0m             \u001b[0;32mtry\u001b[0m\u001b[0;34m:\u001b[0m\u001b[0;34m\u001b[0m\u001b[0m\n\u001b[0;32m-> 2525\u001b[0;31m                 \u001b[0;32mreturn\u001b[0m \u001b[0mself\u001b[0m\u001b[0;34m.\u001b[0m\u001b[0m_engine\u001b[0m\u001b[0;34m.\u001b[0m\u001b[0mget_loc\u001b[0m\u001b[0;34m(\u001b[0m\u001b[0mkey\u001b[0m\u001b[0;34m)\u001b[0m\u001b[0;34m\u001b[0m\u001b[0m\n\u001b[0m\u001b[1;32m   2526\u001b[0m             \u001b[0;32mexcept\u001b[0m \u001b[0mKeyError\u001b[0m\u001b[0;34m:\u001b[0m\u001b[0;34m\u001b[0m\u001b[0m\n",
      "\u001b[0;32mpandas/_libs/index.pyx\u001b[0m in \u001b[0;36mpandas._libs.index.IndexEngine.get_loc\u001b[0;34m()\u001b[0m\n",
      "\u001b[0;32mpandas/_libs/index.pyx\u001b[0m in \u001b[0;36mpandas._libs.index.IndexEngine.get_loc\u001b[0;34m()\u001b[0m\n",
      "\u001b[0;32mpandas/_libs/hashtable_class_helper.pxi\u001b[0m in \u001b[0;36mpandas._libs.hashtable.PyObjectHashTable.get_item\u001b[0;34m()\u001b[0m\n",
      "\u001b[0;32mpandas/_libs/hashtable_class_helper.pxi\u001b[0m in \u001b[0;36mpandas._libs.hashtable.PyObjectHashTable.get_item\u001b[0;34m()\u001b[0m\n",
      "\u001b[0;31mKeyError\u001b[0m: 'T_bld'",
      "\nDuring handling of the above exception, another exception occurred:\n",
      "\u001b[0;31mKeyError\u001b[0m                                  Traceback (most recent call last)",
      "\u001b[0;32m<ipython-input-27-2bc58be1625b>\u001b[0m in \u001b[0;36m<module>\u001b[0;34m()\u001b[0m\n\u001b[0;32m----> 1\u001b[0;31m hpc_thread_te_res['T_bld'].plot(kind='bar', title='Build times',\n\u001b[0m\u001b[1;32m      2\u001b[0m                                 \u001b[0mcolor\u001b[0m \u001b[0;34m=\u001b[0m \u001b[0;34m[\u001b[0m\u001b[0;34m'r'\u001b[0m\u001b[0;34m,\u001b[0m \u001b[0;34m'g'\u001b[0m\u001b[0;34m,\u001b[0m \u001b[0;34m'b'\u001b[0m\u001b[0;34m,\u001b[0m \u001b[0;34m'm'\u001b[0m\u001b[0;34m,\u001b[0m \u001b[0;34m'y'\u001b[0m\u001b[0;34m,\u001b[0m \u001b[0;34m'c'\u001b[0m\u001b[0;34m,\u001b[0m \u001b[0;34m'C0'\u001b[0m\u001b[0;34m,\u001b[0m \u001b[0;34m'C1'\u001b[0m\u001b[0;34m]\u001b[0m\u001b[0;34m*\u001b[0m\u001b[0mint\u001b[0m\u001b[0;34m(\u001b[0m\u001b[0mlen\u001b[0m\u001b[0;34m(\u001b[0m\u001b[0mhpc_thread_te_res\u001b[0m\u001b[0;34m)\u001b[0m\u001b[0;34m/\u001b[0m\u001b[0;36m6\u001b[0m\u001b[0;34m)\u001b[0m\u001b[0;34m,\u001b[0m\u001b[0;34m\u001b[0m\u001b[0m\n\u001b[1;32m      3\u001b[0m                                 figsize=(12,5))\n",
      "\u001b[0;32m~/anaconda3/lib/python3.6/site-packages/pandas/core/frame.py\u001b[0m in \u001b[0;36m__getitem__\u001b[0;34m(self, key)\u001b[0m\n\u001b[1;32m   2137\u001b[0m             \u001b[0;32mreturn\u001b[0m \u001b[0mself\u001b[0m\u001b[0;34m.\u001b[0m\u001b[0m_getitem_multilevel\u001b[0m\u001b[0;34m(\u001b[0m\u001b[0mkey\u001b[0m\u001b[0;34m)\u001b[0m\u001b[0;34m\u001b[0m\u001b[0m\n\u001b[1;32m   2138\u001b[0m         \u001b[0;32melse\u001b[0m\u001b[0;34m:\u001b[0m\u001b[0;34m\u001b[0m\u001b[0m\n\u001b[0;32m-> 2139\u001b[0;31m             \u001b[0;32mreturn\u001b[0m \u001b[0mself\u001b[0m\u001b[0;34m.\u001b[0m\u001b[0m_getitem_column\u001b[0m\u001b[0;34m(\u001b[0m\u001b[0mkey\u001b[0m\u001b[0;34m)\u001b[0m\u001b[0;34m\u001b[0m\u001b[0m\n\u001b[0m\u001b[1;32m   2140\u001b[0m \u001b[0;34m\u001b[0m\u001b[0m\n\u001b[1;32m   2141\u001b[0m     \u001b[0;32mdef\u001b[0m \u001b[0m_getitem_column\u001b[0m\u001b[0;34m(\u001b[0m\u001b[0mself\u001b[0m\u001b[0;34m,\u001b[0m \u001b[0mkey\u001b[0m\u001b[0;34m)\u001b[0m\u001b[0;34m:\u001b[0m\u001b[0;34m\u001b[0m\u001b[0m\n",
      "\u001b[0;32m~/anaconda3/lib/python3.6/site-packages/pandas/core/frame.py\u001b[0m in \u001b[0;36m_getitem_column\u001b[0;34m(self, key)\u001b[0m\n\u001b[1;32m   2144\u001b[0m         \u001b[0;31m# get column\u001b[0m\u001b[0;34m\u001b[0m\u001b[0;34m\u001b[0m\u001b[0m\n\u001b[1;32m   2145\u001b[0m         \u001b[0;32mif\u001b[0m \u001b[0mself\u001b[0m\u001b[0;34m.\u001b[0m\u001b[0mcolumns\u001b[0m\u001b[0;34m.\u001b[0m\u001b[0mis_unique\u001b[0m\u001b[0;34m:\u001b[0m\u001b[0;34m\u001b[0m\u001b[0m\n\u001b[0;32m-> 2146\u001b[0;31m             \u001b[0;32mreturn\u001b[0m \u001b[0mself\u001b[0m\u001b[0;34m.\u001b[0m\u001b[0m_get_item_cache\u001b[0m\u001b[0;34m(\u001b[0m\u001b[0mkey\u001b[0m\u001b[0;34m)\u001b[0m\u001b[0;34m\u001b[0m\u001b[0m\n\u001b[0m\u001b[1;32m   2147\u001b[0m \u001b[0;34m\u001b[0m\u001b[0m\n\u001b[1;32m   2148\u001b[0m         \u001b[0;31m# duplicate columns & possible reduce dimensionality\u001b[0m\u001b[0;34m\u001b[0m\u001b[0;34m\u001b[0m\u001b[0m\n",
      "\u001b[0;32m~/anaconda3/lib/python3.6/site-packages/pandas/core/generic.py\u001b[0m in \u001b[0;36m_get_item_cache\u001b[0;34m(self, item)\u001b[0m\n\u001b[1;32m   1840\u001b[0m         \u001b[0mres\u001b[0m \u001b[0;34m=\u001b[0m \u001b[0mcache\u001b[0m\u001b[0;34m.\u001b[0m\u001b[0mget\u001b[0m\u001b[0;34m(\u001b[0m\u001b[0mitem\u001b[0m\u001b[0;34m)\u001b[0m\u001b[0;34m\u001b[0m\u001b[0m\n\u001b[1;32m   1841\u001b[0m         \u001b[0;32mif\u001b[0m \u001b[0mres\u001b[0m \u001b[0;32mis\u001b[0m \u001b[0;32mNone\u001b[0m\u001b[0;34m:\u001b[0m\u001b[0;34m\u001b[0m\u001b[0m\n\u001b[0;32m-> 1842\u001b[0;31m             \u001b[0mvalues\u001b[0m \u001b[0;34m=\u001b[0m \u001b[0mself\u001b[0m\u001b[0;34m.\u001b[0m\u001b[0m_data\u001b[0m\u001b[0;34m.\u001b[0m\u001b[0mget\u001b[0m\u001b[0;34m(\u001b[0m\u001b[0mitem\u001b[0m\u001b[0;34m)\u001b[0m\u001b[0;34m\u001b[0m\u001b[0m\n\u001b[0m\u001b[1;32m   1843\u001b[0m             \u001b[0mres\u001b[0m \u001b[0;34m=\u001b[0m \u001b[0mself\u001b[0m\u001b[0;34m.\u001b[0m\u001b[0m_box_item_values\u001b[0m\u001b[0;34m(\u001b[0m\u001b[0mitem\u001b[0m\u001b[0;34m,\u001b[0m \u001b[0mvalues\u001b[0m\u001b[0;34m)\u001b[0m\u001b[0;34m\u001b[0m\u001b[0m\n\u001b[1;32m   1844\u001b[0m             \u001b[0mcache\u001b[0m\u001b[0;34m[\u001b[0m\u001b[0mitem\u001b[0m\u001b[0;34m]\u001b[0m \u001b[0;34m=\u001b[0m \u001b[0mres\u001b[0m\u001b[0;34m\u001b[0m\u001b[0m\n",
      "\u001b[0;32m~/anaconda3/lib/python3.6/site-packages/pandas/core/internals.py\u001b[0m in \u001b[0;36mget\u001b[0;34m(self, item, fastpath)\u001b[0m\n\u001b[1;32m   3841\u001b[0m \u001b[0;34m\u001b[0m\u001b[0m\n\u001b[1;32m   3842\u001b[0m             \u001b[0;32mif\u001b[0m \u001b[0;32mnot\u001b[0m \u001b[0misna\u001b[0m\u001b[0;34m(\u001b[0m\u001b[0mitem\u001b[0m\u001b[0;34m)\u001b[0m\u001b[0;34m:\u001b[0m\u001b[0;34m\u001b[0m\u001b[0m\n\u001b[0;32m-> 3843\u001b[0;31m                 \u001b[0mloc\u001b[0m \u001b[0;34m=\u001b[0m \u001b[0mself\u001b[0m\u001b[0;34m.\u001b[0m\u001b[0mitems\u001b[0m\u001b[0;34m.\u001b[0m\u001b[0mget_loc\u001b[0m\u001b[0;34m(\u001b[0m\u001b[0mitem\u001b[0m\u001b[0;34m)\u001b[0m\u001b[0;34m\u001b[0m\u001b[0m\n\u001b[0m\u001b[1;32m   3844\u001b[0m             \u001b[0;32melse\u001b[0m\u001b[0;34m:\u001b[0m\u001b[0;34m\u001b[0m\u001b[0m\n\u001b[1;32m   3845\u001b[0m                 \u001b[0mindexer\u001b[0m \u001b[0;34m=\u001b[0m \u001b[0mnp\u001b[0m\u001b[0;34m.\u001b[0m\u001b[0marange\u001b[0m\u001b[0;34m(\u001b[0m\u001b[0mlen\u001b[0m\u001b[0;34m(\u001b[0m\u001b[0mself\u001b[0m\u001b[0;34m.\u001b[0m\u001b[0mitems\u001b[0m\u001b[0;34m)\u001b[0m\u001b[0;34m)\u001b[0m\u001b[0;34m[\u001b[0m\u001b[0misna\u001b[0m\u001b[0;34m(\u001b[0m\u001b[0mself\u001b[0m\u001b[0;34m.\u001b[0m\u001b[0mitems\u001b[0m\u001b[0;34m)\u001b[0m\u001b[0;34m]\u001b[0m\u001b[0;34m\u001b[0m\u001b[0m\n",
      "\u001b[0;32m~/anaconda3/lib/python3.6/site-packages/pandas/core/indexes/base.py\u001b[0m in \u001b[0;36mget_loc\u001b[0;34m(self, key, method, tolerance)\u001b[0m\n\u001b[1;32m   2525\u001b[0m                 \u001b[0;32mreturn\u001b[0m \u001b[0mself\u001b[0m\u001b[0;34m.\u001b[0m\u001b[0m_engine\u001b[0m\u001b[0;34m.\u001b[0m\u001b[0mget_loc\u001b[0m\u001b[0;34m(\u001b[0m\u001b[0mkey\u001b[0m\u001b[0;34m)\u001b[0m\u001b[0;34m\u001b[0m\u001b[0m\n\u001b[1;32m   2526\u001b[0m             \u001b[0;32mexcept\u001b[0m \u001b[0mKeyError\u001b[0m\u001b[0;34m:\u001b[0m\u001b[0;34m\u001b[0m\u001b[0m\n\u001b[0;32m-> 2527\u001b[0;31m                 \u001b[0;32mreturn\u001b[0m \u001b[0mself\u001b[0m\u001b[0;34m.\u001b[0m\u001b[0m_engine\u001b[0m\u001b[0;34m.\u001b[0m\u001b[0mget_loc\u001b[0m\u001b[0;34m(\u001b[0m\u001b[0mself\u001b[0m\u001b[0;34m.\u001b[0m\u001b[0m_maybe_cast_indexer\u001b[0m\u001b[0;34m(\u001b[0m\u001b[0mkey\u001b[0m\u001b[0;34m)\u001b[0m\u001b[0;34m)\u001b[0m\u001b[0;34m\u001b[0m\u001b[0m\n\u001b[0m\u001b[1;32m   2528\u001b[0m \u001b[0;34m\u001b[0m\u001b[0m\n\u001b[1;32m   2529\u001b[0m         \u001b[0mindexer\u001b[0m \u001b[0;34m=\u001b[0m \u001b[0mself\u001b[0m\u001b[0;34m.\u001b[0m\u001b[0mget_indexer\u001b[0m\u001b[0;34m(\u001b[0m\u001b[0;34m[\u001b[0m\u001b[0mkey\u001b[0m\u001b[0;34m]\u001b[0m\u001b[0;34m,\u001b[0m \u001b[0mmethod\u001b[0m\u001b[0;34m=\u001b[0m\u001b[0mmethod\u001b[0m\u001b[0;34m,\u001b[0m \u001b[0mtolerance\u001b[0m\u001b[0;34m=\u001b[0m\u001b[0mtolerance\u001b[0m\u001b[0;34m)\u001b[0m\u001b[0;34m\u001b[0m\u001b[0m\n",
      "\u001b[0;32mpandas/_libs/index.pyx\u001b[0m in \u001b[0;36mpandas._libs.index.IndexEngine.get_loc\u001b[0;34m()\u001b[0m\n",
      "\u001b[0;32mpandas/_libs/index.pyx\u001b[0m in \u001b[0;36mpandas._libs.index.IndexEngine.get_loc\u001b[0;34m()\u001b[0m\n",
      "\u001b[0;32mpandas/_libs/hashtable_class_helper.pxi\u001b[0m in \u001b[0;36mpandas._libs.hashtable.PyObjectHashTable.get_item\u001b[0;34m()\u001b[0m\n",
      "\u001b[0;32mpandas/_libs/hashtable_class_helper.pxi\u001b[0m in \u001b[0;36mpandas._libs.hashtable.PyObjectHashTable.get_item\u001b[0;34m()\u001b[0m\n",
      "\u001b[0;31mKeyError\u001b[0m: 'T_bld'"
     ]
    }
   ],
   "source": [
    "hpc_thread_te_res['T_bld'].plot(kind='bar', title='Build times',\n",
    "                                color = ['r', 'g', 'b', 'm', 'y', 'c', 'C0', 'C1']*int(len(hpc_thread_te_res)/6),\n",
    "                                figsize=(12,5))"
   ]
  },
  {
   "cell_type": "code",
   "execution_count": null,
   "metadata": {},
   "outputs": [],
   "source": []
  },
  {
   "cell_type": "markdown",
   "metadata": {},
   "source": [
    "## NEST 2.14"
   ]
  },
  {
   "cell_type": "code",
   "execution_count": 32,
   "metadata": {},
   "outputs": [
    {
     "name": "stdout",
     "output_type": "stream",
     "text": [
      "   NUMBER_OF_NODES  TASKS_PER_NODE  THREADS_PER_TASK  NUM_VPS  SCALE  PLASTIC  \\\n",
      "0                8              36                 1      288    160     True   \n",
      "1                8              12                 3      288    160     True   \n",
      "2                8               9                 4      288    160     True   \n",
      "3                8               6                 6      288    160     True   \n",
      "4                8               4                 9      288    160     True   \n",
      "5                8               2                18      288    160     True   \n",
      "\n",
      "   T_nrns  T_conns_min  T_conns_max  T_ini_min  T_ini_max  T_equ   T_sim  \\\n",
      "0    0.57        56.86        60.96       1.07       5.16   9.85  175.29   \n",
      "1    0.32        73.37        81.03       1.48       9.15  13.80  198.61   \n",
      "2    0.91        76.12        84.61       1.52      10.01  14.96  211.80   \n",
      "3    1.10        78.56        84.71       1.42       7.58  14.38  205.20   \n",
      "4    0.55        79.70        83.56       1.53       5.39  14.20  204.98   \n",
      "5    1.18        82.91        87.81       1.46       6.37  14.49  208.15   \n",
      "\n",
      "    VSize_sum  N_spks_sum  Rate_sum   N_nrns  N_conns_sum  d_min  d_max  \n",
      "0  1105554108    12426400     6.733  1800000  20251801000    1.5    1.5  \n",
      "1  1011344880    12426400     6.733  1800000  20251801000    1.5    1.5  \n",
      "2  1004404680    12426400     6.733  1800000  20251801000    1.5    1.5  \n",
      "3   998987952    12426400     6.733  1800000  20251801000    1.5    1.5  \n",
      "4   995817752    12426400     6.733  1800000  20251801000    1.5    1.5  \n",
      "5  1003855384    12426400     6.733  1800000  20251801000    1.5    1.5  \n",
      "0    175.29\n",
      "1    198.61\n",
      "2    211.80\n",
      "3    205.20\n",
      "4    204.98\n",
      "5    208.15\n",
      "Name: T_sim, dtype: float64\n"
     ]
    },
    {
     "data": {
      "text/html": [
       "<div>\n",
       "<style scoped>\n",
       "    .dataframe tbody tr th:only-of-type {\n",
       "        vertical-align: middle;\n",
       "    }\n",
       "\n",
       "    .dataframe tbody tr th {\n",
       "        vertical-align: top;\n",
       "    }\n",
       "\n",
       "    .dataframe thead th {\n",
       "        text-align: right;\n",
       "    }\n",
       "</style>\n",
       "<table border=\"1\" class=\"dataframe\">\n",
       "  <thead>\n",
       "    <tr style=\"text-align: right;\">\n",
       "      <th></th>\n",
       "      <th></th>\n",
       "      <th></th>\n",
       "      <th>T_bld</th>\n",
       "      <th>T_sim</th>\n",
       "      <th>VSize_sum</th>\n",
       "    </tr>\n",
       "    <tr>\n",
       "      <th>SCALE</th>\n",
       "      <th>THREADS_PER_TASK</th>\n",
       "      <th>NUMBER_OF_NODES</th>\n",
       "      <th></th>\n",
       "      <th></th>\n",
       "      <th></th>\n",
       "    </tr>\n",
       "  </thead>\n",
       "  <tbody>\n",
       "    <tr>\n",
       "      <th rowspan=\"6\" valign=\"top\">160</th>\n",
       "      <th>1</th>\n",
       "      <th>8</th>\n",
       "      <td>62.02</td>\n",
       "      <td>175.29</td>\n",
       "      <td>1105554108</td>\n",
       "    </tr>\n",
       "    <tr>\n",
       "      <th>3</th>\n",
       "      <th>8</th>\n",
       "      <td>82.51</td>\n",
       "      <td>198.61</td>\n",
       "      <td>1011344880</td>\n",
       "    </tr>\n",
       "    <tr>\n",
       "      <th>4</th>\n",
       "      <th>8</th>\n",
       "      <td>86.13</td>\n",
       "      <td>211.80</td>\n",
       "      <td>1004404680</td>\n",
       "    </tr>\n",
       "    <tr>\n",
       "      <th>6</th>\n",
       "      <th>8</th>\n",
       "      <td>86.13</td>\n",
       "      <td>205.20</td>\n",
       "      <td>998987952</td>\n",
       "    </tr>\n",
       "    <tr>\n",
       "      <th>9</th>\n",
       "      <th>8</th>\n",
       "      <td>85.09</td>\n",
       "      <td>204.98</td>\n",
       "      <td>995817752</td>\n",
       "    </tr>\n",
       "    <tr>\n",
       "      <th>18</th>\n",
       "      <th>8</th>\n",
       "      <td>89.27</td>\n",
       "      <td>208.15</td>\n",
       "      <td>1003855384</td>\n",
       "    </tr>\n",
       "  </tbody>\n",
       "</table>\n",
       "</div>"
      ],
      "text/plain": [
       "                                        T_bld   T_sim   VSize_sum\n",
       "SCALE THREADS_PER_TASK NUMBER_OF_NODES                           \n",
       "160   1                8                62.02  175.29  1105554108\n",
       "      3                8                82.51  198.61  1011344880\n",
       "      4                8                86.13  211.80  1004404680\n",
       "      6                8                86.13  205.20   998987952\n",
       "      9                8                85.09  204.98   995817752\n",
       "      18               8                89.27  208.15  1003855384"
      ]
     },
     "execution_count": 32,
     "metadata": {},
     "output_type": "execute_result"
    }
   ],
   "source": [
    "hpc_thread_214_res = pd.read_csv('results/hpc_benchmark_2_14_daint_strict_thread_all.csv')\n",
    "print(hpc_thread_214_res)\n",
    "\n",
    "hpc_thread_214_res['T_bld_xn'] = hpc_thread_214_res['T_conns_min'] + hpc_thread_214_res['T_ini_max']\n",
    "hpc_thread_214_res['T_bld_nx'] = hpc_thread_214_res['T_conns_max'] + hpc_thread_214_res['T_ini_min']\n",
    "\n",
    "hpc_thread_214_res['T_bld'] = hpc_thread_214_res[['T_bld_xn', 'T_bld_nx']].min(axis=1)\n",
    "\n",
    "print(hpc_thread_214_res['T_sim'])\n",
    "\n",
    "hpc_thread_214_res = pd.pivot_table(hpc_thread_214_res, index=['SCALE', 'THREADS_PER_TASK', 'NUMBER_OF_NODES'],\n",
    "                                     values=['T_bld', 'VSize_sum', 'T_sim'])\n",
    "hpc_thread_214_res"
   ]
  },
  {
   "cell_type": "code",
   "execution_count": 29,
   "metadata": {},
   "outputs": [
    {
     "data": {
      "text/plain": [
       "<matplotlib.axes._subplots.AxesSubplot at 0x7fbf64040ac8>"
      ]
     },
     "execution_count": 29,
     "metadata": {},
     "output_type": "execute_result"
    },
    {
     "data": {
      "image/png": "[encoded data removed]",
      "text/plain": [
       "<matplotlib.figure.Figure at 0x7fbf6434ceb8>"
      ]
     },
     "metadata": {},
     "output_type": "display_data"
    }
   ],
   "source": [
    "hpc_thread_214_res['T_bld'].plot(kind='bar', title='Build times',\n",
    "                                 color = ['r', 'g', 'b', 'm', 'y', 'c', 'C0', 'C1']*int(len(hpc_thread_214_res)/6),\n",
    "                                 figsize=(12,5))"
   ]
  },
  {
   "cell_type": "code",
   "execution_count": null,
   "metadata": {},
   "outputs": [],
   "source": []
  },
  {
   "cell_type": "markdown",
   "metadata": {},
   "source": [
    "### NEST 2.16.1 og NEST 2.14"
   ]
  },
  {
   "cell_type": "code",
   "execution_count": 47,
   "metadata": {},
   "outputs": [
    {
     "name": "stdout",
     "output_type": "stream",
     "text": [
      "0    175.29\n",
      "1    198.61\n",
      "2    211.80\n",
      "3    205.20\n",
      "4    204.98\n",
      "5    208.15\n",
      "0    192.97\n",
      "1    200.62\n",
      "2    215.01\n",
      "3    210.50\n",
      "4    213.62\n",
      "5    215.94\n",
      "Name: T_sim, dtype: float64\n"
     ]
    },
    {
     "data": {
      "text/html": [
       "<div>\n",
       "<style scoped>\n",
       "    .dataframe tbody tr th:only-of-type {\n",
       "        vertical-align: middle;\n",
       "    }\n",
       "\n",
       "    .dataframe tbody tr th {\n",
       "        vertical-align: top;\n",
       "    }\n",
       "\n",
       "    .dataframe thead th {\n",
       "        text-align: right;\n",
       "    }\n",
       "</style>\n",
       "<table border=\"1\" class=\"dataframe\">\n",
       "  <thead>\n",
       "    <tr style=\"text-align: right;\">\n",
       "      <th></th>\n",
       "      <th></th>\n",
       "      <th></th>\n",
       "      <th></th>\n",
       "      <th>T_bld</th>\n",
       "      <th>T_sim</th>\n",
       "      <th>VSize_sum</th>\n",
       "    </tr>\n",
       "    <tr>\n",
       "      <th>SCALE</th>\n",
       "      <th>THREADS_PER_TASK</th>\n",
       "      <th>version</th>\n",
       "      <th>NUMBER_OF_NODES</th>\n",
       "      <th></th>\n",
       "      <th></th>\n",
       "      <th></th>\n",
       "    </tr>\n",
       "  </thead>\n",
       "  <tbody>\n",
       "    <tr>\n",
       "      <th rowspan=\"12\" valign=\"top\">160</th>\n",
       "      <th rowspan=\"2\" valign=\"top\">1</th>\n",
       "      <th>2.14</th>\n",
       "      <th>8</th>\n",
       "      <td>62.02</td>\n",
       "      <td>175.29</td>\n",
       "      <td>1105554108</td>\n",
       "    </tr>\n",
       "    <tr>\n",
       "      <th>2.16.1</th>\n",
       "      <th>8</th>\n",
       "      <td>56.98</td>\n",
       "      <td>192.97</td>\n",
       "      <td>1222915480</td>\n",
       "    </tr>\n",
       "    <tr>\n",
       "      <th rowspan=\"2\" valign=\"top\">3</th>\n",
       "      <th>2.14</th>\n",
       "      <th>8</th>\n",
       "      <td>82.51</td>\n",
       "      <td>198.61</td>\n",
       "      <td>1011344880</td>\n",
       "    </tr>\n",
       "    <tr>\n",
       "      <th>2.16.1</th>\n",
       "      <th>8</th>\n",
       "      <td>100.87</td>\n",
       "      <td>200.62</td>\n",
       "      <td>993400984</td>\n",
       "    </tr>\n",
       "    <tr>\n",
       "      <th rowspan=\"2\" valign=\"top\">4</th>\n",
       "      <th>2.14</th>\n",
       "      <th>8</th>\n",
       "      <td>86.13</td>\n",
       "      <td>211.80</td>\n",
       "      <td>1004404680</td>\n",
       "    </tr>\n",
       "    <tr>\n",
       "      <th>2.16.1</th>\n",
       "      <th>8</th>\n",
       "      <td>115.19</td>\n",
       "      <td>215.01</td>\n",
       "      <td>989935288</td>\n",
       "    </tr>\n",
       "    <tr>\n",
       "      <th rowspan=\"2\" valign=\"top\">6</th>\n",
       "      <th>2.14</th>\n",
       "      <th>8</th>\n",
       "      <td>86.13</td>\n",
       "      <td>205.20</td>\n",
       "      <td>998987952</td>\n",
       "    </tr>\n",
       "    <tr>\n",
       "      <th>2.16.1</th>\n",
       "      <th>8</th>\n",
       "      <td>122.94</td>\n",
       "      <td>210.50</td>\n",
       "      <td>879023896</td>\n",
       "    </tr>\n",
       "    <tr>\n",
       "      <th rowspan=\"2\" valign=\"top\">9</th>\n",
       "      <th>2.14</th>\n",
       "      <th>8</th>\n",
       "      <td>85.09</td>\n",
       "      <td>204.98</td>\n",
       "      <td>995817752</td>\n",
       "    </tr>\n",
       "    <tr>\n",
       "      <th>2.16.1</th>\n",
       "      <th>8</th>\n",
       "      <td>147.05</td>\n",
       "      <td>213.62</td>\n",
       "      <td>864894848</td>\n",
       "    </tr>\n",
       "    <tr>\n",
       "      <th rowspan=\"2\" valign=\"top\">18</th>\n",
       "      <th>2.14</th>\n",
       "      <th>8</th>\n",
       "      <td>89.27</td>\n",
       "      <td>208.15</td>\n",
       "      <td>1003855384</td>\n",
       "    </tr>\n",
       "    <tr>\n",
       "      <th>2.16.1</th>\n",
       "      <th>8</th>\n",
       "      <td>239.34</td>\n",
       "      <td>215.94</td>\n",
       "      <td>858372308</td>\n",
       "    </tr>\n",
       "  </tbody>\n",
       "</table>\n",
       "</div>"
      ],
      "text/plain": [
       "                                                 T_bld   T_sim   VSize_sum\n",
       "SCALE THREADS_PER_TASK version NUMBER_OF_NODES                            \n",
       "160   1                2.14    8                 62.02  175.29  1105554108\n",
       "                       2.16.1  8                 56.98  192.97  1222915480\n",
       "      3                2.14    8                 82.51  198.61  1011344880\n",
       "                       2.16.1  8                100.87  200.62   993400984\n",
       "      4                2.14    8                 86.13  211.80  1004404680\n",
       "                       2.16.1  8                115.19  215.01   989935288\n",
       "      6                2.14    8                 86.13  205.20   998987952\n",
       "                       2.16.1  8                122.94  210.50   879023896\n",
       "      9                2.14    8                 85.09  204.98   995817752\n",
       "                       2.16.1  8                147.05  213.62   864894848\n",
       "      18               2.14    8                 89.27  208.15  1003855384\n",
       "                       2.16.1  8                239.34  215.94   858372308"
      ]
     },
     "execution_count": 47,
     "metadata": {},
     "output_type": "execute_result"
    }
   ],
   "source": [
    "hpc_2_14 = pd.read_csv('results/hpc_benchmark_2_14_daint_strict_thread_all.csv')\n",
    "hpc_2_14['version'] = ['2.14']*6\n",
    "hpc_2_16_1 = pd.read_csv('results/hpc_benchmark_2_16_1_daint_strict_thread_all.csv')\n",
    "hpc_2_16_1['version'] = ['2.16.1']*6\n",
    "\n",
    "hpc_thread_214_216_res = pd.concat([hpc_2_14, hpc_2_16_1])\n",
    "\n",
    "#print(hpc_thread_214_216_res)\n",
    "\n",
    "hpc_thread_214_216_res['T_bld_xn'] = hpc_thread_214_216_res['T_conns_min'] + hpc_thread_214_216_res['T_ini_max']\n",
    "hpc_thread_214_216_res['T_bld_nx'] = hpc_thread_214_216_res['T_conns_max'] + hpc_thread_214_216_res['T_ini_min']\n",
    "\n",
    "hpc_thread_214_216_res['T_bld'] = hpc_thread_214_216_res[['T_bld_xn', 'T_bld_nx']].min(axis=1)\n",
    "\n",
    "print(hpc_thread_214_216_res['T_sim'])\n",
    "\n",
    "hpc_thread_214_216_res = pd.pivot_table(hpc_thread_214_216_res, index=['SCALE', 'THREADS_PER_TASK', 'version', 'NUMBER_OF_NODES'],\n",
    "                                     values=['T_bld', 'VSize_sum', 'T_sim'])\n",
    "hpc_thread_214_216_res"
   ]
  },
  {
   "cell_type": "code",
   "execution_count": 49,
   "metadata": {},
   "outputs": [
    {
     "data": {
      "text/plain": [
       "<matplotlib.axes._subplots.AxesSubplot at 0x7fbf63da9da0>"
      ]
     },
     "execution_count": 49,
     "metadata": {},
     "output_type": "execute_result"
    },
    {
     "data": {
      "image/png": "[encoded data removed]",
      "text/plain": [
       "<matplotlib.figure.Figure at 0x7fbf645d0198>"
      ]
     },
     "metadata": {},
     "output_type": "display_data"
    }
   ],
   "source": [
    "hpc_thread_214_216_res['T_bld'].plot(kind='bar', title='Build times',\n",
    "                                     color = ['r', 'g']*int(len(hpc_thread_214_216_res)/2),\n",
    "                                     figsize=(12,5))"
   ]
  },
  {
   "cell_type": "code",
   "execution_count": 50,
   "metadata": {},
   "outputs": [
    {
     "data": {
      "text/plain": [
       "<matplotlib.axes._subplots.AxesSubplot at 0x7fbf63ce9780>"
      ]
     },
     "execution_count": 50,
     "metadata": {},
     "output_type": "execute_result"
    },
    {
     "data": {
      "image/png": "[encoded data removed]",
      "text/plain": [
       "<matplotlib.figure.Figure at 0x7fbf63d2c048>"
      ]
     },
     "metadata": {},
     "output_type": "display_data"
    }
   ],
   "source": [
    "hpc_thread_214_216_res['T_sim'].plot(kind='bar', title='sim times',\n",
    "                                     color = ['r', 'g']*int(len(hpc_thread_214_216_res)/2),\n",
    "                                     figsize=(12,5))"
   ]
  },
  {
   "cell_type": "code",
   "execution_count": 52,
   "metadata": {},
   "outputs": [
    {
     "data": {
      "text/plain": [
       "<matplotlib.axes._subplots.AxesSubplot at 0x7fbf63bfb2b0>"
      ]
     },
     "execution_count": 52,
     "metadata": {},
     "output_type": "execute_result"
    },
    {
     "data": {
      "image/png": "[encoded data removed]",
      "text/plain": [
       "<matplotlib.figure.Figure at 0x7fbf63c2b4e0>"
      ]
     },
     "metadata": {},
     "output_type": "display_data"
    }
   ],
   "source": [
    "hpc_thread_214_216_res['VSize_sum'].plot(kind='bar', title='memory',\n",
    "                                         color = ['r', 'g']*int(len(hpc_thread_214_216_res)/2),\n",
    "                                         figsize=(12,5))"
   ]
  },
  {
   "cell_type": "markdown",
   "metadata": {},
   "source": [
    "## NEST 2.16\n",
    "\n",
    "Out of memory for scale = 20. Have therefore used **SCALE=10**."
   ]
  },
  {
   "cell_type": "code",
   "execution_count": 30,
   "metadata": {},
   "outputs": [
    {
     "name": "stdout",
     "output_type": "stream",
     "text": [
      "0    54.60\n",
      "1    75.55\n",
      "2    81.16\n",
      "3    77.91\n",
      "4    82.71\n",
      "5    82.30\n",
      "Name: T_sim, dtype: float64\n"
     ]
    },
    {
     "data": {
      "text/html": [
       "<div>\n",
       "<style scoped>\n",
       "    .dataframe tbody tr th:only-of-type {\n",
       "        vertical-align: middle;\n",
       "    }\n",
       "\n",
       "    .dataframe tbody tr th {\n",
       "        vertical-align: top;\n",
       "    }\n",
       "\n",
       "    .dataframe thead th {\n",
       "        text-align: right;\n",
       "    }\n",
       "</style>\n",
       "<table border=\"1\" class=\"dataframe\">\n",
       "  <thead>\n",
       "    <tr style=\"text-align: right;\">\n",
       "      <th></th>\n",
       "      <th></th>\n",
       "      <th></th>\n",
       "      <th>T_bld</th>\n",
       "      <th>T_sim</th>\n",
       "      <th>VSize_sum</th>\n",
       "    </tr>\n",
       "    <tr>\n",
       "      <th>SCALE</th>\n",
       "      <th>THREADS_PER_TASK</th>\n",
       "      <th>NUMBER_OF_NODES</th>\n",
       "      <th></th>\n",
       "      <th></th>\n",
       "      <th></th>\n",
       "    </tr>\n",
       "  </thead>\n",
       "  <tbody>\n",
       "    <tr>\n",
       "      <th rowspan=\"6\" valign=\"top\">80</th>\n",
       "      <th>1</th>\n",
       "      <th>8</th>\n",
       "      <td>28.47</td>\n",
       "      <td>54.60</td>\n",
       "      <td>1003544472</td>\n",
       "    </tr>\n",
       "    <tr>\n",
       "      <th>3</th>\n",
       "      <th>8</th>\n",
       "      <td>51.20</td>\n",
       "      <td>75.55</td>\n",
       "      <td>804216472</td>\n",
       "    </tr>\n",
       "    <tr>\n",
       "      <th>4</th>\n",
       "      <th>8</th>\n",
       "      <td>58.14</td>\n",
       "      <td>81.16</td>\n",
       "      <td>792391992</td>\n",
       "    </tr>\n",
       "    <tr>\n",
       "      <th>6</th>\n",
       "      <th>8</th>\n",
       "      <td>61.80</td>\n",
       "      <td>77.91</td>\n",
       "      <td>791420440</td>\n",
       "    </tr>\n",
       "    <tr>\n",
       "      <th>9</th>\n",
       "      <th>8</th>\n",
       "      <td>72.67</td>\n",
       "      <td>82.71</td>\n",
       "      <td>822735256</td>\n",
       "    </tr>\n",
       "    <tr>\n",
       "      <th>18</th>\n",
       "      <th>8</th>\n",
       "      <td>113.03</td>\n",
       "      <td>82.30</td>\n",
       "      <td>766543320</td>\n",
       "    </tr>\n",
       "  </tbody>\n",
       "</table>\n",
       "</div>"
      ],
      "text/plain": [
       "                                         T_bld  T_sim   VSize_sum\n",
       "SCALE THREADS_PER_TASK NUMBER_OF_NODES                           \n",
       "80    1                8                 28.47  54.60  1003544472\n",
       "      3                8                 51.20  75.55   804216472\n",
       "      4                8                 58.14  81.16   792391992\n",
       "      6                8                 61.80  77.91   791420440\n",
       "      9                8                 72.67  82.71   822735256\n",
       "      18               8                113.03  82.30   766543320"
      ]
     },
     "execution_count": 30,
     "metadata": {},
     "output_type": "execute_result"
    }
   ],
   "source": [
    "hpc_thread_216_res = pd.read_csv('results/hpc_benchmark_2_16_daint_strict_thread_all.csv')\n",
    "# print(hpc_thread_216_res)\n",
    "\n",
    "hpc_thread_216_res['T_bld_xn'] = hpc_thread_216_res['T_conns_min'] + hpc_thread_216_res['T_ini_max']\n",
    "hpc_thread_216_res['T_bld_nx'] = hpc_thread_216_res['T_conns_max'] + hpc_thread_216_res['T_ini_min']\n",
    "\n",
    "hpc_thread_216_res['T_bld'] = hpc_thread_216_res[['T_bld_xn', 'T_bld_nx']].min(axis=1)\n",
    "\n",
    "print(hpc_thread_216_res['T_sim'])\n",
    "\n",
    "hpc_thread_216_res = pd.pivot_table(hpc_thread_216_res, index=['SCALE', 'THREADS_PER_TASK', 'NUMBER_OF_NODES'],\n",
    "                                    values=['T_bld', 'VSize_sum', 'T_sim'])\n",
    "hpc_thread_216_res"
   ]
  },
  {
   "cell_type": "code",
   "execution_count": 31,
   "metadata": {},
   "outputs": [
    {
     "data": {
      "text/plain": [
       "<matplotlib.axes._subplots.AxesSubplot at 0x7fbf63fcb898>"
      ]
     },
     "execution_count": 31,
     "metadata": {},
     "output_type": "execute_result"
    },
    {
     "data": {
      "image/png": "[encoded data removed]",
      "text/plain": [
       "<matplotlib.figure.Figure at 0x7fbf6401c048>"
      ]
     },
     "metadata": {},
     "output_type": "display_data"
    }
   ],
   "source": [
    "hpc_thread_216_res['T_bld'].plot(kind='bar', title='Build times',\n",
    "                                 color = ['r', 'g', 'b', 'm', 'y', 'c', 'C0', 'C1']*int(len(hpc_thread_216_res)/6),\n",
    "                                 figsize=(12,5))"
   ]
  },
  {
   "cell_type": "code",
   "execution_count": null,
   "metadata": {},
   "outputs": [],
   "source": []
  },
  {
   "cell_type": "markdown",
   "metadata": {},
   "source": [
    "## Master before merge of 5G\n",
    "node = 8, scale=160, thread = 1,3,4,6,9,18"
   ]
  },
  {
   "cell_type": "code",
   "execution_count": 242,
   "metadata": {},
   "outputs": [
    {
     "name": "stdout",
     "output_type": "stream",
     "text": [
      "0    177.89\n",
      "1    199.93\n",
      "2       NaN\n",
      "3    207.34\n",
      "4    205.37\n",
      "5    209.08\n",
      "Name: T_sim, dtype: float64\n"
     ]
    },
    {
     "data": {
      "text/html": [
       "<div>\n",
       "<style scoped>\n",
       "    .dataframe tbody tr th:only-of-type {\n",
       "        vertical-align: middle;\n",
       "    }\n",
       "\n",
       "    .dataframe tbody tr th {\n",
       "        vertical-align: top;\n",
       "    }\n",
       "\n",
       "    .dataframe thead th {\n",
       "        text-align: right;\n",
       "    }\n",
       "</style>\n",
       "<table border=\"1\" class=\"dataframe\">\n",
       "  <thead>\n",
       "    <tr style=\"text-align: right;\">\n",
       "      <th></th>\n",
       "      <th></th>\n",
       "      <th></th>\n",
       "      <th>T_bld</th>\n",
       "      <th>T_sim</th>\n",
       "      <th>VSize_sum</th>\n",
       "    </tr>\n",
       "    <tr>\n",
       "      <th>SCALE</th>\n",
       "      <th>THREADS_PER_TASK</th>\n",
       "      <th>NUMBER_OF_NODES</th>\n",
       "      <th></th>\n",
       "      <th></th>\n",
       "      <th></th>\n",
       "    </tr>\n",
       "  </thead>\n",
       "  <tbody>\n",
       "    <tr>\n",
       "      <th rowspan=\"6\" valign=\"top\">160</th>\n",
       "      <th>1</th>\n",
       "      <th>8</th>\n",
       "      <td>63.39</td>\n",
       "      <td>177.89</td>\n",
       "      <td>958799676.0</td>\n",
       "    </tr>\n",
       "    <tr>\n",
       "      <th>3</th>\n",
       "      <th>8</th>\n",
       "      <td>83.30</td>\n",
       "      <td>199.93</td>\n",
       "      <td>867065712.0</td>\n",
       "    </tr>\n",
       "    <tr>\n",
       "      <th>4</th>\n",
       "      <th>8</th>\n",
       "      <td>NaN</td>\n",
       "      <td>NaN</td>\n",
       "      <td>NaN</td>\n",
       "    </tr>\n",
       "    <tr>\n",
       "      <th>6</th>\n",
       "      <th>8</th>\n",
       "      <td>89.79</td>\n",
       "      <td>207.34</td>\n",
       "      <td>855381360.0</td>\n",
       "    </tr>\n",
       "    <tr>\n",
       "      <th>9</th>\n",
       "      <th>8</th>\n",
       "      <td>87.20</td>\n",
       "      <td>205.37</td>\n",
       "      <td>852435352.0</td>\n",
       "    </tr>\n",
       "    <tr>\n",
       "      <th>18</th>\n",
       "      <th>8</th>\n",
       "      <td>90.25</td>\n",
       "      <td>209.08</td>\n",
       "      <td>849617496.0</td>\n",
       "    </tr>\n",
       "  </tbody>\n",
       "</table>\n",
       "</div>"
      ],
      "text/plain": [
       "                                        T_bld   T_sim    VSize_sum\n",
       "SCALE THREADS_PER_TASK NUMBER_OF_NODES                            \n",
       "160   1                8                63.39  177.89  958799676.0\n",
       "      3                8                83.30  199.93  867065712.0\n",
       "      4                8                  NaN     NaN          NaN\n",
       "      6                8                89.79  207.34  855381360.0\n",
       "      9                8                87.20  205.37  852435352.0\n",
       "      18               8                90.25  209.08  849617496.0"
      ]
     },
     "execution_count": 242,
     "metadata": {},
     "output_type": "execute_result"
    }
   ],
   "source": [
    "hpc_thread_mf5G_res = pd.read_csv('results/hpc_benchmark_mf5G_daint_strict_thread_all.csv')\n",
    "# print(hpc_thread_mf5G_res)\n",
    "\n",
    "hpc_thread_mf5G_res['T_bld_xn'] = hpc_thread_mf5G_res['T_conns_min'] + hpc_thread_mf5G_res['T_ini_max']\n",
    "hpc_thread_mf5G_res['T_bld_nx'] = hpc_thread_mf5G_res['T_conns_max'] + hpc_thread_mf5G_res['T_ini_min']\n",
    "\n",
    "hpc_thread_mf5G_res['T_bld'] = hpc_thread_mf5G_res[['T_bld_xn', 'T_bld_nx']].min(axis=1)\n",
    "\n",
    "print(hpc_thread_mf5G_res['T_sim'])\n",
    "\n",
    "hpc_thread_mf5G_res = pd.pivot_table(hpc_thread_mf5G_res, index=['SCALE', 'THREADS_PER_TASK', 'NUMBER_OF_NODES'],\n",
    "                                     values=['T_bld', 'VSize_sum', 'T_sim'])\n",
    "hpc_thread_mf5G_res"
   ]
  },
  {
   "cell_type": "code",
   "execution_count": 243,
   "metadata": {},
   "outputs": [
    {
     "data": {
      "text/plain": [
       "<matplotlib.axes._subplots.AxesSubplot at 0x7fbf4eb9f358>"
      ]
     },
     "execution_count": 243,
     "metadata": {},
     "output_type": "execute_result"
    },
    {
     "data": {
      "image/png": "[encoded data removed]",
      "text/plain": [
       "<matplotlib.figure.Figure at 0x7fbf4eb967b8>"
      ]
     },
     "metadata": {},
     "output_type": "display_data"
    }
   ],
   "source": [
    "hpc_thread_mf5G_res['T_bld'].plot(kind='bar', title='Build times',\n",
    "                                  color = ['r', 'g', 'b', 'm', 'y', 'c', 'C0', 'C1']*int(len(hpc_thread_mf5G_res)/6),\n",
    "                                  figsize=(12,5))"
   ]
  },
  {
   "cell_type": "code",
   "execution_count": null,
   "metadata": {},
   "outputs": [],
   "source": []
  },
  {
   "cell_type": "code",
   "execution_count": null,
   "metadata": {},
   "outputs": [],
   "source": []
  },
  {
   "cell_type": "code",
   "execution_count": null,
   "metadata": {},
   "outputs": [],
   "source": []
  },
  {
   "cell_type": "code",
   "execution_count": null,
   "metadata": {},
   "outputs": [],
   "source": []
  },
  {
   "cell_type": "code",
   "execution_count": null,
   "metadata": {},
   "outputs": [],
   "source": []
  },
  {
   "cell_type": "code",
   "execution_count": null,
   "metadata": {},
   "outputs": [],
   "source": []
  },
  {
   "cell_type": "code",
   "execution_count": null,
   "metadata": {},
   "outputs": [],
   "source": []
  },
  {
   "cell_type": "markdown",
   "metadata": {},
   "source": [
    "### hpc - stripped, only EE Connections"
   ]
  },
  {
   "cell_type": "code",
   "execution_count": 186,
   "metadata": {},
   "outputs": [
    {
     "name": "stdout",
     "output_type": "stream",
     "text": [
      "0   NaN\n",
      "1   NaN\n",
      "2   NaN\n",
      "3   NaN\n",
      "4   NaN\n",
      "5   NaN\n",
      "Name: T_sim, dtype: float64\n"
     ]
    },
    {
     "data": {
      "text/html": [
       "<div>\n",
       "<style scoped>\n",
       "    .dataframe tbody tr th:only-of-type {\n",
       "        vertical-align: middle;\n",
       "    }\n",
       "\n",
       "    .dataframe tbody tr th {\n",
       "        vertical-align: top;\n",
       "    }\n",
       "\n",
       "    .dataframe thead th {\n",
       "        text-align: right;\n",
       "    }\n",
       "</style>\n",
       "<table border=\"1\" class=\"dataframe\">\n",
       "  <thead>\n",
       "    <tr style=\"text-align: right;\">\n",
       "      <th></th>\n",
       "      <th></th>\n",
       "      <th></th>\n",
       "      <th>T_bld</th>\n",
       "      <th>T_conns_min</th>\n",
       "      <th>T_ini_min</th>\n",
       "    </tr>\n",
       "    <tr>\n",
       "      <th>SCALE</th>\n",
       "      <th>THREADS_PER_TASK</th>\n",
       "      <th>NUMBER_OF_NODES</th>\n",
       "      <th></th>\n",
       "      <th></th>\n",
       "      <th></th>\n",
       "    </tr>\n",
       "  </thead>\n",
       "  <tbody>\n",
       "    <tr>\n",
       "      <th rowspan=\"6\" valign=\"top\">160</th>\n",
       "      <th>1</th>\n",
       "      <th>8</th>\n",
       "      <td>205.85</td>\n",
       "      <td>15.91</td>\n",
       "      <td>188.95</td>\n",
       "    </tr>\n",
       "    <tr>\n",
       "      <th>3</th>\n",
       "      <th>8</th>\n",
       "      <td>283.18</td>\n",
       "      <td>27.10</td>\n",
       "      <td>249.90</td>\n",
       "    </tr>\n",
       "    <tr>\n",
       "      <th>4</th>\n",
       "      <th>8</th>\n",
       "      <td>317.36</td>\n",
       "      <td>34.24</td>\n",
       "      <td>278.72</td>\n",
       "    </tr>\n",
       "    <tr>\n",
       "      <th>6</th>\n",
       "      <th>8</th>\n",
       "      <td>321.26</td>\n",
       "      <td>37.72</td>\n",
       "      <td>280.55</td>\n",
       "    </tr>\n",
       "    <tr>\n",
       "      <th>9</th>\n",
       "      <th>8</th>\n",
       "      <td>322.77</td>\n",
       "      <td>42.54</td>\n",
       "      <td>276.73</td>\n",
       "    </tr>\n",
       "    <tr>\n",
       "      <th>18</th>\n",
       "      <th>8</th>\n",
       "      <td>395.19</td>\n",
       "      <td>58.16</td>\n",
       "      <td>327.45</td>\n",
       "    </tr>\n",
       "  </tbody>\n",
       "</table>\n",
       "</div>"
      ],
      "text/plain": [
       "                                         T_bld  T_conns_min  T_ini_min\n",
       "SCALE THREADS_PER_TASK NUMBER_OF_NODES                                \n",
       "160   1                8                205.85        15.91     188.95\n",
       "      3                8                283.18        27.10     249.90\n",
       "      4                8                317.36        34.24     278.72\n",
       "      6                8                321.26        37.72     280.55\n",
       "      9                8                322.77        42.54     276.73\n",
       "      18               8                395.19        58.16     327.45"
      ]
     },
     "execution_count": 186,
     "metadata": {},
     "output_type": "execute_result"
    }
   ],
   "source": [
    "hpc_thread_stripped_res = pd.read_csv('results/hpc_benchmark_2_16_1_daint_strict_stripped.csv')\n",
    "# print(hpc_thread_216_res)\n",
    "\n",
    "hpc_thread_stripped_res['T_bld_xn'] = hpc_thread_stripped_res['T_conns_min'] + hpc_thread_stripped_res['T_ini_max']\n",
    "hpc_thread_stripped_res['T_bld_nx'] = hpc_thread_stripped_res['T_conns_max'] + hpc_thread_stripped_res['T_ini_min']\n",
    "\n",
    "hpc_thread_stripped_res['T_bld'] = hpc_thread_stripped_res[['T_bld_xn', 'T_bld_nx']].min(axis=1)\n",
    "\n",
    "print(hpc_thread_stripped_res['T_sim'])\n",
    "\n",
    "hpc_thread_stripped_res = pd.pivot_table(hpc_thread_stripped_res, index=['SCALE', 'THREADS_PER_TASK', 'NUMBER_OF_NODES'],\n",
    "                                    values=['T_bld', 'VSize_sum', 'T_sim', 'T_conns_min', 'T_ini_min'])\n",
    "hpc_thread_stripped_res"
   ]
  },
  {
   "cell_type": "code",
   "execution_count": 187,
   "metadata": {
    "collapsed": true
   },
   "outputs": [
    {
     "data": {
      "text/plain": [
       "<matplotlib.axes._subplots.AxesSubplot at 0x7fbf54df6c88>"
      ]
     },
     "execution_count": 187,
     "metadata": {},
     "output_type": "execute_result"
    },
    {
     "data": {
      "image/png": "[encoded data removed]",
      "text/plain": [
       "<matplotlib.figure.Figure at 0x7fbf54fc7278>"
      ]
     },
     "metadata": {},
     "output_type": "display_data"
    }
   ],
   "source": [
    "hpc_thread_stripped_res['T_bld'].plot(kind='bar', title='Build times',\n",
    "                                      color = ['r', 'g', 'b', 'm', 'y', 'c', 'C0', 'C1']*int(len(hpc_thread_stripped_res)/6),\n",
    "                                      figsize=(12,5))"
   ]
  },
  {
   "cell_type": "code",
   "execution_count": null,
   "metadata": {},
   "outputs": [],
   "source": []
  },
  {
   "cell_type": "code",
   "execution_count": null,
   "metadata": {},
   "outputs": [],
   "source": []
  },
  {
   "cell_type": "markdown",
   "metadata": {},
   "source": [
    "## Figure 4"
   ]
  },
  {
   "cell_type": "markdown",
   "metadata": {},
   "source": [
    "### NEST 2.16.1"
   ]
  },
  {
   "cell_type": "code",
   "execution_count": 181,
   "metadata": {},
   "outputs": [
    {
     "name": "stdout",
     "output_type": "stream",
     "text": [
      "   NUMBER_OF_NODES  TASKS_PER_NODE  THREADS_PER_TASK  NUM_VPS  SCALE  PLASTIC  \\\n",
      "0                1               1                 1      NaN     15     True   \n",
      "1                1               1                 3      NaN     15     True   \n",
      "2                1               1                 6      NaN     15     True   \n",
      "3                1               1                 9      NaN     15     True   \n",
      "4                1               1                18      NaN     15     True   \n",
      "5                1               1                36      NaN     15     True   \n",
      "\n",
      "   T_nrns  T_conns_min  T_conns_max  T_ini_min  T_ini_max  T_equ   T_sim  \\\n",
      "0    0.97          NaN          NaN        NaN        NaN    NaN     NaN   \n",
      "1    0.97       302.93       302.93     226.92     226.92  17.55  200.63   \n",
      "2    1.15       218.14       218.14     158.67     158.67  13.13  153.66   \n",
      "3    1.26       174.53       174.53     133.22     133.22  38.15  551.23   \n",
      "4    1.26       122.11       122.11     103.37     103.37  25.74  368.62   \n",
      "5    1.50       109.40       109.40      94.37      94.37  13.40  199.92   \n",
      "\n",
      "    VSize_sum  N_spks_sum  Rate_sum    N_nrns   N_conns_sum  d_min  d_max  \n",
      "0         NaN         NaN       NaN       NaN           NaN    NaN    NaN  \n",
      "1  82409516.0    111736.0     0.400  168750.0  1.898607e+09    1.5    1.5  \n",
      "2  82555960.0    151882.0     0.624  168750.0  1.898607e+09    1.5    1.5  \n",
      "3  75425860.0    944546.0     5.438  168750.0  1.898607e+09    1.5    1.5  \n",
      "4  75410536.0   1201955.0     6.994  168750.0  1.898607e+09    1.5    1.5  \n",
      "5  75082940.0   1230117.0     7.286  168750.0  1.898607e+09    1.5    1.5  \n",
      "0       NaN\n",
      "1    200.63\n",
      "2    153.66\n",
      "3    551.23\n",
      "4    368.62\n",
      "5    199.92\n",
      "Name: T_sim, dtype: float64\n"
     ]
    },
    {
     "data": {
      "text/html": [
       "<div>\n",
       "<style scoped>\n",
       "    .dataframe tbody tr th:only-of-type {\n",
       "        vertical-align: middle;\n",
       "    }\n",
       "\n",
       "    .dataframe tbody tr th {\n",
       "        vertical-align: top;\n",
       "    }\n",
       "\n",
       "    .dataframe thead th {\n",
       "        text-align: right;\n",
       "    }\n",
       "</style>\n",
       "<table border=\"1\" class=\"dataframe\">\n",
       "  <thead>\n",
       "    <tr style=\"text-align: right;\">\n",
       "      <th></th>\n",
       "      <th>T_bld</th>\n",
       "      <th>T_conns_min</th>\n",
       "      <th>T_ini_min</th>\n",
       "      <th>T_sim</th>\n",
       "      <th>VSize_sum</th>\n",
       "    </tr>\n",
       "    <tr>\n",
       "      <th>THREADS_PER_TASK</th>\n",
       "      <th></th>\n",
       "      <th></th>\n",
       "      <th></th>\n",
       "      <th></th>\n",
       "      <th></th>\n",
       "    </tr>\n",
       "  </thead>\n",
       "  <tbody>\n",
       "    <tr>\n",
       "      <th>1</th>\n",
       "      <td>NaN</td>\n",
       "      <td>NaN</td>\n",
       "      <td>NaN</td>\n",
       "      <td>NaN</td>\n",
       "      <td>NaN</td>\n",
       "    </tr>\n",
       "    <tr>\n",
       "      <th>3</th>\n",
       "      <td>529.85</td>\n",
       "      <td>302.93</td>\n",
       "      <td>226.92</td>\n",
       "      <td>200.63</td>\n",
       "      <td>82409516.0</td>\n",
       "    </tr>\n",
       "    <tr>\n",
       "      <th>6</th>\n",
       "      <td>376.81</td>\n",
       "      <td>218.14</td>\n",
       "      <td>158.67</td>\n",
       "      <td>153.66</td>\n",
       "      <td>82555960.0</td>\n",
       "    </tr>\n",
       "    <tr>\n",
       "      <th>9</th>\n",
       "      <td>307.75</td>\n",
       "      <td>174.53</td>\n",
       "      <td>133.22</td>\n",
       "      <td>551.23</td>\n",
       "      <td>75425860.0</td>\n",
       "    </tr>\n",
       "    <tr>\n",
       "      <th>18</th>\n",
       "      <td>225.48</td>\n",
       "      <td>122.11</td>\n",
       "      <td>103.37</td>\n",
       "      <td>368.62</td>\n",
       "      <td>75410536.0</td>\n",
       "    </tr>\n",
       "    <tr>\n",
       "      <th>36</th>\n",
       "      <td>203.77</td>\n",
       "      <td>109.40</td>\n",
       "      <td>94.37</td>\n",
       "      <td>199.92</td>\n",
       "      <td>75082940.0</td>\n",
       "    </tr>\n",
       "  </tbody>\n",
       "</table>\n",
       "</div>"
      ],
      "text/plain": [
       "                   T_bld  T_conns_min  T_ini_min   T_sim   VSize_sum\n",
       "THREADS_PER_TASK                                                    \n",
       "1                    NaN          NaN        NaN     NaN         NaN\n",
       "3                 529.85       302.93     226.92  200.63  82409516.0\n",
       "6                 376.81       218.14     158.67  153.66  82555960.0\n",
       "9                 307.75       174.53     133.22  551.23  75425860.0\n",
       "18                225.48       122.11     103.37  368.62  75410536.0\n",
       "36                203.77       109.40      94.37  199.92  75082940.0"
      ]
     },
     "execution_count": 181,
     "metadata": {},
     "output_type": "execute_result"
    }
   ],
   "source": [
    "#fig4_2_16_1_res = pd.read_csv('results/hpc_benchmark_2_16_1_daint_strict_fig4.csv')\n",
    "#fig4_2_16_1_res['version'] = ['2.16.1']*6\n",
    "#fig4_5g_res = pd.read_csv('results/hpc_benchmark_f104c6d_daint_strict_fig4.csv')\n",
    "#fig4_5g_res['version'] = ['5g']*6\n",
    "\n",
    "#fig4_res = pd.concat([fig4_2_16_1_res, fig4_5g_res])\n",
    "fig4_res = pd.read_csv('results/hpc_benchmark_2_16_1_daint_strict_fig4.csv')\n",
    "#print(fig4_res)\n",
    "\n",
    "fig4_res['T_bld_xn'] = fig4_res['T_conns_min'] + fig4_res['T_ini_max']\n",
    "fig4_res['T_bld_nx'] = fig4_res['T_conns_max'] + fig4_res['T_ini_min']\n",
    "\n",
    "fig4_res['T_bld'] = fig4_res[['T_bld_xn', 'T_bld_nx']].min(axis=1)\n",
    "\n",
    "print(fig4_res['T_sim'])\n",
    "\n",
    "fig4_pres = pd.pivot_table(fig4_res, index=['THREADS_PER_TASK'],\n",
    "                          values=['T_bld', 'VSize_sum', 'T_sim', 'T_conns_min', 'T_ini_min'])\n",
    "fig4_pres"
   ]
  },
  {
   "cell_type": "code",
   "execution_count": 150,
   "metadata": {},
   "outputs": [
    {
     "data": {
      "text/plain": [
       "array([<matplotlib.axes._subplots.AxesSubplot object at 0x7fbf5ebb4978>,\n",
       "       <matplotlib.axes._subplots.AxesSubplot object at 0x7fbf5ebe5748>,\n",
       "       <matplotlib.axes._subplots.AxesSubplot object at 0x7fbf5eb85a58>,\n",
       "       <matplotlib.axes._subplots.AxesSubplot object at 0x7fbf5eb57588>,\n",
       "       <matplotlib.axes._subplots.AxesSubplot object at 0x7fbf5eb10940>],\n",
       "      dtype=object)"
      ]
     },
     "execution_count": 150,
     "metadata": {},
     "output_type": "execute_result"
    },
    {
     "data": {
      "image/png": "[encoded data removed]",
      "text/plain": [
       "<matplotlib.figure.Figure at 0x7fbf5ec22400>"
      ]
     },
     "metadata": {},
     "output_type": "display_data"
    }
   ],
   "source": [
    "ax_2_16_1 = fig4_pres.plot(kind='line', title='', subplots=True, xticks=[1,3,6,9,18,36],\n",
    "              style=['-*','-*','-*','-*','-*'], figsize=(10,10))\n",
    "ax_2_16_1"
   ]
  },
  {
   "cell_type": "code",
   "execution_count": null,
   "metadata": {},
   "outputs": [],
   "source": []
  },
  {
   "cell_type": "code",
   "execution_count": null,
   "metadata": {},
   "outputs": [],
   "source": []
  },
  {
   "cell_type": "code",
   "execution_count": 230,
   "metadata": {},
   "outputs": [
    {
     "name": "stdout",
     "output_type": "stream",
     "text": [
      "0     196.23\n",
      "1     200.61\n",
      "2     164.56\n",
      "3     153.97\n",
      "4     144.33\n",
      "5     178.30\n",
      "6     553.30\n",
      "7     628.10\n",
      "8     586.59\n",
      "9     533.08\n",
      "10    494.59\n",
      "Name: T_sim, dtype: float64\n"
     ]
    },
    {
     "data": {
      "text/plain": [
       "array([<matplotlib.axes._subplots.AxesSubplot object at 0x7fbf4ee26908>,\n",
       "       <matplotlib.axes._subplots.AxesSubplot object at 0x7fbf4ede5320>,\n",
       "       <matplotlib.axes._subplots.AxesSubplot object at 0x7fbf4edf84a8>,\n",
       "       <matplotlib.axes._subplots.AxesSubplot object at 0x7fbf4ed48f60>,\n",
       "       <matplotlib.axes._subplots.AxesSubplot object at 0x7fbf4ed0e358>],\n",
       "      dtype=object)"
      ]
     },
     "execution_count": 230,
     "metadata": {},
     "output_type": "execute_result"
    },
    {
     "data": {
      "image/png": "[encoded data removed]",
      "text/plain": [
       "<matplotlib.figure.Figure at 0x7fbf4ee1c198>"
      ]
     },
     "metadata": {},
     "output_type": "display_data"
    }
   ],
   "source": [
    "fig4_all_threads_res = pd.read_csv('results/hpc_benchmark_2_16_1_daint_strict_thread_3456789.csv')\n",
    "#print(fig4_all_threads_res)\n",
    "\n",
    "fig4_all_threads_res['T_bld_xn'] = fig4_all_threads_res['T_conns_min'] + fig4_all_threads_res['T_ini_max']\n",
    "fig4_all_threads_res['T_bld_nx'] = fig4_all_threads_res['T_conns_max'] + fig4_all_threads_res['T_ini_min']\n",
    "\n",
    "fig4_all_threads_res['T_bld'] = fig4_all_threads_res[['T_bld_xn', 'T_bld_nx']].min(axis=1)\n",
    "\n",
    "print(fig4_all_threads_res['T_sim'])\n",
    "\n",
    "fig4_all_threads_res = pd.pivot_table(fig4_all_threads_res, index=['THREADS_PER_TASK'],\n",
    "                                      values=['T_bld', 'VSize_sum', 'T_sim', 'T_conns_min', 'T_ini_min'])\n",
    "fig4_all_threads_res\n",
    "\n",
    "fig4_all_threads_res.plot(kind='line', title='', subplots=True, xticks=[3,4,5,6,7,8,9,10,11,12,13],\n",
    "                          style=['-*','-*','-*','-*','-*'], figsize=(10,10))"
   ]
  },
  {
   "cell_type": "code",
   "execution_count": null,
   "metadata": {},
   "outputs": [],
   "source": []
  },
  {
   "cell_type": "code",
   "execution_count": null,
   "metadata": {},
   "outputs": [],
   "source": []
  },
  {
   "cell_type": "code",
   "execution_count": null,
   "metadata": {},
   "outputs": [],
   "source": []
  },
  {
   "cell_type": "code",
   "execution_count": null,
   "metadata": {},
   "outputs": [],
   "source": []
  },
  {
   "cell_type": "code",
   "execution_count": null,
   "metadata": {},
   "outputs": [],
   "source": []
  },
  {
   "cell_type": "code",
   "execution_count": null,
   "metadata": {},
   "outputs": [],
   "source": []
  },
  {
   "cell_type": "code",
   "execution_count": null,
   "metadata": {},
   "outputs": [],
   "source": []
  },
  {
   "cell_type": "markdown",
   "metadata": {},
   "source": [
    "## 5g"
   ]
  },
  {
   "cell_type": "code",
   "execution_count": 146,
   "metadata": {},
   "outputs": [
    {
     "name": "stdout",
     "output_type": "stream",
     "text": [
      "                   T_bld  T_conns_min  T_ini_min   T_sim   VSize_sum\n",
      "THREADS_PER_TASK                                                    \n",
      "1                    NaN          NaN        NaN     NaN         NaN\n",
      "3                 529.85       302.93     226.92  200.63  82409516.0\n",
      "6                 376.81       218.14     158.67  153.66  82555960.0\n",
      "9                 307.75       174.53     133.22  551.23  75425860.0\n",
      "18                225.48       122.11     103.37  368.62  75410536.0\n",
      "36                203.77       109.40      94.37  199.92  75082940.0\n",
      "0       NaN\n",
      "1    217.68\n",
      "2    152.12\n",
      "3    557.17\n",
      "4    379.76\n",
      "5    207.83\n",
      "Name: T_sim, dtype: float64\n"
     ]
    },
    {
     "data": {
      "text/html": [
       "<div>\n",
       "<style scoped>\n",
       "    .dataframe tbody tr th:only-of-type {\n",
       "        vertical-align: middle;\n",
       "    }\n",
       "\n",
       "    .dataframe tbody tr th {\n",
       "        vertical-align: top;\n",
       "    }\n",
       "\n",
       "    .dataframe thead th {\n",
       "        text-align: right;\n",
       "    }\n",
       "</style>\n",
       "<table border=\"1\" class=\"dataframe\">\n",
       "  <thead>\n",
       "    <tr style=\"text-align: right;\">\n",
       "      <th></th>\n",
       "      <th>T_bld</th>\n",
       "      <th>T_conns_min</th>\n",
       "      <th>T_ini_min</th>\n",
       "      <th>T_sim</th>\n",
       "      <th>VSize_sum</th>\n",
       "    </tr>\n",
       "    <tr>\n",
       "      <th>THREADS_PER_TASK</th>\n",
       "      <th></th>\n",
       "      <th></th>\n",
       "      <th></th>\n",
       "      <th></th>\n",
       "      <th></th>\n",
       "    </tr>\n",
       "  </thead>\n",
       "  <tbody>\n",
       "    <tr>\n",
       "      <th>1</th>\n",
       "      <td>NaN</td>\n",
       "      <td>NaN</td>\n",
       "      <td>NaN</td>\n",
       "      <td>NaN</td>\n",
       "      <td>NaN</td>\n",
       "    </tr>\n",
       "    <tr>\n",
       "      <th>3</th>\n",
       "      <td>441.37</td>\n",
       "      <td>237.51</td>\n",
       "      <td>203.86</td>\n",
       "      <td>217.68</td>\n",
       "      <td>113819704.0</td>\n",
       "    </tr>\n",
       "    <tr>\n",
       "      <th>6</th>\n",
       "      <td>315.59</td>\n",
       "      <td>174.57</td>\n",
       "      <td>141.02</td>\n",
       "      <td>152.12</td>\n",
       "      <td>113901124.0</td>\n",
       "    </tr>\n",
       "    <tr>\n",
       "      <th>9</th>\n",
       "      <td>247.91</td>\n",
       "      <td>127.39</td>\n",
       "      <td>120.52</td>\n",
       "      <td>557.17</td>\n",
       "      <td>123352144.0</td>\n",
       "    </tr>\n",
       "    <tr>\n",
       "      <th>18</th>\n",
       "      <td>184.69</td>\n",
       "      <td>87.96</td>\n",
       "      <td>96.73</td>\n",
       "      <td>379.76</td>\n",
       "      <td>123526260.0</td>\n",
       "    </tr>\n",
       "    <tr>\n",
       "      <th>36</th>\n",
       "      <td>156.21</td>\n",
       "      <td>63.32</td>\n",
       "      <td>92.89</td>\n",
       "      <td>207.83</td>\n",
       "      <td>123792584.0</td>\n",
       "    </tr>\n",
       "  </tbody>\n",
       "</table>\n",
       "</div>"
      ],
      "text/plain": [
       "                   T_bld  T_conns_min  T_ini_min   T_sim    VSize_sum\n",
       "THREADS_PER_TASK                                                     \n",
       "1                    NaN          NaN        NaN     NaN          NaN\n",
       "3                 441.37       237.51     203.86  217.68  113819704.0\n",
       "6                 315.59       174.57     141.02  152.12  113901124.0\n",
       "9                 247.91       127.39     120.52  557.17  123352144.0\n",
       "18                184.69        87.96      96.73  379.76  123526260.0\n",
       "36                156.21        63.32      92.89  207.83  123792584.0"
      ]
     },
     "execution_count": 146,
     "metadata": {},
     "output_type": "execute_result"
    }
   ],
   "source": [
    "#fig4_2_16_1_res = pd.read_csv('results/hpc_benchmark_2_16_1_daint_strict_fig4.csv')\n",
    "#fig4_2_16_1_res['version'] = ['2.16.1']*6\n",
    "#fig4_5g_res = pd.read_csv('results/hpc_benchmark_f104c6d_daint_strict_fig4.csv')\n",
    "#fig4_5g_res['version'] = ['5g']*6\n",
    "\n",
    "#fig4_res = pd.concat([fig4_2_16_1_res, fig4_5g_res])\n",
    "fig4_5g_res = pd.read_csv('results/hpc_benchmark_f104c6d_daint_strict_fig4.csv')\n",
    "#print(fig4_res)\n",
    "\n",
    "fig4_5g_res['T_bld_xn'] = fig4_5g_res['T_conns_min'] + fig4_5g_res['T_ini_max']\n",
    "fig4_5g_res['T_bld_nx'] = fig4_5g_res['T_conns_max'] + fig4_5g_res['T_ini_min']\n",
    "\n",
    "fig4_5g_res['T_bld'] = fig4_5g_res[['T_bld_xn', 'T_bld_nx']].min(axis=1)\n",
    "\n",
    "print(fig4_5g_res['T_sim'])\n",
    "\n",
    "fig4_5g_pres = pd.pivot_table(fig4_5g_res, index=['THREADS_PER_TASK'],\n",
    "                             values=['T_bld', 'VSize_sum', 'T_sim', 'T_conns_min', 'T_ini_min'])\n",
    "fig4_5g_pres"
   ]
  },
  {
   "cell_type": "code",
   "execution_count": 143,
   "metadata": {},
   "outputs": [
    {
     "data": {
      "text/plain": [
       "array([<matplotlib.axes._subplots.AxesSubplot object at 0x7fbf5efa0d68>,\n",
       "       <matplotlib.axes._subplots.AxesSubplot object at 0x7fbf5f1f7dd8>,\n",
       "       <matplotlib.axes._subplots.AxesSubplot object at 0x7fbf5f2310b8>,\n",
       "       <matplotlib.axes._subplots.AxesSubplot object at 0x7fbf5fd2bd68>,\n",
       "       <matplotlib.axes._subplots.AxesSubplot object at 0x7fbf60a2ef60>],\n",
       "      dtype=object)"
      ]
     },
     "execution_count": 143,
     "metadata": {},
     "output_type": "execute_result"
    },
    {
     "data": {
      "image/png": "[encoded data removed]",
      "text/plain": [
       "<matplotlib.figure.Figure at 0x7fbf5f027c88>"
      ]
     },
     "metadata": {},
     "output_type": "display_data"
    }
   ],
   "source": [
    "fig4_5g_pres.plot(kind='line', title='', subplots=True, xticks=[1,3,6,9,18,36],\n",
    "                 style=['-*','-*','-*','-*','-*'], figsize=(10,10))"
   ]
  },
  {
   "cell_type": "code",
   "execution_count": 182,
   "metadata": {},
   "outputs": [
    {
     "data": {
      "text/plain": [
       "<matplotlib.legend.Legend at 0x7fbf5525bb70>"
      ]
     },
     "execution_count": 182,
     "metadata": {},
     "output_type": "execute_result"
    },
    {
     "name": "stderr",
     "output_type": "stream",
     "text": [
      "/home/stine/anaconda3/lib/python3.6/site-packages/matplotlib/scale.py:111: RuntimeWarning: invalid value encountered in less_equal\n",
      "  out[a <= 0] = -1000\n"
     ]
    },
    {
     "data": {
      "image/png": "[encoded data removed]",
      "text/plain": [
       "<matplotlib.figure.Figure at 0x7fbf55384518>"
      ]
     },
     "metadata": {},
     "output_type": "display_data"
    }
   ],
   "source": [
    "plt.figure(figsize=(15,8))\n",
    "\n",
    "plt.subplot(231)\n",
    "plt.loglog(fig4_res['THREADS_PER_TASK'], fig4_res['T_bld'], '-*', label='2.16.1')\n",
    "plt.loglog(fig4_5g_res['THREADS_PER_TASK'], fig4_5g_res['T_bld'], '-*',label='5g')\n",
    "plt.ylabel('T_bld')\n",
    "plt.xlabel('threads')\n",
    "plt.legend()\n",
    "\n",
    "plt.subplot(232)\n",
    "plt.loglog(fig4_res['THREADS_PER_TASK'], fig4_res['T_ini_min'], '-*', label='2.16.1')\n",
    "plt.loglog(fig4_5g_res['THREADS_PER_TASK'], fig4_5g_res['T_ini_min'], '-*',label='5g')\n",
    "plt.ylabel('T_ini_min')\n",
    "plt.xlabel('threads')\n",
    "plt.legend()\n",
    "\n",
    "plt.subplot(233)\n",
    "plt.loglog(fig4_res['THREADS_PER_TASK'], fig4_res['T_conns_min'], '-*', label='2.16.1')\n",
    "plt.loglog(fig4_5g_res['THREADS_PER_TASK'], fig4_5g_res['T_conns_min'], '-*',label='5g')\n",
    "plt.ylabel('T_conns_min')\n",
    "plt.xlabel('threads')\n",
    "plt.legend()\n",
    "\n",
    "plt.subplot(234)\n",
    "plt.loglog(fig4_res['THREADS_PER_TASK'], fig4_res['T_sim'], '-*', label='2.16.1')\n",
    "plt.loglog(fig4_5g_res['THREADS_PER_TASK'], fig4_5g_res['T_sim'], '-*',label='5g')\n",
    "plt.ylabel('T_sim')\n",
    "plt.xlabel('threads')\n",
    "plt.legend()\n",
    "\n",
    "plt.subplot(235)\n",
    "plt.loglog(fig4_res['THREADS_PER_TASK'], fig4_res['VSize_sum'], '-*', label='2.16.1')\n",
    "plt.loglog(fig4_5g_res['THREADS_PER_TASK'], fig4_5g_res['VSize_sum'], '-*',label='5g')\n",
    "plt.ylabel('mem')\n",
    "plt.xlabel('threads')\n",
    "plt.legend()"
   ]
  },
  {
   "cell_type": "code",
   "execution_count": null,
   "metadata": {},
   "outputs": [],
   "source": []
  },
  {
   "cell_type": "markdown",
   "metadata": {},
   "source": [
    "## 5G node=8, vp=36, scale=160, thread = 1, 3, 4, 6, 9, 18\n",
    "\n",
    "There is something strange here, N_spks_sum is not constant over all the threads like it should."
   ]
  },
  {
   "cell_type": "code",
   "execution_count": 185,
   "metadata": {},
   "outputs": [
    {
     "name": "stdout",
     "output_type": "stream",
     "text": [
      "   NUMBER_OF_NODES  TASKS_PER_NODE  THREADS_PER_TASK  NUM_VPS  SCALE  PLASTIC  \\\n",
      "0                8              36                 1      288    160     True   \n",
      "1                8              12                 3      288    160     True   \n",
      "2                8               9                 4      288    160     True   \n",
      "3                8               6                 6      288    160     True   \n",
      "4                8               4                 9      288    160     True   \n",
      "5                8               2                18      288    160     True   \n",
      "\n",
      "   T_nrns  T_conns_min  T_conns_max  T_ini_min  T_ini_max  T_equ   T_sim  \\\n",
      "0    0.28        20.50        22.09      28.67      30.26  12.63  260.12   \n",
      "1    0.39        34.03        43.05      39.39      48.41  16.16  269.92   \n",
      "2    0.32        43.84        45.49      45.70      47.34  17.28  273.78   \n",
      "3    0.40        46.56        51.29      52.44      57.18  17.19  278.49   \n",
      "4    0.52        49.27        51.66      58.12      60.46  17.73  276.64   \n",
      "5    0.88        62.13        64.68     104.65     107.21  17.53  283.68   \n",
      "\n",
      "    VSize_sum  N_spks_sum  Rate_sum   N_nrns  N_conns_sum  d_min  d_max  \n",
      "0  1321008920    12419263     6.734  1800000  20251801000    1.5    1.5  \n",
      "1  1189727512    12419263     6.734  1800000  20251801000    1.5    1.5  \n",
      "2  1174305304    12422369     6.890  1800000  20251801000    1.5    1.5  \n",
      "3  1159651672    12419263     6.734  1800000  20251801000    1.5    1.5  \n",
      "4  1152208792    12419263     6.734  1800000  20251801000    1.5    1.5  \n",
      "5  1144559960    12419263     6.734  1800000  20251801000    1.5    1.5  \n",
      "0    260.12\n",
      "1    269.92\n",
      "2    273.78\n",
      "3    278.49\n",
      "4    276.64\n",
      "5    283.68\n",
      "Name: T_sim, dtype: float64\n"
     ]
    },
    {
     "data": {
      "text/html": [
       "<div>\n",
       "<style scoped>\n",
       "    .dataframe tbody tr th:only-of-type {\n",
       "        vertical-align: middle;\n",
       "    }\n",
       "\n",
       "    .dataframe tbody tr th {\n",
       "        vertical-align: top;\n",
       "    }\n",
       "\n",
       "    .dataframe thead th {\n",
       "        text-align: right;\n",
       "    }\n",
       "</style>\n",
       "<table border=\"1\" class=\"dataframe\">\n",
       "  <thead>\n",
       "    <tr style=\"text-align: right;\">\n",
       "      <th></th>\n",
       "      <th></th>\n",
       "      <th></th>\n",
       "      <th>T_bld</th>\n",
       "      <th>T_sim</th>\n",
       "      <th>VSize_sum</th>\n",
       "    </tr>\n",
       "    <tr>\n",
       "      <th>SCALE</th>\n",
       "      <th>THREADS_PER_TASK</th>\n",
       "      <th>NUMBER_OF_NODES</th>\n",
       "      <th></th>\n",
       "      <th></th>\n",
       "      <th></th>\n",
       "    </tr>\n",
       "  </thead>\n",
       "  <tbody>\n",
       "    <tr>\n",
       "      <th rowspan=\"6\" valign=\"top\">160</th>\n",
       "      <th>1</th>\n",
       "      <th>8</th>\n",
       "      <td>50.76</td>\n",
       "      <td>260.12</td>\n",
       "      <td>1321008920</td>\n",
       "    </tr>\n",
       "    <tr>\n",
       "      <th>3</th>\n",
       "      <th>8</th>\n",
       "      <td>82.44</td>\n",
       "      <td>269.92</td>\n",
       "      <td>1189727512</td>\n",
       "    </tr>\n",
       "    <tr>\n",
       "      <th>4</th>\n",
       "      <th>8</th>\n",
       "      <td>91.18</td>\n",
       "      <td>273.78</td>\n",
       "      <td>1174305304</td>\n",
       "    </tr>\n",
       "    <tr>\n",
       "      <th>6</th>\n",
       "      <th>8</th>\n",
       "      <td>103.73</td>\n",
       "      <td>278.49</td>\n",
       "      <td>1159651672</td>\n",
       "    </tr>\n",
       "    <tr>\n",
       "      <th>9</th>\n",
       "      <th>8</th>\n",
       "      <td>109.73</td>\n",
       "      <td>276.64</td>\n",
       "      <td>1152208792</td>\n",
       "    </tr>\n",
       "    <tr>\n",
       "      <th>18</th>\n",
       "      <th>8</th>\n",
       "      <td>169.33</td>\n",
       "      <td>283.68</td>\n",
       "      <td>1144559960</td>\n",
       "    </tr>\n",
       "  </tbody>\n",
       "</table>\n",
       "</div>"
      ],
      "text/plain": [
       "                                         T_bld   T_sim   VSize_sum\n",
       "SCALE THREADS_PER_TASK NUMBER_OF_NODES                            \n",
       "160   1                8                 50.76  260.12  1321008920\n",
       "      3                8                 82.44  269.92  1189727512\n",
       "      4                8                 91.18  273.78  1174305304\n",
       "      6                8                103.73  278.49  1159651672\n",
       "      9                8                109.73  276.64  1152208792\n",
       "      18               8                169.33  283.68  1144559960"
      ]
     },
     "execution_count": 185,
     "metadata": {},
     "output_type": "execute_result"
    }
   ],
   "source": [
    "hpc_thread_5g_res = pd.read_csv('results/hpc_benchmark_f104c6d_daint_strict_thread_all.csv')\n",
    "print(hpc_thread_5g_res)\n",
    "\n",
    "hpc_thread_5g_res['T_bld_xn'] = hpc_thread_5g_res['T_conns_min'] + hpc_thread_5g_res['T_ini_max']\n",
    "hpc_thread_5g_res['T_bld_nx'] = hpc_thread_5g_res['T_conns_max'] + hpc_thread_5g_res['T_ini_min']\n",
    "\n",
    "hpc_thread_5g_res['T_bld'] = hpc_thread_5g_res[['T_bld_xn', 'T_bld_nx']].min(axis=1)\n",
    "\n",
    "print(hpc_thread_5g_res['T_sim'])\n",
    "\n",
    "hpc_thread_5g_res = pd.pivot_table(hpc_thread_5g_res, index=['SCALE', 'THREADS_PER_TASK', 'NUMBER_OF_NODES'],\n",
    "                                   values=['T_bld', 'VSize_sum', 'T_sim'])\n",
    "hpc_thread_5g_res"
   ]
  },
  {
   "cell_type": "code",
   "execution_count": 184,
   "metadata": {},
   "outputs": [
    {
     "data": {
      "text/plain": [
       "<matplotlib.axes._subplots.AxesSubplot at 0x7fbf54f36780>"
      ]
     },
     "execution_count": 184,
     "metadata": {},
     "output_type": "execute_result"
    },
    {
     "data": {
      "image/png": "[encoded data removed]",
      "text/plain": [
       "<matplotlib.figure.Figure at 0x7fbf54f3cef0>"
      ]
     },
     "metadata": {},
     "output_type": "display_data"
    }
   ],
   "source": [
    "hpc_thread_5g_res['T_bld'].plot(kind='bar', title='Build times',\n",
    "                                color = ['r', 'g', 'b', 'm', 'y', 'c', 'C0', 'C1']*int(len(hpc_thread_5g_res)/6),\n",
    "                                figsize=(12,5))"
   ]
  },
  {
   "cell_type": "code",
   "execution_count": null,
   "metadata": {},
   "outputs": [],
   "source": []
  },
  {
   "cell_type": "code",
   "execution_count": null,
   "metadata": {},
   "outputs": [],
   "source": []
  },
  {
   "cell_type": "markdown",
   "metadata": {},
   "source": [
    "## Stallo vs. Piz-Daint, local_num_threads\n",
    "1 node, SCALE=5, thread=3,6,9,18\n",
    "\n",
    "NEST Hash: `91b3fa71`"
   ]
  },
  {
   "cell_type": "code",
   "execution_count": 218,
   "metadata": {},
   "outputs": [
    {
     "name": "stdout",
     "output_type": "stream",
     "text": [
      "0    219.77\n",
      "1    113.29\n",
      "2     87.01\n",
      "3     48.14\n",
      "4       NaN\n",
      "0    342.90\n",
      "1    184.57\n",
      "2    125.33\n",
      "3     67.46\n",
      "4     35.78\n",
      "Name: T_sim, dtype: float64\n"
     ]
    },
    {
     "data": {
      "text/html": [
       "<div>\n",
       "<style scoped>\n",
       "    .dataframe tbody tr th:only-of-type {\n",
       "        vertical-align: middle;\n",
       "    }\n",
       "\n",
       "    .dataframe tbody tr th {\n",
       "        vertical-align: top;\n",
       "    }\n",
       "\n",
       "    .dataframe thead th {\n",
       "        text-align: right;\n",
       "    }\n",
       "</style>\n",
       "<table border=\"1\" class=\"dataframe\">\n",
       "  <thead>\n",
       "    <tr style=\"text-align: right;\">\n",
       "      <th></th>\n",
       "      <th></th>\n",
       "      <th></th>\n",
       "      <th></th>\n",
       "      <th>N_nrns</th>\n",
       "      <th>N_spks_sum</th>\n",
       "      <th>Rate_sum</th>\n",
       "      <th>T_bld</th>\n",
       "      <th>T_sim</th>\n",
       "      <th>VSize_sum</th>\n",
       "    </tr>\n",
       "    <tr>\n",
       "      <th>SCALE</th>\n",
       "      <th>THREADS_PER_TASK</th>\n",
       "      <th>version</th>\n",
       "      <th>NUMBER_OF_NODES</th>\n",
       "      <th></th>\n",
       "      <th></th>\n",
       "      <th></th>\n",
       "      <th></th>\n",
       "      <th></th>\n",
       "      <th></th>\n",
       "    </tr>\n",
       "  </thead>\n",
       "  <tbody>\n",
       "    <tr>\n",
       "      <th rowspan=\"10\" valign=\"top\">5</th>\n",
       "      <th rowspan=\"2\" valign=\"top\">3</th>\n",
       "      <th>daint</th>\n",
       "      <th>1</th>\n",
       "      <td>56250.0</td>\n",
       "      <td>717433.0</td>\n",
       "      <td>12.680</td>\n",
       "      <td>87.47</td>\n",
       "      <td>342.90</td>\n",
       "      <td>13164588.0</td>\n",
       "    </tr>\n",
       "    <tr>\n",
       "      <th>stallo</th>\n",
       "      <th>1</th>\n",
       "      <td>56250.0</td>\n",
       "      <td>717433.0</td>\n",
       "      <td>12.680</td>\n",
       "      <td>75.07</td>\n",
       "      <td>219.77</td>\n",
       "      <td>13275964.0</td>\n",
       "    </tr>\n",
       "    <tr>\n",
       "      <th rowspan=\"2\" valign=\"top\">6</th>\n",
       "      <th>daint</th>\n",
       "      <th>1</th>\n",
       "      <td>56250.0</td>\n",
       "      <td>728286.0</td>\n",
       "      <td>12.920</td>\n",
       "      <td>62.04</td>\n",
       "      <td>184.57</td>\n",
       "      <td>13214776.0</td>\n",
       "    </tr>\n",
       "    <tr>\n",
       "      <th>stallo</th>\n",
       "      <th>1</th>\n",
       "      <td>56250.0</td>\n",
       "      <td>728286.0</td>\n",
       "      <td>12.920</td>\n",
       "      <td>49.87</td>\n",
       "      <td>113.29</td>\n",
       "      <td>13688648.0</td>\n",
       "    </tr>\n",
       "    <tr>\n",
       "      <th rowspan=\"2\" valign=\"top\">9</th>\n",
       "      <th>daint</th>\n",
       "      <th>1</th>\n",
       "      <td>56250.0</td>\n",
       "      <td>719661.0</td>\n",
       "      <td>12.756</td>\n",
       "      <td>50.24</td>\n",
       "      <td>125.33</td>\n",
       "      <td>13436996.0</td>\n",
       "    </tr>\n",
       "    <tr>\n",
       "      <th>stallo</th>\n",
       "      <th>1</th>\n",
       "      <td>56250.0</td>\n",
       "      <td>719661.0</td>\n",
       "      <td>12.756</td>\n",
       "      <td>47.51</td>\n",
       "      <td>87.01</td>\n",
       "      <td>13517652.0</td>\n",
       "    </tr>\n",
       "    <tr>\n",
       "      <th rowspan=\"2\" valign=\"top\">18</th>\n",
       "      <th>daint</th>\n",
       "      <th>1</th>\n",
       "      <td>56250.0</td>\n",
       "      <td>707425.0</td>\n",
       "      <td>12.610</td>\n",
       "      <td>40.48</td>\n",
       "      <td>67.46</td>\n",
       "      <td>13382760.0</td>\n",
       "    </tr>\n",
       "    <tr>\n",
       "      <th>stallo</th>\n",
       "      <th>1</th>\n",
       "      <td>56250.0</td>\n",
       "      <td>707425.0</td>\n",
       "      <td>12.610</td>\n",
       "      <td>45.69</td>\n",
       "      <td>48.14</td>\n",
       "      <td>13627256.0</td>\n",
       "    </tr>\n",
       "    <tr>\n",
       "      <th rowspan=\"2\" valign=\"top\">36</th>\n",
       "      <th>daint</th>\n",
       "      <th>1</th>\n",
       "      <td>56250.0</td>\n",
       "      <td>709314.0</td>\n",
       "      <td>12.555</td>\n",
       "      <td>33.02</td>\n",
       "      <td>35.78</td>\n",
       "      <td>13696188.0</td>\n",
       "    </tr>\n",
       "    <tr>\n",
       "      <th>stallo</th>\n",
       "      <th>1</th>\n",
       "      <td>NaN</td>\n",
       "      <td>NaN</td>\n",
       "      <td>NaN</td>\n",
       "      <td>NaN</td>\n",
       "      <td>NaN</td>\n",
       "      <td>NaN</td>\n",
       "    </tr>\n",
       "  </tbody>\n",
       "</table>\n",
       "</div>"
      ],
      "text/plain": [
       "                                                 N_nrns  N_spks_sum  Rate_sum  \\\n",
       "SCALE THREADS_PER_TASK version NUMBER_OF_NODES                                  \n",
       "5     3                daint   1                56250.0    717433.0    12.680   \n",
       "                       stallo  1                56250.0    717433.0    12.680   \n",
       "      6                daint   1                56250.0    728286.0    12.920   \n",
       "                       stallo  1                56250.0    728286.0    12.920   \n",
       "      9                daint   1                56250.0    719661.0    12.756   \n",
       "                       stallo  1                56250.0    719661.0    12.756   \n",
       "      18               daint   1                56250.0    707425.0    12.610   \n",
       "                       stallo  1                56250.0    707425.0    12.610   \n",
       "      36               daint   1                56250.0    709314.0    12.555   \n",
       "                       stallo  1                    NaN         NaN       NaN   \n",
       "\n",
       "                                                T_bld   T_sim   VSize_sum  \n",
       "SCALE THREADS_PER_TASK version NUMBER_OF_NODES                             \n",
       "5     3                daint   1                87.47  342.90  13164588.0  \n",
       "                       stallo  1                75.07  219.77  13275964.0  \n",
       "      6                daint   1                62.04  184.57  13214776.0  \n",
       "                       stallo  1                49.87  113.29  13688648.0  \n",
       "      9                daint   1                50.24  125.33  13436996.0  \n",
       "                       stallo  1                47.51   87.01  13517652.0  \n",
       "      18               daint   1                40.48   67.46  13382760.0  \n",
       "                       stallo  1                45.69   48.14  13627256.0  \n",
       "      36               daint   1                33.02   35.78  13696188.0  \n",
       "                       stallo  1                  NaN     NaN         NaN  "
      ]
     },
     "execution_count": 218,
     "metadata": {},
     "output_type": "execute_result"
    }
   ],
   "source": [
    "hpc_stallo = pd.read_csv('results/hpc_benchmark_2_16_1_stallo_strict_spikes.csv')\n",
    "hpc_stallo['version'] = ['stallo']*5\n",
    "hpc_daint = pd.read_csv('results/hpc_benchmark_2_16_1_daint_strict_spikes.csv')\n",
    "hpc_daint['version'] = ['daint']*5\n",
    "\n",
    "hpc_spikes_res = pd.concat([hpc_stallo, hpc_daint])\n",
    "\n",
    "#print(hpc_spikes_res)\n",
    "\n",
    "hpc_spikes_res['T_bld_xn'] = hpc_spikes_res['T_conns_min'] + hpc_spikes_res['T_ini_max']\n",
    "hpc_spikes_res['T_bld_nx'] = hpc_spikes_res['T_conns_max'] + hpc_spikes_res['T_ini_min']\n",
    "\n",
    "hpc_spikes_res['T_bld'] = hpc_spikes_res[['T_bld_xn', 'T_bld_nx']].min(axis=1)\n",
    "\n",
    "print(hpc_spikes_res['T_sim'])\n",
    "\n",
    "hpc_spikes_res = pd.pivot_table(hpc_spikes_res, index=['SCALE', 'THREADS_PER_TASK', 'version', 'NUMBER_OF_NODES'],\n",
    "                                values=['N_spks_sum', 'Rate_sum', 'N_nrns', 'T_bld', 'VSize_sum', 'T_sim'])\n",
    "hpc_spikes_res"
   ]
  },
  {
   "cell_type": "code",
   "execution_count": 219,
   "metadata": {},
   "outputs": [
    {
     "data": {
      "text/plain": [
       "<matplotlib.axes._subplots.AxesSubplot at 0x7fbf4fa72f60>"
      ]
     },
     "execution_count": 219,
     "metadata": {},
     "output_type": "execute_result"
    },
    {
     "data": {
      "image/png": "[encoded data removed]",
      "text/plain": [
       "<matplotlib.figure.Figure at 0x7fbf4fa744e0>"
      ]
     },
     "metadata": {},
     "output_type": "display_data"
    }
   ],
   "source": [
    "hpc_spikes_res['N_spks_sum'].plot(kind='bar', title='local_num_spikes',\n",
    "                                  color = ['r', 'g']*int(len(hpc_spikes_res)/2),\n",
    "                                  figsize=(12,5))"
   ]
  },
  {
   "cell_type": "code",
   "execution_count": null,
   "metadata": {},
   "outputs": [],
   "source": []
  },
  {
   "cell_type": "code",
   "execution_count": null,
   "metadata": {},
   "outputs": [],
   "source": []
  },
  {
   "cell_type": "code",
   "execution_count": 224,
   "metadata": {},
   "outputs": [
    {
     "name": "stdout",
     "output_type": "stream",
     "text": [
      "   NUMBER_OF_NODES  TASKS_PER_NODE  THREADS_PER_TASK  NUM_VPS  SCALE  PLASTIC  \\\n",
      "0                1               1                 3      NaN      5     True   \n",
      "1                1               1                 6      NaN      5     True   \n",
      "2                1               1                 9      NaN      5     True   \n",
      "3                1               1                18      NaN      5     True   \n",
      "4                1               1                36      NaN      5     True   \n",
      "\n",
      "   T_nrns  T_conns_min  T_conns_max  T_ini_min  ...    N_spks_sum  Rate_sum  \\\n",
      "0    0.34        50.45        50.45      37.02  ...        717433    12.680   \n",
      "1    0.54        36.14        36.14      25.90  ...        728286    12.920   \n",
      "2    0.44        28.94        28.94      21.30  ...        719661    12.756   \n",
      "3    0.47        23.75        23.75      16.73  ...        707425    12.610   \n",
      "4    0.69        18.05        18.05      14.97  ...        709314    12.555   \n",
      "\n",
      "   N_nrns  N_conns_sum  d_min  d_max  version  T_bld_xn  T_bld_nx  T_bld  \n",
      "0   56250    316463500    1.5    1.5    daint     87.47     87.47  87.47  \n",
      "1   56250    316463500    1.5    1.5    daint     62.04     62.04  62.04  \n",
      "2   56250    316463500    1.5    1.5    daint     50.24     50.24  50.24  \n",
      "3   56250    316463500    1.5    1.5    daint     40.48     40.48  40.48  \n",
      "4   56250    316463500    1.5    1.5    daint     33.02     33.02  33.02  \n",
      "\n",
      "[5 rows x 24 columns]\n"
     ]
    },
    {
     "data": {
      "text/plain": [
       "array([<matplotlib.axes._subplots.AxesSubplot object at 0x7fbf540e76d8>,\n",
       "       <matplotlib.axes._subplots.AxesSubplot object at 0x7fbf55691358>,\n",
       "       <matplotlib.axes._subplots.AxesSubplot object at 0x7fbf541acb00>,\n",
       "       <matplotlib.axes._subplots.AxesSubplot object at 0x7fbf4f5907b8>,\n",
       "       <matplotlib.axes._subplots.AxesSubplot object at 0x7fbf4f3df588>],\n",
       "      dtype=object)"
      ]
     },
     "execution_count": 224,
     "metadata": {},
     "output_type": "execute_result"
    },
    {
     "data": {
      "image/png": "[encoded data removed]",
      "text/plain": [
       "<matplotlib.figure.Figure at 0x7fbf54d09dd8>"
      ]
     },
     "metadata": {},
     "output_type": "display_data"
    }
   ],
   "source": [
    "print(hpc_daint)\n",
    "\n",
    "hpc_daint['T_bld_xn'] = hpc_daint['T_conns_min'] + hpc_daint['T_ini_max']\n",
    "hpc_daint['T_bld_nx'] = hpc_daint['T_conns_max'] + hpc_daint['T_ini_min']\n",
    "\n",
    "hpc_daint['T_bld'] = hpc_daint[['T_bld_xn', 'T_bld_nx']].min(axis=1)\n",
    "\n",
    "hpc_daint_pres = pd.pivot_table(hpc_daint, index=['THREADS_PER_TASK'],\n",
    "                            values=['T_bld', 'VSize_sum', 'T_sim', 'T_conns_min', 'T_ini_min'])\n",
    "\n",
    "hpc_daint_pres.plot(kind='line', title='', subplots=True, xticks=[3,6,9,18,36],\n",
    "                    style=['-*','-*','-*','-*','-*'], figsize=(10,10))"
   ]
  },
  {
   "cell_type": "code",
   "execution_count": 221,
   "metadata": {},
   "outputs": [],
   "source": [
    "hpc_stallo['T_bld_xn'] = hpc_stallo['T_conns_min'] + hpc_stallo['T_ini_max']\n",
    "hpc_stallo['T_bld_nx'] = hpc_stallo['T_conns_max'] + hpc_stallo['T_ini_min']\n",
    "\n",
    "hpc_stallo['T_bld'] = hpc_stallo[['T_bld_xn', 'T_bld_nx']].min(axis=1)\n",
    "\n",
    "hpc_stallo_pres = pd.pivot_table(hpc_stallo, index=['THREADS_PER_TASK'],\n",
    "                            values=['T_bld', 'VSize_sum', 'T_sim', 'T_conns_min', 'T_ini_min'])"
   ]
  },
  {
   "cell_type": "code",
   "execution_count": 222,
   "metadata": {},
   "outputs": [
    {
     "data": {
      "text/plain": [
       "<matplotlib.legend.Legend at 0x7fbf4f5f6b38>"
      ]
     },
     "execution_count": 222,
     "metadata": {},
     "output_type": "execute_result"
    },
    {
     "name": "stderr",
     "output_type": "stream",
     "text": [
      "/home/stine/anaconda3/lib/python3.6/site-packages/matplotlib/scale.py:111: RuntimeWarning: invalid value encountered in less_equal\n",
      "  out[a <= 0] = -1000\n"
     ]
    },
    {
     "data": {
      "image/png": "[encoded data removed]",
      "text/plain": [
       "<matplotlib.figure.Figure at 0x7fbf4f776320>"
      ]
     },
     "metadata": {},
     "output_type": "display_data"
    }
   ],
   "source": [
    "plt.figure(figsize=(15,8))\n",
    "\n",
    "plt.subplot(231)\n",
    "plt.loglog(hpc_daint['THREADS_PER_TASK'], hpc_daint['T_bld'], '-*', label='daint')\n",
    "plt.loglog(hpc_stallo['THREADS_PER_TASK'], hpc_stallo['T_bld'], '-*',label='stallo')\n",
    "plt.ylabel('T_bld')\n",
    "plt.xlabel('threads')\n",
    "plt.legend()\n",
    "\n",
    "plt.subplot(232)\n",
    "plt.loglog(hpc_daint['THREADS_PER_TASK'], hpc_daint['T_ini_min'], '-*', label='daint')\n",
    "plt.loglog(hpc_stallo['THREADS_PER_TASK'], hpc_stallo['T_ini_min'], '-*',label='stallo')\n",
    "plt.ylabel('T_ini_min')\n",
    "plt.xlabel('threads')\n",
    "plt.legend()\n",
    "\n",
    "plt.subplot(233)\n",
    "plt.loglog(hpc_daint['THREADS_PER_TASK'], hpc_daint['T_conns_min'], '-*', label='daint')\n",
    "plt.loglog(hpc_stallo['THREADS_PER_TASK'], hpc_stallo['T_conns_min'], '-*',label='stallo')\n",
    "plt.ylabel('T_conns_min')\n",
    "plt.xlabel('threads')\n",
    "plt.legend()\n",
    "\n",
    "plt.subplot(234)\n",
    "plt.loglog(hpc_daint['THREADS_PER_TASK'], hpc_daint['T_sim'], '-*', label='daint')\n",
    "plt.loglog(hpc_stallo['THREADS_PER_TASK'], hpc_stallo['T_sim'], '-*',label='stallo')\n",
    "plt.ylabel('T_sim')\n",
    "plt.xlabel('threads')\n",
    "plt.legend()\n",
    "\n",
    "plt.subplot(235)\n",
    "plt.loglog(hpc_daint['THREADS_PER_TASK'], hpc_daint['VSize_sum'], '-*', label='daint')\n",
    "plt.loglog(hpc_stallo['THREADS_PER_TASK'], hpc_stallo['VSize_sum'], '-*',label='stallo')\n",
    "plt.ylabel('mem')\n",
    "plt.xlabel('threads')\n",
    "plt.legend()"
   ]
  },
  {
   "cell_type": "code",
   "execution_count": null,
   "metadata": {},
   "outputs": [],
   "source": []
  },
  {
   "cell_type": "code",
   "execution_count": null,
   "metadata": {},
   "outputs": [],
   "source": []
  },
  {
   "cell_type": "markdown",
   "metadata": {},
   "source": [
    "## Thread analyse"
   ]
  },
  {
   "cell_type": "code",
   "execution_count": 229,
   "metadata": {},
   "outputs": [
    {
     "name": "stdout",
     "output_type": "stream",
     "text": [
      "   NUMBER_OF_NODES  TASKS_PER_NODE  THREADS_PER_TASK  NUM_VPS  SCALE  PLASTIC  \\\n",
      "0                1               1                 1      NaN      5     True   \n",
      "1                1               1                 3      NaN      5     True   \n",
      "2                1               1                18      NaN      5     True   \n",
      "\n",
      "   T_nrns  T_conns_min  T_conns_max  T_ini_min  T_ini_max  T_equ   T_sim  \\\n",
      "0    0.34        84.32        84.32      64.55      64.55   8.50  105.91   \n",
      "1    0.35        50.76        50.76      37.33      37.33  24.28  342.65   \n",
      "2    0.48        22.57        22.57      16.75      16.75   4.36   67.90   \n",
      "\n",
      "   VSize_sum  N_spks_sum  Rate_sum  N_nrns  N_conns_sum  d_min  d_max  \n",
      "0   13697060       98961     1.289   56250    316463500    1.5    1.5  \n",
      "1   13164588      717433    12.680   56250    316463500    1.5    1.5  \n",
      "2   13382760      707425    12.610   56250    316463500    1.5    1.5  \n",
      "0    105.91\n",
      "1    342.65\n",
      "2     67.90\n",
      "Name: T_sim, dtype: float64\n"
     ]
    },
    {
     "data": {
      "text/html": [
       "<div>\n",
       "<style scoped>\n",
       "    .dataframe tbody tr th:only-of-type {\n",
       "        vertical-align: middle;\n",
       "    }\n",
       "\n",
       "    .dataframe tbody tr th {\n",
       "        vertical-align: top;\n",
       "    }\n",
       "\n",
       "    .dataframe thead th {\n",
       "        text-align: right;\n",
       "    }\n",
       "</style>\n",
       "<table border=\"1\" class=\"dataframe\">\n",
       "  <thead>\n",
       "    <tr style=\"text-align: right;\">\n",
       "      <th></th>\n",
       "      <th></th>\n",
       "      <th></th>\n",
       "      <th>N_nrns</th>\n",
       "      <th>N_spks_sum</th>\n",
       "      <th>Rate_sum</th>\n",
       "      <th>T_bld</th>\n",
       "      <th>T_sim</th>\n",
       "      <th>VSize_sum</th>\n",
       "    </tr>\n",
       "    <tr>\n",
       "      <th>SCALE</th>\n",
       "      <th>THREADS_PER_TASK</th>\n",
       "      <th>NUMBER_OF_NODES</th>\n",
       "      <th></th>\n",
       "      <th></th>\n",
       "      <th></th>\n",
       "      <th></th>\n",
       "      <th></th>\n",
       "      <th></th>\n",
       "    </tr>\n",
       "  </thead>\n",
       "  <tbody>\n",
       "    <tr>\n",
       "      <th rowspan=\"3\" valign=\"top\">5</th>\n",
       "      <th>1</th>\n",
       "      <th>1</th>\n",
       "      <td>56250</td>\n",
       "      <td>98961</td>\n",
       "      <td>1.289</td>\n",
       "      <td>148.87</td>\n",
       "      <td>105.91</td>\n",
       "      <td>13697060</td>\n",
       "    </tr>\n",
       "    <tr>\n",
       "      <th>3</th>\n",
       "      <th>1</th>\n",
       "      <td>56250</td>\n",
       "      <td>717433</td>\n",
       "      <td>12.680</td>\n",
       "      <td>88.09</td>\n",
       "      <td>342.65</td>\n",
       "      <td>13164588</td>\n",
       "    </tr>\n",
       "    <tr>\n",
       "      <th>18</th>\n",
       "      <th>1</th>\n",
       "      <td>56250</td>\n",
       "      <td>707425</td>\n",
       "      <td>12.610</td>\n",
       "      <td>39.32</td>\n",
       "      <td>67.90</td>\n",
       "      <td>13382760</td>\n",
       "    </tr>\n",
       "  </tbody>\n",
       "</table>\n",
       "</div>"
      ],
      "text/plain": [
       "                                        N_nrns  N_spks_sum  Rate_sum   T_bld  \\\n",
       "SCALE THREADS_PER_TASK NUMBER_OF_NODES                                         \n",
       "5     1                1                 56250       98961     1.289  148.87   \n",
       "      3                1                 56250      717433    12.680   88.09   \n",
       "      18               1                 56250      707425    12.610   39.32   \n",
       "\n",
       "                                         T_sim  VSize_sum  \n",
       "SCALE THREADS_PER_TASK NUMBER_OF_NODES                     \n",
       "5     1                1                105.91   13697060  \n",
       "      3                1                342.65   13164588  \n",
       "      18               1                 67.90   13382760  "
      ]
     },
     "execution_count": 229,
     "metadata": {},
     "output_type": "execute_result"
    }
   ],
   "source": [
    "hpc_spikes_res = pd.read_csv('results/hpc_benchmark_2_16_1_daint_strict_fig4_few_threads.csv')\n",
    "print(hpc_spikes_res)\n",
    "\n",
    "hpc_spikes_res['T_bld_xn'] = hpc_spikes_res['T_conns_min'] + hpc_spikes_res['T_ini_max']\n",
    "hpc_spikes_res['T_bld_nx'] = hpc_spikes_res['T_conns_max'] + hpc_spikes_res['T_ini_min']\n",
    "\n",
    "hpc_spikes_res['T_bld'] = hpc_spikes_res[['T_bld_xn', 'T_bld_nx']].min(axis=1)\n",
    "\n",
    "print(hpc_spikes_res['T_sim'])\n",
    "\n",
    "hpc_spikes_res = pd.pivot_table(hpc_spikes_res, index=['SCALE', 'THREADS_PER_TASK', 'NUMBER_OF_NODES'],\n",
    "                                values=['N_spks_sum', 'Rate_sum', 'N_nrns', 'T_bld', 'VSize_sum', 'T_sim'])\n",
    "hpc_spikes_res"
   ]
  },
  {
   "cell_type": "markdown",
   "metadata": {},
   "source": []
  },
  {
   "cell_type": "markdown",
   "metadata": {},
   "source": [
    "## NEST 2.16.1 vs NEST 2.14 vs 5G Spike data"
   ]
  },
  {
   "cell_type": "code",
   "execution_count": 239,
   "metadata": {},
   "outputs": [
    {
     "data": {
      "text/html": [
       "<div>\n",
       "<style scoped>\n",
       "    .dataframe tbody tr th:only-of-type {\n",
       "        vertical-align: middle;\n",
       "    }\n",
       "\n",
       "    .dataframe tbody tr th {\n",
       "        vertical-align: top;\n",
       "    }\n",
       "\n",
       "    .dataframe thead th {\n",
       "        text-align: right;\n",
       "    }\n",
       "</style>\n",
       "<table border=\"1\" class=\"dataframe\">\n",
       "  <thead>\n",
       "    <tr style=\"text-align: right;\">\n",
       "      <th></th>\n",
       "      <th></th>\n",
       "      <th></th>\n",
       "      <th></th>\n",
       "      <th>N_nrns</th>\n",
       "      <th>N_spks_sum</th>\n",
       "      <th>Rate_sum</th>\n",
       "      <th>T_bld</th>\n",
       "      <th>T_sim</th>\n",
       "      <th>VSize_sum</th>\n",
       "    </tr>\n",
       "    <tr>\n",
       "      <th>SCALE</th>\n",
       "      <th>THREADS_PER_TASK</th>\n",
       "      <th>version</th>\n",
       "      <th>NUMBER_OF_NODES</th>\n",
       "      <th></th>\n",
       "      <th></th>\n",
       "      <th></th>\n",
       "      <th></th>\n",
       "      <th></th>\n",
       "      <th></th>\n",
       "    </tr>\n",
       "  </thead>\n",
       "  <tbody>\n",
       "    <tr>\n",
       "      <th rowspan=\"6\" valign=\"top\">5</th>\n",
       "      <th rowspan=\"3\" valign=\"top\">1</th>\n",
       "      <th>2.14</th>\n",
       "      <th>1</th>\n",
       "      <td>56250</td>\n",
       "      <td>717019</td>\n",
       "      <td>786.635</td>\n",
       "      <td>113.02</td>\n",
       "      <td>620.40</td>\n",
       "      <td>11539452</td>\n",
       "    </tr>\n",
       "    <tr>\n",
       "      <th>2.16.1</th>\n",
       "      <th>1</th>\n",
       "      <td>56250</td>\n",
       "      <td>98961</td>\n",
       "      <td>109.696</td>\n",
       "      <td>150.98</td>\n",
       "      <td>104.92</td>\n",
       "      <td>16347172</td>\n",
       "    </tr>\n",
       "    <tr>\n",
       "      <th>5g</th>\n",
       "      <th>1</th>\n",
       "      <td>56250</td>\n",
       "      <td>98961</td>\n",
       "      <td>109.696</td>\n",
       "      <td>128.58</td>\n",
       "      <td>128.10</td>\n",
       "      <td>19158064</td>\n",
       "    </tr>\n",
       "    <tr>\n",
       "      <th rowspan=\"3\" valign=\"top\">3</th>\n",
       "      <th>2.14</th>\n",
       "      <th>1</th>\n",
       "      <td>56250</td>\n",
       "      <td>731453</td>\n",
       "      <td>803.395</td>\n",
       "      <td>62.02</td>\n",
       "      <td>319.85</td>\n",
       "      <td>12344324</td>\n",
       "    </tr>\n",
       "    <tr>\n",
       "      <th>2.16.1</th>\n",
       "      <th>1</th>\n",
       "      <td>56250</td>\n",
       "      <td>717433</td>\n",
       "      <td>788.055</td>\n",
       "      <td>90.78</td>\n",
       "      <td>333.87</td>\n",
       "      <td>15671340</td>\n",
       "    </tr>\n",
       "    <tr>\n",
       "      <th>5g</th>\n",
       "      <th>1</th>\n",
       "      <td>56250</td>\n",
       "      <td>731453</td>\n",
       "      <td>803.801</td>\n",
       "      <td>72.39</td>\n",
       "      <td>425.21</td>\n",
       "      <td>20773944</td>\n",
       "    </tr>\n",
       "  </tbody>\n",
       "</table>\n",
       "</div>"
      ],
      "text/plain": [
       "                                                N_nrns  N_spks_sum  Rate_sum  \\\n",
       "SCALE THREADS_PER_TASK version NUMBER_OF_NODES                                 \n",
       "5     1                2.14    1                 56250      717019   786.635   \n",
       "                       2.16.1  1                 56250       98961   109.696   \n",
       "                       5g      1                 56250       98961   109.696   \n",
       "      3                2.14    1                 56250      731453   803.395   \n",
       "                       2.16.1  1                 56250      717433   788.055   \n",
       "                       5g      1                 56250      731453   803.801   \n",
       "\n",
       "                                                 T_bld   T_sim  VSize_sum  \n",
       "SCALE THREADS_PER_TASK version NUMBER_OF_NODES                             \n",
       "5     1                2.14    1                113.02  620.40   11539452  \n",
       "                       2.16.1  1                150.98  104.92   16347172  \n",
       "                       5g      1                128.58  128.10   19158064  \n",
       "      3                2.14    1                 62.02  319.85   12344324  \n",
       "                       2.16.1  1                 90.78  333.87   15671340  \n",
       "                       5g      1                 72.39  425.21   20773944  "
      ]
     },
     "execution_count": 239,
     "metadata": {},
     "output_type": "execute_result"
    }
   ],
   "source": [
    "hpc_spikes_2_16_1_res = pd.read_csv('results/hpc_benchmark_2_16_1_daint_strict_spikes.csv')\n",
    "hpc_spikes_2_16_1_res['version'] = ['2.16.1']*2\n",
    "hpc_spikes_2_14_res = pd.read_csv('results/hpc_benchmark_2_14_daint_strict_spikes.csv')\n",
    "#print(hpc_spikes_2_14_res)\n",
    "hpc_spikes_2_14_res['version'] = ['2.14']*2\n",
    "hpc_spikes_5g_res = pd.read_csv('results/hpc_benchmark_f104c6d_daint_strict_spikes.csv')\n",
    "hpc_spikes_5g_res['version'] = ['5g']*2\n",
    "\n",
    "hpc_spikes_res = pd.concat([hpc_spikes_2_16_1_res, hpc_spikes_2_14_res, hpc_spikes_5g_res])\n",
    "#print(hpc_spikes_res)\n",
    "\n",
    "hpc_spikes_res['T_bld_xn'] = hpc_spikes_res['T_conns_min'] + hpc_spikes_res['T_ini_max']\n",
    "hpc_spikes_res['T_bld_nx'] = hpc_spikes_res['T_conns_max'] + hpc_spikes_res['T_ini_min']\n",
    "\n",
    "hpc_spikes_res['T_bld'] = hpc_spikes_res[['T_bld_xn', 'T_bld_nx']].min(axis=1)\n",
    "\n",
    "#print(hpc_spikes_res['T_sim'])\n",
    "\n",
    "hpc_spikes_res = pd.pivot_table(hpc_spikes_res, index=['SCALE', 'THREADS_PER_TASK', 'version', 'NUMBER_OF_NODES'],\n",
    "                                values=['N_spks_sum', 'Rate_sum', 'N_nrns', 'T_bld', 'VSize_sum', 'T_sim'])\n",
    "hpc_spikes_res"
   ]
  },
  {
   "cell_type": "markdown",
   "metadata": {},
   "source": [
    "**Spike data:**\n",
    "\n",
    "| thread | 2.14 | 2.16.1 | 5g |\n",
    "|--------|------|--------|----|\n",
    "|    1   |786635| 109696 |109696|\n",
    "|    3   |803395| 788055 |803801|"
   ]
  },
  {
   "cell_type": "code",
   "execution_count": 3,
   "metadata": {},
   "outputs": [
    {
     "data": {
      "text/html": [
       "<div>\n",
       "<style scoped>\n",
       "    .dataframe tbody tr th:only-of-type {\n",
       "        vertical-align: middle;\n",
       "    }\n",
       "\n",
       "    .dataframe tbody tr th {\n",
       "        vertical-align: top;\n",
       "    }\n",
       "\n",
       "    .dataframe thead th {\n",
       "        text-align: right;\n",
       "    }\n",
       "</style>\n",
       "<table border=\"1\" class=\"dataframe\">\n",
       "  <thead>\n",
       "    <tr style=\"text-align: right;\">\n",
       "      <th></th>\n",
       "      <th></th>\n",
       "      <th></th>\n",
       "      <th></th>\n",
       "    </tr>\n",
       "    <tr>\n",
       "      <th>SCALE</th>\n",
       "      <th>THREADS_PER_TASK</th>\n",
       "      <th>version</th>\n",
       "      <th>NUMBER_OF_NODES</th>\n",
       "    </tr>\n",
       "  </thead>\n",
       "  <tbody>\n",
       "    <tr>\n",
       "      <th rowspan=\"6\" valign=\"top\">5</th>\n",
       "      <th rowspan=\"3\" valign=\"top\">1</th>\n",
       "      <th>2.14</th>\n",
       "      <th>1</th>\n",
       "    </tr>\n",
       "    <tr>\n",
       "      <th>2.16.1</th>\n",
       "      <th>1</th>\n",
       "    </tr>\n",
       "    <tr>\n",
       "      <th>5g</th>\n",
       "      <th>1</th>\n",
       "    </tr>\n",
       "    <tr>\n",
       "      <th rowspan=\"3\" valign=\"top\">3</th>\n",
       "      <th>2.14</th>\n",
       "      <th>1</th>\n",
       "    </tr>\n",
       "    <tr>\n",
       "      <th>2.16.1</th>\n",
       "      <th>1</th>\n",
       "    </tr>\n",
       "    <tr>\n",
       "      <th>5g</th>\n",
       "      <th>1</th>\n",
       "    </tr>\n",
       "  </tbody>\n",
       "</table>\n",
       "</div>"
      ],
      "text/plain": [
       "Empty DataFrame\n",
       "Columns: []\n",
       "Index: [(5, 1, 2.14, 1), (5, 1, 2.16.1, 1), (5, 1, 5g, 1), (5, 3, 2.14, 1), (5, 3, 2.16.1, 1), (5, 3, 5g, 1)]"
      ]
     },
     "execution_count": 3,
     "metadata": {},
     "output_type": "execute_result"
    }
   ],
   "source": [
    "hpc_spikes_2_16_1_seed_res = pd.read_csv('results/hpc_benchmark_2_16_1_daint_strict_spikes_seed.csv')\n",
    "hpc_spikes_2_16_1_seed_res['version'] = ['2.16.1']*2\n",
    "hpc_spikes_2_14_seed_res = pd.read_csv('results/hpc_benchmark_2_14_daint_strict_spikes_seed.csv')\n",
    "#print(hpc_spikes_2_14_seed_res)\n",
    "hpc_spikes_2_14_seed_res['version'] = ['2.14']*2\n",
    "hpc_spikes_5g_seed_res = pd.read_csv('results/hpc_benchmark_f104c6d_daint_strict_spikes_seed.csv')\n",
    "hpc_spikes_5g_seed_res['version'] = ['5g']*2\n",
    "\n",
    "hpc_spikes_seed_res = pd.concat([hpc_spikes_2_16_1_seed_res, hpc_spikes_2_14_seed_res, hpc_spikes_5g_seed_res])\n",
    "#print(hpc_spikes_seed_res)\n",
    "\n",
    "hpc_spikes_seed_res['T_bld_xn'] = hpc_spikes_seed_res['T_conns_min'] + hpc_spikes_seed_res['T_ini_max']\n",
    "hpc_spikes_seed_res['T_bld_nx'] = hpc_spikes_seed_res['T_conns_max'] + hpc_spikes_seed_res['T_ini_min']\n",
    "\n",
    "hpc_spikes_seed_res['T_bld'] = hpc_spikes_seed_res[['T_bld_xn', 'T_bld_nx']].min(axis=1)\n",
    "\n",
    "#print(hpc_spikes_res['T_sim'])\n",
    "\n",
    "hpc_spikes_seed_res = pd.pivot_table(hpc_spikes_seed_res, index=['SCALE', 'THREADS_PER_TASK', 'version', 'NUMBER_OF_NODES'],\n",
    "                                values=['N_spks_sum', 'Rate_sum', 'N_nrns', 'T_bld', 'VSize_sum', 'T_sim'])\n",
    "hpc_spikes_seed_res"
   ]
  },
  {
   "cell_type": "code",
   "execution_count": null,
   "metadata": {},
   "outputs": [],
   "source": []
  },
  {
   "cell_type": "code",
   "execution_count": null,
   "metadata": {},
   "outputs": [],
   "source": []
  },
  {
   "cell_type": "code",
   "execution_count": 5,
   "metadata": {},
   "outputs": [
    {
     "data": {
      "text/plain": [
       "[<matplotlib.lines.Line2D at 0x7f616c7535f8>]"
      ]
     },
     "execution_count": 5,
     "metadata": {},
     "output_type": "execute_result"
    },
    {
     "data": {
      "image/png": "[encoded data removed]",
      "text/plain": [
       "<matplotlib.figure.Figure at 0x7f6174880240>"
      ]
     },
     "metadata": {},
     "output_type": "display_data"
    }
   ],
   "source": [
    "spikes_2_16_1 = pd.read_csv('spike_data/all_spikes_2161_1.gdf')\n",
    "spikes_2_16_1\n",
    "\n",
    "with open('spike_data/all_spikes_2161_1.gdf') as f:\n",
    "    data = f.read()\n",
    "\n",
    "data = data.split('\\n')\n",
    "\n",
    "gid = [row.split('\\t')[0] for row in data]\n",
    "time = [row.split('\\t')[1] for row in data]\n",
    "\n",
    "plt.plot(time[:100], gid[:100], 'o')\n",
    "\n",
    "#fig = plt.figure()\n",
    "\n",
    "#plt.scatter(time, gid)\n",
    "#plt.show()\n"
   ]
  },
  {
   "cell_type": "code",
   "execution_count": null,
   "metadata": {},
   "outputs": [],
   "source": []
  },
  {
   "cell_type": "code",
   "execution_count": null,
   "metadata": {},
   "outputs": [],
   "source": []
  },
  {
   "cell_type": "markdown",
   "metadata": {},
   "source": [
    "# HPC Benchmark - split into many `Connect` calls\n",
    "\n",
    "We time each EE, EI, IE and II connection group, and add all these times to find total `Connect` time. Here we can also look at Connection/Second."
   ]
  },
  {
   "cell_type": "code",
   "execution_count": null,
   "metadata": {},
   "outputs": [],
   "source": [
    "hpc_split_res = pd.concat([pd.read_csv(bench)\n",
    "                           for bench in glob.glob(hpc_split_path)])"
   ]
  },
  {
   "cell_type": "code",
   "execution_count": null,
   "metadata": {},
   "outputs": [],
   "source": [
    "print(hpc_split_res)"
   ]
  },
  {
   "cell_type": "markdown",
   "metadata": {},
   "source": [
    "**Find total connect time:**"
   ]
  },
  {
   "cell_type": "code",
   "execution_count": null,
   "metadata": {},
   "outputs": [],
   "source": [
    "hpc_split_res['T_bld'] = (hpc_split_res['EE_inner_conn_time'] + hpc_split_res['EI_inner_conn_time']\n",
    "                          + hpc_split_res['IE_inner_conn_time'] + hpc_split_res['II_inner_conn_time'])"
   ]
  },
  {
   "cell_type": "code",
   "execution_count": null,
   "metadata": {},
   "outputs": [],
   "source": [
    "hpc_split_pres = pd.pivot_table(hpc_split_res, index=['SCALE','THREADS_PER_TASK', 'NUMBER_OF_NODES'],\n",
    "                                values=['T_bld', 'VSize_sum', 'N_conns_sum', 'EE_conns_per_sec'])"
   ]
  },
  {
   "cell_type": "code",
   "execution_count": null,
   "metadata": {},
   "outputs": [],
   "source": [
    "hpc_split_pres"
   ]
  },
  {
   "cell_type": "code",
   "execution_count": null,
   "metadata": {},
   "outputs": [],
   "source": [
    "hpc_split_pres['T_bld'].plot(kind='bar', title='Connect time',\n",
    "                             color = ['r', 'g', 'b', 'm']*int(len(hpc_split_pres)/4), figsize=(12,5))"
   ]
  },
  {
   "cell_type": "code",
   "execution_count": null,
   "metadata": {},
   "outputs": [],
   "source": [
    "hpc_split_pres['VSize_sum'].plot(kind='bar', title='VSize_sum',\n",
    "                                 color = ['r', 'g', 'b', 'm']*int(len(hpc_split_pres)/4), figsize=(12,5))"
   ]
  },
  {
   "cell_type": "code",
   "execution_count": null,
   "metadata": {},
   "outputs": [],
   "source": []
  },
  {
   "cell_type": "markdown",
   "metadata": {},
   "source": [
    "## HPC split - no connect per sec\n",
    "\n",
    "Here, we have a setup closer to the normal HPC Benchmark, we start timing before first `Connect` call and stop timing when we have done our last `Connect`. The time here is thus total time for *all* EE, EI, IE, II `Connect` groups. It is not possible here to find Connect/second."
   ]
  },
  {
   "cell_type": "code",
   "execution_count": null,
   "metadata": {},
   "outputs": [],
   "source": [
    "hpc_split_new_res = pd.concat([pd.read_csv(bench)\n",
    "                               for bench in glob.glob(hpc_split_new_path)])"
   ]
  },
  {
   "cell_type": "markdown",
   "metadata": {},
   "source": [
    "**Connect time:**"
   ]
  },
  {
   "cell_type": "code",
   "execution_count": null,
   "metadata": {},
   "outputs": [],
   "source": [
    "hpc_split_new_res['T_bld_xn'] = hpc_split_new_res['T_conns_min'] + hpc_split_new_res['T_ini_max']\n",
    "hpc_split_new_res['T_bld_nx'] = hpc_split_new_res['T_conns_max'] + hpc_split_new_res['T_ini_min']\n",
    "\n",
    "hpc_split_new_res['T_bld'] = hpc_split_new_res[['T_bld_xn', 'T_bld_nx']].min(axis=1)"
   ]
  },
  {
   "cell_type": "code",
   "execution_count": null,
   "metadata": {},
   "outputs": [],
   "source": [
    "hpc_split_new_pres = pd.pivot_table(hpc_split_new_res, index=['SCALE','THREADS_PER_TASK', 'NUMBER_OF_NODES'],\n",
    "                                    values=['T_bld', 'VSize_sum', 'N_nrns', 'N_conns_sum'])\n",
    "\n",
    "hpc_split_new_pres"
   ]
  },
  {
   "cell_type": "code",
   "execution_count": null,
   "metadata": {},
   "outputs": [],
   "source": [
    "hpc_split_new_pres['T_bld'].plot(kind='bar', title='Build times',\n",
    "                                 color = ['r', 'g', 'b', 'm']*int(len(hpc_split_new_pres)/4), figsize=(12,5))"
   ]
  },
  {
   "cell_type": "code",
   "execution_count": null,
   "metadata": {},
   "outputs": [],
   "source": []
  },
  {
   "cell_type": "code",
   "execution_count": null,
   "metadata": {},
   "outputs": [],
   "source": []
  },
  {
   "cell_type": "code",
   "execution_count": null,
   "metadata": {},
   "outputs": [],
   "source": []
  },
  {
   "cell_type": "markdown",
   "metadata": {},
   "source": [
    "# HPC Benchmark - only `one_to_one` calls\n",
    "\n",
    "I think `one_to_one` is set up with too few connections, and so the result is not really that good.\n",
    "It is not possible to compare connection times between the different rules, because we have different number of connections, but it is possible to compare connection/second."
   ]
  },
  {
   "cell_type": "code",
   "execution_count": null,
   "metadata": {},
   "outputs": [],
   "source": [
    "hpc_one_res = pd.concat([pd.read_csv(bench)\n",
    "                         for bench in glob.glob(hpc_one_path)])"
   ]
  },
  {
   "cell_type": "code",
   "execution_count": null,
   "metadata": {},
   "outputs": [],
   "source": [
    "print(hpc_one_res)"
   ]
  },
  {
   "cell_type": "code",
   "execution_count": null,
   "metadata": {},
   "outputs": [],
   "source": [
    "hpc_one_res['T_bld'] = hpc_one_res['EE_inner_conn_time'] + hpc_one_res['EI_inner_conn_time'] + hpc_one_res['IE_inner_conn_time'] + hpc_one_res['II_inner_conn_time']"
   ]
  },
  {
   "cell_type": "code",
   "execution_count": null,
   "metadata": {},
   "outputs": [],
   "source": [
    "hpc_one_pres = pd.pivot_table(hpc_one_res, index=['SCALE','THREADS_PER_TASK', 'NUMBER_OF_NODES'],\n",
    "                              values=['T_bld', 'VSize_sum', 'N_conns_sum', 'EE_conns_per_sec'])\n",
    "hpc_one_pres"
   ]
  },
  {
   "cell_type": "code",
   "execution_count": null,
   "metadata": {},
   "outputs": [],
   "source": [
    "hpc_one_pres['T_bld'].plot(kind='bar', title='Build times',\n",
    "                           color = ['r', 'g', 'b', 'm']*int(len(hpc_split_pres)/4), figsize=(12,5))"
   ]
  },
  {
   "cell_type": "code",
   "execution_count": null,
   "metadata": {},
   "outputs": [],
   "source": [
    "hpc_one_pres['EE_conns_per_sec'].plot(kind='bar', title='EE conns per sec',\n",
    "                                      color = ['r', 'g', 'b']*int(len(hpc_split_pres)/3), figsize=(12,5))"
   ]
  },
  {
   "cell_type": "code",
   "execution_count": null,
   "metadata": {},
   "outputs": [],
   "source": []
  },
  {
   "cell_type": "markdown",
   "metadata": {},
   "source": [
    "# HBC Benchmark - only `fixed_indegree` calls"
   ]
  },
  {
   "cell_type": "code",
   "execution_count": null,
   "metadata": {},
   "outputs": [],
   "source": [
    "hpc_in_res = pd.concat([pd.read_csv(bench)\n",
    "                        for bench in glob.glob(hpc_in_path)])"
   ]
  },
  {
   "cell_type": "code",
   "execution_count": null,
   "metadata": {},
   "outputs": [],
   "source": [
    "print(hpc_in_res)"
   ]
  },
  {
   "cell_type": "code",
   "execution_count": null,
   "metadata": {},
   "outputs": [],
   "source": [
    "hpc_in_res['T_bld'] = hpc_in_res['EE_inner_conn_time'] + hpc_in_res['EI_inner_conn_time'] + hpc_in_res['IE_inner_conn_time'] + hpc_in_res['II_inner_conn_time']"
   ]
  },
  {
   "cell_type": "code",
   "execution_count": null,
   "metadata": {},
   "outputs": [],
   "source": [
    "hpc_in_pres = pd.pivot_table(hpc_in_res, index=['SCALE','THREADS_PER_TASK', 'NUMBER_OF_NODES'],\n",
    "                             values=['T_bld', 'VSize_sum', 'N_conns_sum', 'EE_conns_per_sec'])\n",
    "hpc_in_pres"
   ]
  },
  {
   "cell_type": "code",
   "execution_count": null,
   "metadata": {},
   "outputs": [],
   "source": [
    "hpc_in_pres['T_bld'].plot(kind='bar', title='Build times',\n",
    "                          color = ['r', 'g', 'b', 'm']*int(len(hpc_split_pres)/4), figsize=(12,5))"
   ]
  },
  {
   "cell_type": "code",
   "execution_count": null,
   "metadata": {},
   "outputs": [],
   "source": [
    "hpc_in_pres['EE_conns_per_sec'].plot(kind='bar', title='EE conns per sec',\n",
    "                                     color = ['r', 'g', 'b', 'm']*int(len(hpc_split_pres)/4), figsize=(12,5))"
   ]
  },
  {
   "cell_type": "code",
   "execution_count": null,
   "metadata": {},
   "outputs": [],
   "source": []
  },
  {
   "cell_type": "markdown",
   "metadata": {},
   "source": [
    "### Connections per second for both `one_to_one` and `fixed_indegree`, ex - ex connections:"
   ]
  },
  {
   "cell_type": "code",
   "execution_count": null,
   "metadata": {},
   "outputs": [],
   "source": [
    "hpc_one_in_res = pd.concat([hpc_one_res, hpc_in_res])\n",
    "hpc_one_in_pres = pd.pivot_table(hpc_one_in_res, index=['RULE','SCALE','THREADS_PER_TASK', 'NUMBER_OF_NODES'],\n",
    "                                 values=['EE_conns_per_sec'])\n",
    "hpc_one_in_pres"
   ]
  },
  {
   "cell_type": "code",
   "execution_count": null,
   "metadata": {},
   "outputs": [],
   "source": [
    "hpc_one_in_pres['EE_conns_per_sec'].plot(kind='bar', title='EE conns per sec',\n",
    "                                         color = ['r', 'g', 'b']*int(len(hpc_split_pres)/3), figsize=(12,5))"
   ]
  },
  {
   "cell_type": "code",
   "execution_count": null,
   "metadata": {},
   "outputs": [],
   "source": []
  },
  {
   "cell_type": "code",
   "execution_count": null,
   "metadata": {},
   "outputs": [],
   "source": []
  },
  {
   "cell_type": "markdown",
   "metadata": {},
   "source": [
    "# Connections/Second for all `Connect` rules for thread = 4\n",
    "\n",
    "We had asked for too little time for `fixed_indegree`, `fixed_total_number`, `symmetric_pairwise_bernoulli` and I think `all_to_all`, which results in the NaN values below. Piz Daint is down until tomorrow evening (13th of December), so can't allocate more time until then."
   ]
  },
  {
   "cell_type": "code",
   "execution_count": null,
   "metadata": {},
   "outputs": [],
   "source": [
    "path_list = [path_string.replace('*', '4') for path_string in\n",
    "             [hpc_one_path, hpc_all_path, hpc_in_path, hpc_out_path,\n",
    "              hpc_tot_path, hpc_bern_path, hpc_bern_sym_path]]\n",
    "\n",
    "connSec_res = pd.concat([pd.read_csv(bench)\n",
    "                         for bench in path_list])\n"
   ]
  },
  {
   "cell_type": "code",
   "execution_count": null,
   "metadata": {},
   "outputs": [],
   "source": [
    "print(connSec_res)"
   ]
  },
  {
   "cell_type": "code",
   "execution_count": null,
   "metadata": {},
   "outputs": [],
   "source": [
    "connSec_res['T_bld'] = (connSec_res['EE_inner_conn_time'] + connSec_res['EI_inner_conn_time']\n",
    "                        + connSec_res['IE_inner_conn_time'] + connSec_res['II_inner_conn_time'])"
   ]
  },
  {
   "cell_type": "code",
   "execution_count": null,
   "metadata": {},
   "outputs": [],
   "source": [
    "connSec_pres = pd.pivot_table(connSec_res, index=['RULE', 'SCALE', 'NUMBER_OF_NODES'],\n",
    "                              values=['T_bld', 'VSize_sum', 'N_conns_sum', 'EE_conns_per_sec', 'EI_conns_per_sec'])\n",
    "connSec_pres"
   ]
  },
  {
   "cell_type": "code",
   "execution_count": null,
   "metadata": {},
   "outputs": [],
   "source": [
    "connSec_pres['EE_conns_per_sec'].plot(kind='bar', title='EE conns per sec',\n",
    "                                      color = ['r', 'g', 'b', 'm', 'y']*int(len(connSec_pres)/5), figsize=(12,5))"
   ]
  },
  {
   "cell_type": "code",
   "execution_count": null,
   "metadata": {},
   "outputs": [],
   "source": [
    "connSec_pres['EI_conns_per_sec'].plot(kind='bar', title='EI conns per sec',\n",
    "                                      color = ['r', 'g', 'b', 'm', 'y']*int(len(connSec_pres)/5), figsize=(12,5))"
   ]
  },
  {
   "cell_type": "code",
   "execution_count": null,
   "metadata": {},
   "outputs": [],
   "source": [
    "connSec_pres['T_bld'].plot(kind='bar', title='T_bld',\n",
    "                             color = ['r', 'g', 'b', 'm', 'y']*int(len(connSec_pres)/5), figsize=(12,5))"
   ]
  },
  {
   "cell_type": "code",
   "execution_count": null,
   "metadata": {},
   "outputs": [],
   "source": [
    "connSec_pres['VSize_sum'].plot(kind='bar', title='VSize_sum',\n",
    "                               color = ['r', 'g', 'b', 'm', 'y']*int(len(connSec_pres)/5), figsize=(12,5))"
   ]
  },
  {
   "cell_type": "markdown",
   "metadata": {},
   "source": [
    "# REALISTIC MODELS"
   ]
  },
  {
   "cell_type": "markdown",
   "metadata": {},
   "source": [
    "# Multi-Area-Model\n",
    "Currently only have results for 4, 8, 12 threads"
   ]
  },
  {
   "cell_type": "code",
   "execution_count": 53,
   "metadata": {},
   "outputs": [],
   "source": [
    "mam_res = pd.concat([pd.read_csv(bench)\n",
    "                     for bench in glob.glob(mam_path)])"
   ]
  },
  {
   "cell_type": "code",
   "execution_count": 54,
   "metadata": {},
   "outputs": [
    {
     "name": "stdout",
     "output_type": "stream",
     "text": [
      "   NUMBER_OF_NODES  TASKS_PER_NODE  NUM_VPS  THREADS_PER_TASK   SCALE  \\\n",
      "0                1               6       24                 4  0.0625   \n",
      "1                2               6       48                 4  0.1250   \n",
      "2                4               6       96                 4  0.2500   \n",
      "3                8               6      192                 4  0.5000   \n",
      "4               16               6      384                 4  1.0000   \n",
      "0                1               3       24                 8  0.0625   \n",
      "1                2               3       48                 8  0.1250   \n",
      "2                4               3       96                 8  0.2500   \n",
      "3                8               3      192                 8  0.5000   \n",
      "4               16               3      384                 8  1.0000   \n",
      "0                1               2       24                12  0.0625   \n",
      "1                2               2       48                12  0.1250   \n",
      "2                4               2       96                12  0.2500   \n",
      "3                8               2      192                12  0.5000   \n",
      "4               16               2      384                12  1.0000   \n",
      "\n",
      "   T_network_local  T_network_global_avg  T_create_avg  T_connect_avg  \\\n",
      "0       209.881846             52.392346    201.366690       8.303144   \n",
      "1       213.820541             92.820563    200.651788      14.137301   \n",
      "2       226.556193            174.012220    202.045007      25.409213   \n",
      "3       255.976112            335.140368    209.872281      48.192471   \n",
      "4       310.328201            653.859894    224.625241      90.925531   \n",
      "0       766.463350             53.707859    756.948416       9.558792   \n",
      "1       788.441007             94.292187    772.005087      16.970994   \n",
      "2       809.147477            177.943099    779.136454      30.562368   \n",
      "3       816.773782            341.259324    760.190867      57.141467   \n",
      "4       888.758170            663.372940    782.402889     107.590100   \n",
      "0      1599.296231             53.066108   1588.682361      10.672376   \n",
      "1      1608.829818             94.604434   1590.421602      17.811317   \n",
      "2      1686.007867            176.390870   1653.883490      32.847020   \n",
      "3      1804.898080            336.253770   1744.047591      61.521174   \n",
      "4      1759.206247            647.876698   1645.592982     114.698663   \n",
      "\n",
      "        T_sim   VSize_sum   N_nrns  N_conns_sum  \n",
      "0   38.333720    29724120   258258     94756223  \n",
      "1   81.527474    70496096   516391    378005043  \n",
      "2  175.782664   185137768  1032643   1509968177  \n",
      "3  361.339195   548592472  2065151   6035755838  \n",
      "4   69.757693  1781781752  4130180  24134776576  \n",
      "0  154.412083    26854488   258258     94756223  \n",
      "1   96.301389    64343736   516391    378005043  \n",
      "2  199.599670   174597844  1032643   1509968177  \n",
      "3  363.146082   514205756  2065151   6035755838  \n",
      "4   97.959244  1532650104  4130180  24134776576  \n",
      "0   40.574558    25748196   258258     94756223  \n",
      "1   94.150298    61441836   516391    378005043  \n",
      "2  175.670447   167763380  1032643   1509968177  \n",
      "3  351.531527   474101912  2065151   6035755838  \n",
      "4  110.481752  1486488184  4130180  24134776576  \n"
     ]
    }
   ],
   "source": [
    "print(mam_res)"
   ]
  },
  {
   "cell_type": "code",
   "execution_count": 55,
   "metadata": {},
   "outputs": [],
   "source": [
    "mam_pres = pd.pivot_table(mam_res, index=['SCALE','THREADS_PER_TASK', 'NUMBER_OF_NODES'],\n",
    "                          values=['T_connect_avg', 'VSize_sum', 'N_conns_sum'])"
   ]
  },
  {
   "cell_type": "code",
   "execution_count": 56,
   "metadata": {},
   "outputs": [
    {
     "data": {
      "text/html": [
       "<div>\n",
       "<style scoped>\n",
       "    .dataframe tbody tr th:only-of-type {\n",
       "        vertical-align: middle;\n",
       "    }\n",
       "\n",
       "    .dataframe tbody tr th {\n",
       "        vertical-align: top;\n",
       "    }\n",
       "\n",
       "    .dataframe thead th {\n",
       "        text-align: right;\n",
       "    }\n",
       "</style>\n",
       "<table border=\"1\" class=\"dataframe\">\n",
       "  <thead>\n",
       "    <tr style=\"text-align: right;\">\n",
       "      <th></th>\n",
       "      <th></th>\n",
       "      <th></th>\n",
       "      <th>N_conns_sum</th>\n",
       "      <th>T_connect_avg</th>\n",
       "      <th>VSize_sum</th>\n",
       "    </tr>\n",
       "    <tr>\n",
       "      <th>SCALE</th>\n",
       "      <th>THREADS_PER_TASK</th>\n",
       "      <th>NUMBER_OF_NODES</th>\n",
       "      <th></th>\n",
       "      <th></th>\n",
       "      <th></th>\n",
       "    </tr>\n",
       "  </thead>\n",
       "  <tbody>\n",
       "    <tr>\n",
       "      <th rowspan=\"3\" valign=\"top\">0.0625</th>\n",
       "      <th>4</th>\n",
       "      <th>1</th>\n",
       "      <td>94756223</td>\n",
       "      <td>8.303144</td>\n",
       "      <td>29724120</td>\n",
       "    </tr>\n",
       "    <tr>\n",
       "      <th>8</th>\n",
       "      <th>1</th>\n",
       "      <td>94756223</td>\n",
       "      <td>9.558792</td>\n",
       "      <td>26854488</td>\n",
       "    </tr>\n",
       "    <tr>\n",
       "      <th>12</th>\n",
       "      <th>1</th>\n",
       "      <td>94756223</td>\n",
       "      <td>10.672376</td>\n",
       "      <td>25748196</td>\n",
       "    </tr>\n",
       "    <tr>\n",
       "      <th rowspan=\"3\" valign=\"top\">0.1250</th>\n",
       "      <th>4</th>\n",
       "      <th>2</th>\n",
       "      <td>378005043</td>\n",
       "      <td>14.137301</td>\n",
       "      <td>70496096</td>\n",
       "    </tr>\n",
       "    <tr>\n",
       "      <th>8</th>\n",
       "      <th>2</th>\n",
       "      <td>378005043</td>\n",
       "      <td>16.970994</td>\n",
       "      <td>64343736</td>\n",
       "    </tr>\n",
       "    <tr>\n",
       "      <th>12</th>\n",
       "      <th>2</th>\n",
       "      <td>378005043</td>\n",
       "      <td>17.811317</td>\n",
       "      <td>61441836</td>\n",
       "    </tr>\n",
       "    <tr>\n",
       "      <th rowspan=\"3\" valign=\"top\">0.2500</th>\n",
       "      <th>4</th>\n",
       "      <th>4</th>\n",
       "      <td>1509968177</td>\n",
       "      <td>25.409213</td>\n",
       "      <td>185137768</td>\n",
       "    </tr>\n",
       "    <tr>\n",
       "      <th>8</th>\n",
       "      <th>4</th>\n",
       "      <td>1509968177</td>\n",
       "      <td>30.562368</td>\n",
       "      <td>174597844</td>\n",
       "    </tr>\n",
       "    <tr>\n",
       "      <th>12</th>\n",
       "      <th>4</th>\n",
       "      <td>1509968177</td>\n",
       "      <td>32.847020</td>\n",
       "      <td>167763380</td>\n",
       "    </tr>\n",
       "    <tr>\n",
       "      <th rowspan=\"3\" valign=\"top\">0.5000</th>\n",
       "      <th>4</th>\n",
       "      <th>8</th>\n",
       "      <td>6035755838</td>\n",
       "      <td>48.192471</td>\n",
       "      <td>548592472</td>\n",
       "    </tr>\n",
       "    <tr>\n",
       "      <th>8</th>\n",
       "      <th>8</th>\n",
       "      <td>6035755838</td>\n",
       "      <td>57.141467</td>\n",
       "      <td>514205756</td>\n",
       "    </tr>\n",
       "    <tr>\n",
       "      <th>12</th>\n",
       "      <th>8</th>\n",
       "      <td>6035755838</td>\n",
       "      <td>61.521174</td>\n",
       "      <td>474101912</td>\n",
       "    </tr>\n",
       "    <tr>\n",
       "      <th rowspan=\"3\" valign=\"top\">1.0000</th>\n",
       "      <th>4</th>\n",
       "      <th>16</th>\n",
       "      <td>24134776576</td>\n",
       "      <td>90.925531</td>\n",
       "      <td>1781781752</td>\n",
       "    </tr>\n",
       "    <tr>\n",
       "      <th>8</th>\n",
       "      <th>16</th>\n",
       "      <td>24134776576</td>\n",
       "      <td>107.590100</td>\n",
       "      <td>1532650104</td>\n",
       "    </tr>\n",
       "    <tr>\n",
       "      <th>12</th>\n",
       "      <th>16</th>\n",
       "      <td>24134776576</td>\n",
       "      <td>114.698663</td>\n",
       "      <td>1486488184</td>\n",
       "    </tr>\n",
       "  </tbody>\n",
       "</table>\n",
       "</div>"
      ],
      "text/plain": [
       "                                         N_conns_sum  T_connect_avg  \\\n",
       "SCALE  THREADS_PER_TASK NUMBER_OF_NODES                               \n",
       "0.0625 4                1                   94756223       8.303144   \n",
       "       8                1                   94756223       9.558792   \n",
       "       12               1                   94756223      10.672376   \n",
       "0.1250 4                2                  378005043      14.137301   \n",
       "       8                2                  378005043      16.970994   \n",
       "       12               2                  378005043      17.811317   \n",
       "0.2500 4                4                 1509968177      25.409213   \n",
       "       8                4                 1509968177      30.562368   \n",
       "       12               4                 1509968177      32.847020   \n",
       "0.5000 4                8                 6035755838      48.192471   \n",
       "       8                8                 6035755838      57.141467   \n",
       "       12               8                 6035755838      61.521174   \n",
       "1.0000 4                16               24134776576      90.925531   \n",
       "       8                16               24134776576     107.590100   \n",
       "       12               16               24134776576     114.698663   \n",
       "\n",
       "                                          VSize_sum  \n",
       "SCALE  THREADS_PER_TASK NUMBER_OF_NODES              \n",
       "0.0625 4                1                  29724120  \n",
       "       8                1                  26854488  \n",
       "       12               1                  25748196  \n",
       "0.1250 4                2                  70496096  \n",
       "       8                2                  64343736  \n",
       "       12               2                  61441836  \n",
       "0.2500 4                4                 185137768  \n",
       "       8                4                 174597844  \n",
       "       12               4                 167763380  \n",
       "0.5000 4                8                 548592472  \n",
       "       8                8                 514205756  \n",
       "       12               8                 474101912  \n",
       "1.0000 4                16               1781781752  \n",
       "       8                16               1532650104  \n",
       "       12               16               1486488184  "
      ]
     },
     "execution_count": 56,
     "metadata": {},
     "output_type": "execute_result"
    }
   ],
   "source": [
    "mam_pres"
   ]
  },
  {
   "cell_type": "code",
   "execution_count": 58,
   "metadata": {},
   "outputs": [
    {
     "data": {
      "text/plain": [
       "<matplotlib.axes._subplots.AxesSubplot at 0x7fbf63d225f8>"
      ]
     },
     "execution_count": 58,
     "metadata": {},
     "output_type": "execute_result"
    },
    {
     "data": {
      "image/png": "[encoded data removed]",
      "text/plain": [
       "<matplotlib.figure.Figure at 0x7fbf63b61ef0>"
      ]
     },
     "metadata": {},
     "output_type": "display_data"
    }
   ],
   "source": [
    "mam_pres['T_connect_avg'].plot(kind='bar', title='Average Connect times',\n",
    "                               color = ['r', 'g', 'b', 'm']*int(len(mam_pres)/4), figsize=(12,5))"
   ]
  },
  {
   "cell_type": "code",
   "execution_count": null,
   "metadata": {},
   "outputs": [],
   "source": [
    "mam_pres['VSize_sum'].plot(kind='bar', title='VSizeSum',\n",
    "                           color = ['r', 'g', 'b', 'm']*int(len(hpc_split_pres)/4), figsize=(12,5))"
   ]
  },
  {
   "cell_type": "code",
   "execution_count": null,
   "metadata": {},
   "outputs": [],
   "source": []
  },
  {
   "cell_type": "markdown",
   "metadata": {},
   "source": [
    "# 4x4 mesocircuit"
   ]
  },
  {
   "cell_type": "code",
   "execution_count": null,
   "metadata": {},
   "outputs": [],
   "source": [
    "meso_res = pd.concat([pd.read_csv(bench)\n",
    "                      for bench in glob.glob(mesocircuit_path)])"
   ]
  },
  {
   "cell_type": "code",
   "execution_count": null,
   "metadata": {},
   "outputs": [],
   "source": [
    "print(meso_res)"
   ]
  },
  {
   "cell_type": "code",
   "execution_count": null,
   "metadata": {},
   "outputs": [],
   "source": [
    "meso_pres = pd.pivot_table(meso_res, index=['SCALE','THREADS_PER_TASK', 'NUMBER_OF_NODES'],\n",
    "                           values=['T_conns_avg', 'VSize_sum', 'N_conns_sum'])"
   ]
  },
  {
   "cell_type": "code",
   "execution_count": null,
   "metadata": {},
   "outputs": [],
   "source": [
    "meso_pres"
   ]
  },
  {
   "cell_type": "code",
   "execution_count": null,
   "metadata": {},
   "outputs": [],
   "source": [
    "meso_pres['T_conns_avg'].plot(kind='bar', title='Average Connect times',\n",
    "                              color = ['r', 'g', 'b', 'm']*int(len(hpc_split_pres)/4), figsize=(12,5))"
   ]
  },
  {
   "cell_type": "code",
   "execution_count": null,
   "metadata": {},
   "outputs": [],
   "source": [
    "meso_pres['VSize_sum'].plot(kind='bar', title='VSize_sum',\n",
    "                            color = ['r', 'g', 'b', 'm']*int(len(hpc_split_pres)/4), figsize=(12,5))"
   ]
  },
  {
   "cell_type": "code",
   "execution_count": null,
   "metadata": {},
   "outputs": [],
   "source": []
  },
  {
   "cell_type": "code",
   "execution_count": null,
   "metadata": {},
   "outputs": [],
   "source": []
  }
 ],
 "metadata": {
  "kernelspec": {
   "display_name": "Python 3",
   "language": "python",
   "name": "python3"
  },
  "language_info": {
   "codemirror_mode": {
    "name": "ipython",
    "version": 3
   },
   "file_extension": ".py",
   "mimetype": "text/x-python",
   "name": "python",
   "nbconvert_exporter": "python",
   "pygments_lexer": "ipython3",
   "version": "3.6.4"
  }
 },
 "nbformat": 4,
 "nbformat_minor": 2
}
